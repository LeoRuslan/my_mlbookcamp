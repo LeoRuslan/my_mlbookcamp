{
 "cells": [
  {
   "cell_type": "markdown",
   "metadata": {},
   "source": [
    " \n",
    "* **Company** - *String* - Laptop Manufacturer\n",
    "* **Product** - *String* - Brand and Model\n",
    "* **TypeName** - *String* - Type (Notebook, Ultrabook, Gaming, etc.)\n",
    "* **Inches** - *Numeric* - Screen Size\n",
    "* **ScreenResolution** - *String* - Screen Resolution\n",
    "* **Cpu** - *String* - Central Processing Unit (CPU)\n",
    "* **Ram** - *String* - Laptop RAM\n",
    "* **Memory** - *String* - Hard Disk / SSD Memory\n",
    "* **GPU** - *String* - Graphics Processing Units (GPU)\n",
    "* **OpSys** - *String* - Operating System\n",
    "* **Weight** - *String* - Laptop Weight\n",
    "* **Price_euros** - *Numeric* - Price (Euro)\n"
   ]
  },
  {
   "cell_type": "code",
   "execution_count": 1,
   "metadata": {
    "execution": {
     "iopub.execute_input": "2021-10-28T19:37:21.099508Z",
     "iopub.status.busy": "2021-10-28T19:37:21.099132Z",
     "iopub.status.idle": "2021-10-28T19:37:21.109921Z",
     "shell.execute_reply": "2021-10-28T19:37:21.109079Z",
     "shell.execute_reply.started": "2021-10-28T19:37:21.099472Z"
    }
   },
   "outputs": [],
   "source": [
    "import numpy as np \n",
    "import pandas as pd \n",
    "import re"
   ]
  },
  {
   "cell_type": "code",
   "execution_count": 2,
   "metadata": {
    "execution": {
     "iopub.execute_input": "2021-10-28T19:37:21.111520Z",
     "iopub.status.busy": "2021-10-28T19:37:21.111146Z",
     "iopub.status.idle": "2021-10-28T19:37:21.125022Z",
     "shell.execute_reply": "2021-10-28T19:37:21.124326Z",
     "shell.execute_reply.started": "2021-10-28T19:37:21.111490Z"
    }
   },
   "outputs": [],
   "source": [
    "import seaborn as sns\n",
    "from matplotlib import pyplot as plt\n",
    "\n",
    "from pylab import rcParams\n",
    "rcParams['figure.figsize'] = 16, 10 "
   ]
  },
  {
   "cell_type": "code",
   "execution_count": 3,
   "metadata": {
    "execution": {
     "iopub.execute_input": "2021-10-28T19:37:21.126542Z",
     "iopub.status.busy": "2021-10-28T19:37:21.126047Z",
     "iopub.status.idle": "2021-10-28T19:37:21.137092Z",
     "shell.execute_reply": "2021-10-28T19:37:21.136460Z",
     "shell.execute_reply.started": "2021-10-28T19:37:21.126508Z"
    }
   },
   "outputs": [],
   "source": [
    "from sklearn.feature_extraction import DictVectorizer"
   ]
  },
  {
   "cell_type": "code",
   "execution_count": 4,
   "metadata": {
    "execution": {
     "iopub.execute_input": "2021-10-28T19:37:21.138898Z",
     "iopub.status.busy": "2021-10-28T19:37:21.138559Z",
     "iopub.status.idle": "2021-10-28T19:37:21.957827Z",
     "shell.execute_reply": "2021-10-28T19:37:21.956835Z",
     "shell.execute_reply.started": "2021-10-28T19:37:21.138869Z"
    }
   },
   "outputs": [
    {
     "name": "stdout",
     "output_type": "stream",
     "text": [
      "laptop_price.csv notebook.ipynb\r\n"
     ]
    }
   ],
   "source": [
    "!ls"
   ]
  },
  {
   "cell_type": "code",
   "execution_count": 5,
   "metadata": {
    "execution": {
     "iopub.execute_input": "2021-10-28T19:37:21.959658Z",
     "iopub.status.busy": "2021-10-28T19:37:21.959398Z",
     "iopub.status.idle": "2021-10-28T19:37:21.989571Z",
     "shell.execute_reply": "2021-10-28T19:37:21.988564Z",
     "shell.execute_reply.started": "2021-10-28T19:37:21.959624Z"
    }
   },
   "outputs": [
    {
     "data": {
      "text/html": [
       "<div>\n",
       "<style scoped>\n",
       "    .dataframe tbody tr th:only-of-type {\n",
       "        vertical-align: middle;\n",
       "    }\n",
       "\n",
       "    .dataframe tbody tr th {\n",
       "        vertical-align: top;\n",
       "    }\n",
       "\n",
       "    .dataframe thead th {\n",
       "        text-align: right;\n",
       "    }\n",
       "</style>\n",
       "<table border=\"1\" class=\"dataframe\">\n",
       "  <thead>\n",
       "    <tr style=\"text-align: right;\">\n",
       "      <th></th>\n",
       "      <th>laptop_ID</th>\n",
       "      <th>Company</th>\n",
       "      <th>Product</th>\n",
       "      <th>TypeName</th>\n",
       "      <th>Inches</th>\n",
       "      <th>ScreenResolution</th>\n",
       "      <th>Cpu</th>\n",
       "      <th>Ram</th>\n",
       "      <th>Memory</th>\n",
       "      <th>Gpu</th>\n",
       "      <th>OpSys</th>\n",
       "      <th>Weight</th>\n",
       "      <th>Price_euros</th>\n",
       "    </tr>\n",
       "  </thead>\n",
       "  <tbody>\n",
       "    <tr>\n",
       "      <th>0</th>\n",
       "      <td>1</td>\n",
       "      <td>Apple</td>\n",
       "      <td>MacBook Pro</td>\n",
       "      <td>Ultrabook</td>\n",
       "      <td>13.3</td>\n",
       "      <td>IPS Panel Retina Display 2560x1600</td>\n",
       "      <td>Intel Core i5 2.3GHz</td>\n",
       "      <td>8GB</td>\n",
       "      <td>128GB SSD</td>\n",
       "      <td>Intel Iris Plus Graphics 640</td>\n",
       "      <td>macOS</td>\n",
       "      <td>1.37kg</td>\n",
       "      <td>1339.69</td>\n",
       "    </tr>\n",
       "    <tr>\n",
       "      <th>1</th>\n",
       "      <td>2</td>\n",
       "      <td>Apple</td>\n",
       "      <td>Macbook Air</td>\n",
       "      <td>Ultrabook</td>\n",
       "      <td>13.3</td>\n",
       "      <td>1440x900</td>\n",
       "      <td>Intel Core i5 1.8GHz</td>\n",
       "      <td>8GB</td>\n",
       "      <td>128GB Flash Storage</td>\n",
       "      <td>Intel HD Graphics 6000</td>\n",
       "      <td>macOS</td>\n",
       "      <td>1.34kg</td>\n",
       "      <td>898.94</td>\n",
       "    </tr>\n",
       "    <tr>\n",
       "      <th>2</th>\n",
       "      <td>3</td>\n",
       "      <td>HP</td>\n",
       "      <td>250 G6</td>\n",
       "      <td>Notebook</td>\n",
       "      <td>15.6</td>\n",
       "      <td>Full HD 1920x1080</td>\n",
       "      <td>Intel Core i5 7200U 2.5GHz</td>\n",
       "      <td>8GB</td>\n",
       "      <td>256GB SSD</td>\n",
       "      <td>Intel HD Graphics 620</td>\n",
       "      <td>No OS</td>\n",
       "      <td>1.86kg</td>\n",
       "      <td>575.00</td>\n",
       "    </tr>\n",
       "    <tr>\n",
       "      <th>3</th>\n",
       "      <td>4</td>\n",
       "      <td>Apple</td>\n",
       "      <td>MacBook Pro</td>\n",
       "      <td>Ultrabook</td>\n",
       "      <td>15.4</td>\n",
       "      <td>IPS Panel Retina Display 2880x1800</td>\n",
       "      <td>Intel Core i7 2.7GHz</td>\n",
       "      <td>16GB</td>\n",
       "      <td>512GB SSD</td>\n",
       "      <td>AMD Radeon Pro 455</td>\n",
       "      <td>macOS</td>\n",
       "      <td>1.83kg</td>\n",
       "      <td>2537.45</td>\n",
       "    </tr>\n",
       "    <tr>\n",
       "      <th>4</th>\n",
       "      <td>5</td>\n",
       "      <td>Apple</td>\n",
       "      <td>MacBook Pro</td>\n",
       "      <td>Ultrabook</td>\n",
       "      <td>13.3</td>\n",
       "      <td>IPS Panel Retina Display 2560x1600</td>\n",
       "      <td>Intel Core i5 3.1GHz</td>\n",
       "      <td>8GB</td>\n",
       "      <td>256GB SSD</td>\n",
       "      <td>Intel Iris Plus Graphics 650</td>\n",
       "      <td>macOS</td>\n",
       "      <td>1.37kg</td>\n",
       "      <td>1803.60</td>\n",
       "    </tr>\n",
       "  </tbody>\n",
       "</table>\n",
       "</div>"
      ],
      "text/plain": [
       "   laptop_ID Company      Product   TypeName  Inches  \\\n",
       "0          1   Apple  MacBook Pro  Ultrabook    13.3   \n",
       "1          2   Apple  Macbook Air  Ultrabook    13.3   \n",
       "2          3      HP       250 G6   Notebook    15.6   \n",
       "3          4   Apple  MacBook Pro  Ultrabook    15.4   \n",
       "4          5   Apple  MacBook Pro  Ultrabook    13.3   \n",
       "\n",
       "                     ScreenResolution                         Cpu   Ram  \\\n",
       "0  IPS Panel Retina Display 2560x1600        Intel Core i5 2.3GHz   8GB   \n",
       "1                            1440x900        Intel Core i5 1.8GHz   8GB   \n",
       "2                   Full HD 1920x1080  Intel Core i5 7200U 2.5GHz   8GB   \n",
       "3  IPS Panel Retina Display 2880x1800        Intel Core i7 2.7GHz  16GB   \n",
       "4  IPS Panel Retina Display 2560x1600        Intel Core i5 3.1GHz   8GB   \n",
       "\n",
       "                Memory                           Gpu  OpSys  Weight  \\\n",
       "0            128GB SSD  Intel Iris Plus Graphics 640  macOS  1.37kg   \n",
       "1  128GB Flash Storage        Intel HD Graphics 6000  macOS  1.34kg   \n",
       "2            256GB SSD         Intel HD Graphics 620  No OS  1.86kg   \n",
       "3            512GB SSD            AMD Radeon Pro 455  macOS  1.83kg   \n",
       "4            256GB SSD  Intel Iris Plus Graphics 650  macOS  1.37kg   \n",
       "\n",
       "   Price_euros  \n",
       "0      1339.69  \n",
       "1       898.94  \n",
       "2       575.00  \n",
       "3      2537.45  \n",
       "4      1803.60  "
      ]
     },
     "execution_count": 5,
     "metadata": {},
     "output_type": "execute_result"
    }
   ],
   "source": [
    "df = pd.read_csv('laptop_price.csv', encoding = \"ISO-8859-1\")\n",
    "df.head()"
   ]
  },
  {
   "cell_type": "code",
   "execution_count": 6,
   "metadata": {
    "execution": {
     "iopub.execute_input": "2021-10-28T19:37:21.990954Z",
     "iopub.status.busy": "2021-10-28T19:37:21.990731Z",
     "iopub.status.idle": "2021-10-28T19:37:22.006300Z",
     "shell.execute_reply": "2021-10-28T19:37:22.005130Z",
     "shell.execute_reply.started": "2021-10-28T19:37:21.990928Z"
    }
   },
   "outputs": [
    {
     "name": "stdout",
     "output_type": "stream",
     "text": [
      "<class 'pandas.core.frame.DataFrame'>\n",
      "RangeIndex: 1303 entries, 0 to 1302\n",
      "Data columns (total 13 columns):\n",
      " #   Column            Non-Null Count  Dtype  \n",
      "---  ------            --------------  -----  \n",
      " 0   laptop_ID         1303 non-null   int64  \n",
      " 1   Company           1303 non-null   object \n",
      " 2   Product           1303 non-null   object \n",
      " 3   TypeName          1303 non-null   object \n",
      " 4   Inches            1303 non-null   float64\n",
      " 5   ScreenResolution  1303 non-null   object \n",
      " 6   Cpu               1303 non-null   object \n",
      " 7   Ram               1303 non-null   object \n",
      " 8   Memory            1303 non-null   object \n",
      " 9   Gpu               1303 non-null   object \n",
      " 10  OpSys             1303 non-null   object \n",
      " 11  Weight            1303 non-null   object \n",
      " 12  Price_euros       1303 non-null   float64\n",
      "dtypes: float64(2), int64(1), object(10)\n",
      "memory usage: 132.5+ KB\n"
     ]
    }
   ],
   "source": [
    "df.info()"
   ]
  },
  {
   "cell_type": "code",
   "execution_count": null,
   "metadata": {},
   "outputs": [],
   "source": []
  },
  {
   "cell_type": "markdown",
   "metadata": {},
   "source": [
    "## preparation dataset to one style"
   ]
  },
  {
   "cell_type": "code",
   "execution_count": 7,
   "metadata": {
    "execution": {
     "iopub.execute_input": "2021-10-28T19:37:22.007783Z",
     "iopub.status.busy": "2021-10-28T19:37:22.007428Z",
     "iopub.status.idle": "2021-10-28T19:37:22.015075Z",
     "shell.execute_reply": "2021-10-28T19:37:22.014125Z",
     "shell.execute_reply.started": "2021-10-28T19:37:22.007752Z"
    }
   },
   "outputs": [
    {
     "data": {
      "text/plain": [
       "Index(['laptop_id', 'company', 'product', 'typename', 'inches',\n",
       "       'screenresolution', 'cpu', 'ram', 'memory', 'gpu', 'opsys', 'weight',\n",
       "       'price_euros'],\n",
       "      dtype='object')"
      ]
     },
     "execution_count": 7,
     "metadata": {},
     "output_type": "execute_result"
    }
   ],
   "source": [
    "df.columns = df.columns.str.lower().str.replace(' ', '_')\n",
    "df.columns"
   ]
  },
  {
   "cell_type": "code",
   "execution_count": 8,
   "metadata": {
    "execution": {
     "iopub.execute_input": "2021-10-28T19:37:22.017529Z",
     "iopub.status.busy": "2021-10-28T19:37:22.017315Z",
     "iopub.status.idle": "2021-10-28T19:37:22.041275Z",
     "shell.execute_reply": "2021-10-28T19:37:22.040607Z",
     "shell.execute_reply.started": "2021-10-28T19:37:22.017504Z"
    }
   },
   "outputs": [
    {
     "data": {
      "text/html": [
       "<div>\n",
       "<style scoped>\n",
       "    .dataframe tbody tr th:only-of-type {\n",
       "        vertical-align: middle;\n",
       "    }\n",
       "\n",
       "    .dataframe tbody tr th {\n",
       "        vertical-align: top;\n",
       "    }\n",
       "\n",
       "    .dataframe thead th {\n",
       "        text-align: right;\n",
       "    }\n",
       "</style>\n",
       "<table border=\"1\" class=\"dataframe\">\n",
       "  <thead>\n",
       "    <tr style=\"text-align: right;\">\n",
       "      <th></th>\n",
       "      <th>company</th>\n",
       "      <th>product</th>\n",
       "      <th>typename</th>\n",
       "      <th>inches</th>\n",
       "      <th>screenresolution</th>\n",
       "      <th>cpu</th>\n",
       "      <th>ram</th>\n",
       "      <th>memory</th>\n",
       "      <th>gpu</th>\n",
       "      <th>opsys</th>\n",
       "      <th>weight</th>\n",
       "      <th>price_euros</th>\n",
       "    </tr>\n",
       "  </thead>\n",
       "  <tbody>\n",
       "    <tr>\n",
       "      <th>0</th>\n",
       "      <td>Apple</td>\n",
       "      <td>MacBook Pro</td>\n",
       "      <td>Ultrabook</td>\n",
       "      <td>13.3</td>\n",
       "      <td>IPS Panel Retina Display 2560x1600</td>\n",
       "      <td>Intel Core i5 2.3GHz</td>\n",
       "      <td>8GB</td>\n",
       "      <td>128GB SSD</td>\n",
       "      <td>Intel Iris Plus Graphics 640</td>\n",
       "      <td>macOS</td>\n",
       "      <td>1.37kg</td>\n",
       "      <td>1339.69</td>\n",
       "    </tr>\n",
       "    <tr>\n",
       "      <th>1</th>\n",
       "      <td>Apple</td>\n",
       "      <td>Macbook Air</td>\n",
       "      <td>Ultrabook</td>\n",
       "      <td>13.3</td>\n",
       "      <td>1440x900</td>\n",
       "      <td>Intel Core i5 1.8GHz</td>\n",
       "      <td>8GB</td>\n",
       "      <td>128GB Flash Storage</td>\n",
       "      <td>Intel HD Graphics 6000</td>\n",
       "      <td>macOS</td>\n",
       "      <td>1.34kg</td>\n",
       "      <td>898.94</td>\n",
       "    </tr>\n",
       "    <tr>\n",
       "      <th>2</th>\n",
       "      <td>HP</td>\n",
       "      <td>250 G6</td>\n",
       "      <td>Notebook</td>\n",
       "      <td>15.6</td>\n",
       "      <td>Full HD 1920x1080</td>\n",
       "      <td>Intel Core i5 7200U 2.5GHz</td>\n",
       "      <td>8GB</td>\n",
       "      <td>256GB SSD</td>\n",
       "      <td>Intel HD Graphics 620</td>\n",
       "      <td>No OS</td>\n",
       "      <td>1.86kg</td>\n",
       "      <td>575.00</td>\n",
       "    </tr>\n",
       "    <tr>\n",
       "      <th>3</th>\n",
       "      <td>Apple</td>\n",
       "      <td>MacBook Pro</td>\n",
       "      <td>Ultrabook</td>\n",
       "      <td>15.4</td>\n",
       "      <td>IPS Panel Retina Display 2880x1800</td>\n",
       "      <td>Intel Core i7 2.7GHz</td>\n",
       "      <td>16GB</td>\n",
       "      <td>512GB SSD</td>\n",
       "      <td>AMD Radeon Pro 455</td>\n",
       "      <td>macOS</td>\n",
       "      <td>1.83kg</td>\n",
       "      <td>2537.45</td>\n",
       "    </tr>\n",
       "    <tr>\n",
       "      <th>4</th>\n",
       "      <td>Apple</td>\n",
       "      <td>MacBook Pro</td>\n",
       "      <td>Ultrabook</td>\n",
       "      <td>13.3</td>\n",
       "      <td>IPS Panel Retina Display 2560x1600</td>\n",
       "      <td>Intel Core i5 3.1GHz</td>\n",
       "      <td>8GB</td>\n",
       "      <td>256GB SSD</td>\n",
       "      <td>Intel Iris Plus Graphics 650</td>\n",
       "      <td>macOS</td>\n",
       "      <td>1.37kg</td>\n",
       "      <td>1803.60</td>\n",
       "    </tr>\n",
       "  </tbody>\n",
       "</table>\n",
       "</div>"
      ],
      "text/plain": [
       "  company      product   typename  inches                    screenresolution  \\\n",
       "0   Apple  MacBook Pro  Ultrabook    13.3  IPS Panel Retina Display 2560x1600   \n",
       "1   Apple  Macbook Air  Ultrabook    13.3                            1440x900   \n",
       "2      HP       250 G6   Notebook    15.6                   Full HD 1920x1080   \n",
       "3   Apple  MacBook Pro  Ultrabook    15.4  IPS Panel Retina Display 2880x1800   \n",
       "4   Apple  MacBook Pro  Ultrabook    13.3  IPS Panel Retina Display 2560x1600   \n",
       "\n",
       "                          cpu   ram               memory  \\\n",
       "0        Intel Core i5 2.3GHz   8GB            128GB SSD   \n",
       "1        Intel Core i5 1.8GHz   8GB  128GB Flash Storage   \n",
       "2  Intel Core i5 7200U 2.5GHz   8GB            256GB SSD   \n",
       "3        Intel Core i7 2.7GHz  16GB            512GB SSD   \n",
       "4        Intel Core i5 3.1GHz   8GB            256GB SSD   \n",
       "\n",
       "                            gpu  opsys  weight  price_euros  \n",
       "0  Intel Iris Plus Graphics 640  macOS  1.37kg      1339.69  \n",
       "1        Intel HD Graphics 6000  macOS  1.34kg       898.94  \n",
       "2         Intel HD Graphics 620  No OS  1.86kg       575.00  \n",
       "3            AMD Radeon Pro 455  macOS  1.83kg      2537.45  \n",
       "4  Intel Iris Plus Graphics 650  macOS  1.37kg      1803.60  "
      ]
     },
     "execution_count": 8,
     "metadata": {},
     "output_type": "execute_result"
    }
   ],
   "source": [
    "# drop `laptop_id`\n",
    "df = df.drop('laptop_id', axis=1)\n",
    "df.head()"
   ]
  },
  {
   "cell_type": "code",
   "execution_count": 9,
   "metadata": {
    "execution": {
     "iopub.execute_input": "2021-10-28T19:37:22.042690Z",
     "iopub.status.busy": "2021-10-28T19:37:22.042332Z",
     "iopub.status.idle": "2021-10-28T19:37:22.069986Z",
     "shell.execute_reply": "2021-10-28T19:37:22.069219Z",
     "shell.execute_reply.started": "2021-10-28T19:37:22.042661Z"
    }
   },
   "outputs": [
    {
     "data": {
      "text/html": [
       "<div>\n",
       "<style scoped>\n",
       "    .dataframe tbody tr th:only-of-type {\n",
       "        vertical-align: middle;\n",
       "    }\n",
       "\n",
       "    .dataframe tbody tr th {\n",
       "        vertical-align: top;\n",
       "    }\n",
       "\n",
       "    .dataframe thead th {\n",
       "        text-align: right;\n",
       "    }\n",
       "</style>\n",
       "<table border=\"1\" class=\"dataframe\">\n",
       "  <thead>\n",
       "    <tr style=\"text-align: right;\">\n",
       "      <th></th>\n",
       "      <th>company</th>\n",
       "      <th>product</th>\n",
       "      <th>typename</th>\n",
       "      <th>inches</th>\n",
       "      <th>screenresolution</th>\n",
       "      <th>cpu</th>\n",
       "      <th>ram</th>\n",
       "      <th>memory</th>\n",
       "      <th>gpu</th>\n",
       "      <th>opsys</th>\n",
       "      <th>weight</th>\n",
       "      <th>price_euros</th>\n",
       "    </tr>\n",
       "  </thead>\n",
       "  <tbody>\n",
       "    <tr>\n",
       "      <th>0</th>\n",
       "      <td>apple</td>\n",
       "      <td>macbook pro</td>\n",
       "      <td>ultrabook</td>\n",
       "      <td>13.3</td>\n",
       "      <td>ips panel retina display 2560x1600</td>\n",
       "      <td>intel core i5 2.3ghz</td>\n",
       "      <td>8gb</td>\n",
       "      <td>128gb ssd</td>\n",
       "      <td>intel iris plus graphics 640</td>\n",
       "      <td>macos</td>\n",
       "      <td>1.37kg</td>\n",
       "      <td>1339.69</td>\n",
       "    </tr>\n",
       "    <tr>\n",
       "      <th>1</th>\n",
       "      <td>apple</td>\n",
       "      <td>macbook air</td>\n",
       "      <td>ultrabook</td>\n",
       "      <td>13.3</td>\n",
       "      <td>1440x900</td>\n",
       "      <td>intel core i5 1.8ghz</td>\n",
       "      <td>8gb</td>\n",
       "      <td>128gb flash storage</td>\n",
       "      <td>intel hd graphics 6000</td>\n",
       "      <td>macos</td>\n",
       "      <td>1.34kg</td>\n",
       "      <td>898.94</td>\n",
       "    </tr>\n",
       "    <tr>\n",
       "      <th>2</th>\n",
       "      <td>hp</td>\n",
       "      <td>250 g6</td>\n",
       "      <td>notebook</td>\n",
       "      <td>15.6</td>\n",
       "      <td>full hd 1920x1080</td>\n",
       "      <td>intel core i5 7200u 2.5ghz</td>\n",
       "      <td>8gb</td>\n",
       "      <td>256gb ssd</td>\n",
       "      <td>intel hd graphics 620</td>\n",
       "      <td>no os</td>\n",
       "      <td>1.86kg</td>\n",
       "      <td>575.00</td>\n",
       "    </tr>\n",
       "    <tr>\n",
       "      <th>3</th>\n",
       "      <td>apple</td>\n",
       "      <td>macbook pro</td>\n",
       "      <td>ultrabook</td>\n",
       "      <td>15.4</td>\n",
       "      <td>ips panel retina display 2880x1800</td>\n",
       "      <td>intel core i7 2.7ghz</td>\n",
       "      <td>16gb</td>\n",
       "      <td>512gb ssd</td>\n",
       "      <td>amd radeon pro 455</td>\n",
       "      <td>macos</td>\n",
       "      <td>1.83kg</td>\n",
       "      <td>2537.45</td>\n",
       "    </tr>\n",
       "    <tr>\n",
       "      <th>4</th>\n",
       "      <td>apple</td>\n",
       "      <td>macbook pro</td>\n",
       "      <td>ultrabook</td>\n",
       "      <td>13.3</td>\n",
       "      <td>ips panel retina display 2560x1600</td>\n",
       "      <td>intel core i5 3.1ghz</td>\n",
       "      <td>8gb</td>\n",
       "      <td>256gb ssd</td>\n",
       "      <td>intel iris plus graphics 650</td>\n",
       "      <td>macos</td>\n",
       "      <td>1.37kg</td>\n",
       "      <td>1803.60</td>\n",
       "    </tr>\n",
       "  </tbody>\n",
       "</table>\n",
       "</div>"
      ],
      "text/plain": [
       "  company      product   typename  inches                    screenresolution  \\\n",
       "0   apple  macbook pro  ultrabook    13.3  ips panel retina display 2560x1600   \n",
       "1   apple  macbook air  ultrabook    13.3                            1440x900   \n",
       "2      hp       250 g6   notebook    15.6                   full hd 1920x1080   \n",
       "3   apple  macbook pro  ultrabook    15.4  ips panel retina display 2880x1800   \n",
       "4   apple  macbook pro  ultrabook    13.3  ips panel retina display 2560x1600   \n",
       "\n",
       "                          cpu   ram               memory  \\\n",
       "0        intel core i5 2.3ghz   8gb            128gb ssd   \n",
       "1        intel core i5 1.8ghz   8gb  128gb flash storage   \n",
       "2  intel core i5 7200u 2.5ghz   8gb            256gb ssd   \n",
       "3        intel core i7 2.7ghz  16gb            512gb ssd   \n",
       "4        intel core i5 3.1ghz   8gb            256gb ssd   \n",
       "\n",
       "                            gpu  opsys  weight  price_euros  \n",
       "0  intel iris plus graphics 640  macos  1.37kg      1339.69  \n",
       "1        intel hd graphics 6000  macos  1.34kg       898.94  \n",
       "2         intel hd graphics 620  no os  1.86kg       575.00  \n",
       "3            amd radeon pro 455  macos  1.83kg      2537.45  \n",
       "4  intel iris plus graphics 650  macos  1.37kg      1803.60  "
      ]
     },
     "execution_count": 9,
     "metadata": {},
     "output_type": "execute_result"
    }
   ],
   "source": [
    "categorical_columns = list(df.dtypes[df.dtypes == 'object'].index)\n",
    "\n",
    "for c in categorical_columns:\n",
    "    df[c] = df[c].str.lower()\n",
    "df.head()"
   ]
  },
  {
   "cell_type": "code",
   "execution_count": null,
   "metadata": {},
   "outputs": [],
   "source": []
  },
  {
   "cell_type": "markdown",
   "metadata": {},
   "source": [
    "## EDA"
   ]
  },
  {
   "cell_type": "code",
   "execution_count": 10,
   "metadata": {
    "execution": {
     "iopub.execute_input": "2021-10-28T19:37:22.071545Z",
     "iopub.status.busy": "2021-10-28T19:37:22.071336Z",
     "iopub.status.idle": "2021-10-28T19:37:22.079404Z",
     "shell.execute_reply": "2021-10-28T19:37:22.078707Z",
     "shell.execute_reply.started": "2021-10-28T19:37:22.071519Z"
    }
   },
   "outputs": [
    {
     "data": {
      "text/plain": [
       "company             0\n",
       "product             0\n",
       "typename            0\n",
       "inches              0\n",
       "screenresolution    0\n",
       "cpu                 0\n",
       "ram                 0\n",
       "memory              0\n",
       "gpu                 0\n",
       "opsys               0\n",
       "weight              0\n",
       "price_euros         0\n",
       "dtype: int64"
      ]
     },
     "execution_count": 10,
     "metadata": {},
     "output_type": "execute_result"
    }
   ],
   "source": [
    "# Chech missing values.\n",
    "df.isnull().sum()"
   ]
  },
  {
   "cell_type": "code",
   "execution_count": 11,
   "metadata": {
    "execution": {
     "iopub.execute_input": "2021-10-28T19:37:22.080891Z",
     "iopub.status.busy": "2021-10-28T19:37:22.080518Z",
     "iopub.status.idle": "2021-10-28T19:37:22.121694Z",
     "shell.execute_reply": "2021-10-28T19:37:22.120875Z",
     "shell.execute_reply.started": "2021-10-28T19:37:22.080861Z"
    }
   },
   "outputs": [
    {
     "data": {
      "text/html": [
       "<div>\n",
       "<style scoped>\n",
       "    .dataframe tbody tr th:only-of-type {\n",
       "        vertical-align: middle;\n",
       "    }\n",
       "\n",
       "    .dataframe tbody tr th {\n",
       "        vertical-align: top;\n",
       "    }\n",
       "\n",
       "    .dataframe thead th {\n",
       "        text-align: right;\n",
       "    }\n",
       "</style>\n",
       "<table border=\"1\" class=\"dataframe\">\n",
       "  <thead>\n",
       "    <tr style=\"text-align: right;\">\n",
       "      <th></th>\n",
       "      <th>company</th>\n",
       "      <th>product</th>\n",
       "      <th>typename</th>\n",
       "      <th>inches</th>\n",
       "      <th>screenresolution</th>\n",
       "      <th>cpu</th>\n",
       "      <th>ram</th>\n",
       "      <th>memory</th>\n",
       "      <th>gpu</th>\n",
       "      <th>opsys</th>\n",
       "      <th>weight</th>\n",
       "      <th>price_euros</th>\n",
       "    </tr>\n",
       "  </thead>\n",
       "  <tbody>\n",
       "    <tr>\n",
       "      <th>1287</th>\n",
       "      <td>hp</td>\n",
       "      <td>15-ac110nv (i7-6500u/6gb/1tb/radeon</td>\n",
       "      <td>notebook</td>\n",
       "      <td>15.6</td>\n",
       "      <td>1366x768</td>\n",
       "      <td>intel core i7 6500u 2.5ghz</td>\n",
       "      <td>6gb</td>\n",
       "      <td>1tb hdd</td>\n",
       "      <td>amd radeon r5 m330</td>\n",
       "      <td>windows 10</td>\n",
       "      <td>2.19kg</td>\n",
       "      <td>764.00</td>\n",
       "    </tr>\n",
       "    <tr>\n",
       "      <th>1301</th>\n",
       "      <td>hp</td>\n",
       "      <td>15-ac110nv (i7-6500u/6gb/1tb/radeon</td>\n",
       "      <td>notebook</td>\n",
       "      <td>15.6</td>\n",
       "      <td>1366x768</td>\n",
       "      <td>intel core i7 6500u 2.5ghz</td>\n",
       "      <td>6gb</td>\n",
       "      <td>1tb hdd</td>\n",
       "      <td>amd radeon r5 m330</td>\n",
       "      <td>windows 10</td>\n",
       "      <td>2.19kg</td>\n",
       "      <td>764.00</td>\n",
       "    </tr>\n",
       "    <tr>\n",
       "      <th>1273</th>\n",
       "      <td>hp</td>\n",
       "      <td>15-ac110nv (i7-6500u/6gb/1tb/radeon</td>\n",
       "      <td>notebook</td>\n",
       "      <td>15.6</td>\n",
       "      <td>1366x768</td>\n",
       "      <td>intel core i7 6500u 2.5ghz</td>\n",
       "      <td>6gb</td>\n",
       "      <td>1tb hdd</td>\n",
       "      <td>amd radeon r5 m330</td>\n",
       "      <td>windows 10</td>\n",
       "      <td>2.19kg</td>\n",
       "      <td>764.00</td>\n",
       "    </tr>\n",
       "    <tr>\n",
       "      <th>1263</th>\n",
       "      <td>acer</td>\n",
       "      <td>aspire es1-531</td>\n",
       "      <td>notebook</td>\n",
       "      <td>15.6</td>\n",
       "      <td>1366x768</td>\n",
       "      <td>intel celeron dual core n3060 1.6ghz</td>\n",
       "      <td>4gb</td>\n",
       "      <td>500gb hdd</td>\n",
       "      <td>intel hd graphics 400</td>\n",
       "      <td>linux</td>\n",
       "      <td>2.4kg</td>\n",
       "      <td>289.00</td>\n",
       "    </tr>\n",
       "    <tr>\n",
       "      <th>1291</th>\n",
       "      <td>acer</td>\n",
       "      <td>aspire es1-531</td>\n",
       "      <td>notebook</td>\n",
       "      <td>15.6</td>\n",
       "      <td>1366x768</td>\n",
       "      <td>intel celeron dual core n3060 1.6ghz</td>\n",
       "      <td>4gb</td>\n",
       "      <td>500gb hdd</td>\n",
       "      <td>intel hd graphics 400</td>\n",
       "      <td>linux</td>\n",
       "      <td>2.4kg</td>\n",
       "      <td>289.00</td>\n",
       "    </tr>\n",
       "    <tr>\n",
       "      <th>1277</th>\n",
       "      <td>acer</td>\n",
       "      <td>aspire es1-531</td>\n",
       "      <td>notebook</td>\n",
       "      <td>15.6</td>\n",
       "      <td>1366x768</td>\n",
       "      <td>intel celeron dual core n3060 1.6ghz</td>\n",
       "      <td>4gb</td>\n",
       "      <td>500gb hdd</td>\n",
       "      <td>intel hd graphics 400</td>\n",
       "      <td>linux</td>\n",
       "      <td>2.4kg</td>\n",
       "      <td>289.00</td>\n",
       "    </tr>\n",
       "    <tr>\n",
       "      <th>1300</th>\n",
       "      <td>lenovo</td>\n",
       "      <td>ideapad 100s-14ibr</td>\n",
       "      <td>notebook</td>\n",
       "      <td>14.0</td>\n",
       "      <td>1366x768</td>\n",
       "      <td>intel celeron dual core n3050 1.6ghz</td>\n",
       "      <td>2gb</td>\n",
       "      <td>64gb flash storage</td>\n",
       "      <td>intel hd graphics</td>\n",
       "      <td>windows 10</td>\n",
       "      <td>1.5kg</td>\n",
       "      <td>229.00</td>\n",
       "    </tr>\n",
       "    <tr>\n",
       "      <th>1272</th>\n",
       "      <td>lenovo</td>\n",
       "      <td>ideapad 100s-14ibr</td>\n",
       "      <td>notebook</td>\n",
       "      <td>14.0</td>\n",
       "      <td>1366x768</td>\n",
       "      <td>intel celeron dual core n3050 1.6ghz</td>\n",
       "      <td>2gb</td>\n",
       "      <td>64gb flash storage</td>\n",
       "      <td>intel hd graphics</td>\n",
       "      <td>windows 10</td>\n",
       "      <td>1.5kg</td>\n",
       "      <td>229.00</td>\n",
       "    </tr>\n",
       "    <tr>\n",
       "      <th>1286</th>\n",
       "      <td>lenovo</td>\n",
       "      <td>ideapad 100s-14ibr</td>\n",
       "      <td>notebook</td>\n",
       "      <td>14.0</td>\n",
       "      <td>1366x768</td>\n",
       "      <td>intel celeron dual core n3050 1.6ghz</td>\n",
       "      <td>2gb</td>\n",
       "      <td>64gb flash storage</td>\n",
       "      <td>intel hd graphics</td>\n",
       "      <td>windows 10</td>\n",
       "      <td>1.5kg</td>\n",
       "      <td>229.00</td>\n",
       "    </tr>\n",
       "    <tr>\n",
       "      <th>1265</th>\n",
       "      <td>lenovo</td>\n",
       "      <td>ideapad y700-15isk</td>\n",
       "      <td>notebook</td>\n",
       "      <td>15.6</td>\n",
       "      <td>ips panel full hd 1920x1080</td>\n",
       "      <td>intel core i7 6700hq 2.6ghz</td>\n",
       "      <td>8gb</td>\n",
       "      <td>1tb hdd</td>\n",
       "      <td>nvidia geforce gtx 960m</td>\n",
       "      <td>windows 10</td>\n",
       "      <td>2.6kg</td>\n",
       "      <td>899.00</td>\n",
       "    </tr>\n",
       "    <tr>\n",
       "      <th>1279</th>\n",
       "      <td>lenovo</td>\n",
       "      <td>ideapad y700-15isk</td>\n",
       "      <td>notebook</td>\n",
       "      <td>15.6</td>\n",
       "      <td>ips panel full hd 1920x1080</td>\n",
       "      <td>intel core i7 6700hq 2.6ghz</td>\n",
       "      <td>8gb</td>\n",
       "      <td>1tb hdd</td>\n",
       "      <td>nvidia geforce gtx 960m</td>\n",
       "      <td>windows 10</td>\n",
       "      <td>2.6kg</td>\n",
       "      <td>899.00</td>\n",
       "    </tr>\n",
       "    <tr>\n",
       "      <th>1293</th>\n",
       "      <td>lenovo</td>\n",
       "      <td>ideapad y700-15isk</td>\n",
       "      <td>notebook</td>\n",
       "      <td>15.6</td>\n",
       "      <td>ips panel full hd 1920x1080</td>\n",
       "      <td>intel core i7 6700hq 2.6ghz</td>\n",
       "      <td>8gb</td>\n",
       "      <td>1tb hdd</td>\n",
       "      <td>nvidia geforce gtx 960m</td>\n",
       "      <td>windows 10</td>\n",
       "      <td>2.6kg</td>\n",
       "      <td>899.00</td>\n",
       "    </tr>\n",
       "    <tr>\n",
       "      <th>1264</th>\n",
       "      <td>dell</td>\n",
       "      <td>inspiron 3552</td>\n",
       "      <td>notebook</td>\n",
       "      <td>15.6</td>\n",
       "      <td>1366x768</td>\n",
       "      <td>intel celeron dual core n3050 1.6ghz</td>\n",
       "      <td>2gb</td>\n",
       "      <td>500gb hdd</td>\n",
       "      <td>intel hd graphics</td>\n",
       "      <td>windows 10</td>\n",
       "      <td>2.20kg</td>\n",
       "      <td>379.00</td>\n",
       "    </tr>\n",
       "    <tr>\n",
       "      <th>1292</th>\n",
       "      <td>dell</td>\n",
       "      <td>inspiron 3552</td>\n",
       "      <td>notebook</td>\n",
       "      <td>15.6</td>\n",
       "      <td>1366x768</td>\n",
       "      <td>intel celeron dual core n3050 1.6ghz</td>\n",
       "      <td>2gb</td>\n",
       "      <td>500gb hdd</td>\n",
       "      <td>intel hd graphics</td>\n",
       "      <td>windows 10</td>\n",
       "      <td>2.20kg</td>\n",
       "      <td>379.00</td>\n",
       "    </tr>\n",
       "    <tr>\n",
       "      <th>1278</th>\n",
       "      <td>dell</td>\n",
       "      <td>inspiron 3552</td>\n",
       "      <td>notebook</td>\n",
       "      <td>15.6</td>\n",
       "      <td>1366x768</td>\n",
       "      <td>intel celeron dual core n3050 1.6ghz</td>\n",
       "      <td>2gb</td>\n",
       "      <td>500gb hdd</td>\n",
       "      <td>intel hd graphics</td>\n",
       "      <td>windows 10</td>\n",
       "      <td>2.20kg</td>\n",
       "      <td>379.00</td>\n",
       "    </tr>\n",
       "    <tr>\n",
       "      <th>1290</th>\n",
       "      <td>dell</td>\n",
       "      <td>inspiron 3567</td>\n",
       "      <td>notebook</td>\n",
       "      <td>15.6</td>\n",
       "      <td>1366x768</td>\n",
       "      <td>intel core i3 7100u 2.4ghz</td>\n",
       "      <td>6gb</td>\n",
       "      <td>1tb hdd</td>\n",
       "      <td>intel hd graphics 620</td>\n",
       "      <td>windows 10</td>\n",
       "      <td>2.3kg</td>\n",
       "      <td>459.00</td>\n",
       "    </tr>\n",
       "    <tr>\n",
       "      <th>1281</th>\n",
       "      <td>dell</td>\n",
       "      <td>inspiron 3567</td>\n",
       "      <td>notebook</td>\n",
       "      <td>15.6</td>\n",
       "      <td>1366x768</td>\n",
       "      <td>intel core i7 7500u 2.7ghz</td>\n",
       "      <td>8gb</td>\n",
       "      <td>1tb hdd</td>\n",
       "      <td>amd radeon r5 m430</td>\n",
       "      <td>linux</td>\n",
       "      <td>2.3kg</td>\n",
       "      <td>805.99</td>\n",
       "    </tr>\n",
       "    <tr>\n",
       "      <th>1295</th>\n",
       "      <td>dell</td>\n",
       "      <td>inspiron 3567</td>\n",
       "      <td>notebook</td>\n",
       "      <td>15.6</td>\n",
       "      <td>1366x768</td>\n",
       "      <td>intel core i7 7500u 2.7ghz</td>\n",
       "      <td>8gb</td>\n",
       "      <td>1tb hdd</td>\n",
       "      <td>amd radeon r5 m430</td>\n",
       "      <td>linux</td>\n",
       "      <td>2.3kg</td>\n",
       "      <td>805.99</td>\n",
       "    </tr>\n",
       "    <tr>\n",
       "      <th>1267</th>\n",
       "      <td>dell</td>\n",
       "      <td>inspiron 3567</td>\n",
       "      <td>notebook</td>\n",
       "      <td>15.6</td>\n",
       "      <td>1366x768</td>\n",
       "      <td>intel core i7 7500u 2.7ghz</td>\n",
       "      <td>8gb</td>\n",
       "      <td>1tb hdd</td>\n",
       "      <td>amd radeon r5 m430</td>\n",
       "      <td>linux</td>\n",
       "      <td>2.3kg</td>\n",
       "      <td>805.99</td>\n",
       "    </tr>\n",
       "    <tr>\n",
       "      <th>1262</th>\n",
       "      <td>dell</td>\n",
       "      <td>inspiron 3567</td>\n",
       "      <td>notebook</td>\n",
       "      <td>15.6</td>\n",
       "      <td>1366x768</td>\n",
       "      <td>intel core i3 7100u 2.4ghz</td>\n",
       "      <td>6gb</td>\n",
       "      <td>1tb hdd</td>\n",
       "      <td>intel hd graphics 620</td>\n",
       "      <td>windows 10</td>\n",
       "      <td>2.3kg</td>\n",
       "      <td>459.00</td>\n",
       "    </tr>\n",
       "    <tr>\n",
       "      <th>1276</th>\n",
       "      <td>dell</td>\n",
       "      <td>inspiron 3567</td>\n",
       "      <td>notebook</td>\n",
       "      <td>15.6</td>\n",
       "      <td>1366x768</td>\n",
       "      <td>intel core i3 7100u 2.4ghz</td>\n",
       "      <td>6gb</td>\n",
       "      <td>1tb hdd</td>\n",
       "      <td>intel hd graphics 620</td>\n",
       "      <td>windows 10</td>\n",
       "      <td>2.3kg</td>\n",
       "      <td>459.00</td>\n",
       "    </tr>\n",
       "    <tr>\n",
       "      <th>1280</th>\n",
       "      <td>hp</td>\n",
       "      <td>pavilion 15-aw003nv</td>\n",
       "      <td>notebook</td>\n",
       "      <td>15.6</td>\n",
       "      <td>full hd 1920x1080</td>\n",
       "      <td>amd a9-series 9410 2.9ghz</td>\n",
       "      <td>6gb</td>\n",
       "      <td>1.0tb hybrid</td>\n",
       "      <td>amd radeon r7 m440</td>\n",
       "      <td>windows 10</td>\n",
       "      <td>2.04kg</td>\n",
       "      <td>549.99</td>\n",
       "    </tr>\n",
       "    <tr>\n",
       "      <th>1266</th>\n",
       "      <td>hp</td>\n",
       "      <td>pavilion 15-aw003nv</td>\n",
       "      <td>notebook</td>\n",
       "      <td>15.6</td>\n",
       "      <td>full hd 1920x1080</td>\n",
       "      <td>amd a9-series 9410 2.9ghz</td>\n",
       "      <td>6gb</td>\n",
       "      <td>1.0tb hybrid</td>\n",
       "      <td>amd radeon r7 m440</td>\n",
       "      <td>windows 10</td>\n",
       "      <td>2.04kg</td>\n",
       "      <td>549.99</td>\n",
       "    </tr>\n",
       "    <tr>\n",
       "      <th>1294</th>\n",
       "      <td>hp</td>\n",
       "      <td>pavilion 15-aw003nv</td>\n",
       "      <td>notebook</td>\n",
       "      <td>15.6</td>\n",
       "      <td>full hd 1920x1080</td>\n",
       "      <td>amd a9-series 9410 2.9ghz</td>\n",
       "      <td>6gb</td>\n",
       "      <td>1.0tb hybrid</td>\n",
       "      <td>amd radeon r7 m440</td>\n",
       "      <td>windows 10</td>\n",
       "      <td>2.04kg</td>\n",
       "      <td>549.99</td>\n",
       "    </tr>\n",
       "    <tr>\n",
       "      <th>1296</th>\n",
       "      <td>hp</td>\n",
       "      <td>stream 11-y000na</td>\n",
       "      <td>netbook</td>\n",
       "      <td>11.6</td>\n",
       "      <td>1366x768</td>\n",
       "      <td>intel celeron dual core n3060 1.6ghz</td>\n",
       "      <td>2gb</td>\n",
       "      <td>32gb flash storage</td>\n",
       "      <td>intel hd graphics 400</td>\n",
       "      <td>windows 10</td>\n",
       "      <td>1.17kg</td>\n",
       "      <td>209.00</td>\n",
       "    </tr>\n",
       "    <tr>\n",
       "      <th>1268</th>\n",
       "      <td>hp</td>\n",
       "      <td>stream 11-y000na</td>\n",
       "      <td>netbook</td>\n",
       "      <td>11.6</td>\n",
       "      <td>1366x768</td>\n",
       "      <td>intel celeron dual core n3060 1.6ghz</td>\n",
       "      <td>2gb</td>\n",
       "      <td>32gb flash storage</td>\n",
       "      <td>intel hd graphics 400</td>\n",
       "      <td>windows 10</td>\n",
       "      <td>1.17kg</td>\n",
       "      <td>209.00</td>\n",
       "    </tr>\n",
       "    <tr>\n",
       "      <th>1282</th>\n",
       "      <td>hp</td>\n",
       "      <td>stream 11-y000na</td>\n",
       "      <td>netbook</td>\n",
       "      <td>11.6</td>\n",
       "      <td>1366x768</td>\n",
       "      <td>intel celeron dual core n3060 1.6ghz</td>\n",
       "      <td>2gb</td>\n",
       "      <td>32gb flash storage</td>\n",
       "      <td>intel hd graphics 400</td>\n",
       "      <td>windows 10</td>\n",
       "      <td>1.17kg</td>\n",
       "      <td>209.00</td>\n",
       "    </tr>\n",
       "    <tr>\n",
       "      <th>1302</th>\n",
       "      <td>asus</td>\n",
       "      <td>x553sa-xx031t (n3050/4gb/500gb/w10)</td>\n",
       "      <td>notebook</td>\n",
       "      <td>15.6</td>\n",
       "      <td>1366x768</td>\n",
       "      <td>intel celeron dual core n3050 1.6ghz</td>\n",
       "      <td>4gb</td>\n",
       "      <td>500gb hdd</td>\n",
       "      <td>intel hd graphics</td>\n",
       "      <td>windows 10</td>\n",
       "      <td>2.2kg</td>\n",
       "      <td>369.00</td>\n",
       "    </tr>\n",
       "    <tr>\n",
       "      <th>1274</th>\n",
       "      <td>asus</td>\n",
       "      <td>x553sa-xx031t (n3050/4gb/500gb/w10)</td>\n",
       "      <td>notebook</td>\n",
       "      <td>15.6</td>\n",
       "      <td>1366x768</td>\n",
       "      <td>intel celeron dual core n3050 1.6ghz</td>\n",
       "      <td>4gb</td>\n",
       "      <td>500gb hdd</td>\n",
       "      <td>intel hd graphics</td>\n",
       "      <td>windows 10</td>\n",
       "      <td>2.2kg</td>\n",
       "      <td>369.00</td>\n",
       "    </tr>\n",
       "    <tr>\n",
       "      <th>1288</th>\n",
       "      <td>asus</td>\n",
       "      <td>x553sa-xx031t (n3050/4gb/500gb/w10)</td>\n",
       "      <td>notebook</td>\n",
       "      <td>15.6</td>\n",
       "      <td>1366x768</td>\n",
       "      <td>intel celeron dual core n3050 1.6ghz</td>\n",
       "      <td>4gb</td>\n",
       "      <td>500gb hdd</td>\n",
       "      <td>intel hd graphics</td>\n",
       "      <td>windows 10</td>\n",
       "      <td>2.2kg</td>\n",
       "      <td>369.00</td>\n",
       "    </tr>\n",
       "    <tr>\n",
       "      <th>1283</th>\n",
       "      <td>asus</td>\n",
       "      <td>x556uj-xo044t (i7-6500u/4gb/500gb/geforce</td>\n",
       "      <td>notebook</td>\n",
       "      <td>15.6</td>\n",
       "      <td>1366x768</td>\n",
       "      <td>intel core i7 6500u 2.5ghz</td>\n",
       "      <td>4gb</td>\n",
       "      <td>500gb hdd</td>\n",
       "      <td>nvidia geforce 920m</td>\n",
       "      <td>windows 10</td>\n",
       "      <td>2.2kg</td>\n",
       "      <td>720.32</td>\n",
       "    </tr>\n",
       "    <tr>\n",
       "      <th>1297</th>\n",
       "      <td>asus</td>\n",
       "      <td>x556uj-xo044t (i7-6500u/4gb/500gb/geforce</td>\n",
       "      <td>notebook</td>\n",
       "      <td>15.6</td>\n",
       "      <td>1366x768</td>\n",
       "      <td>intel core i7 6500u 2.5ghz</td>\n",
       "      <td>4gb</td>\n",
       "      <td>500gb hdd</td>\n",
       "      <td>nvidia geforce 920m</td>\n",
       "      <td>windows 10</td>\n",
       "      <td>2.2kg</td>\n",
       "      <td>720.32</td>\n",
       "    </tr>\n",
       "    <tr>\n",
       "      <th>1269</th>\n",
       "      <td>asus</td>\n",
       "      <td>x556uj-xo044t (i7-6500u/4gb/500gb/geforce</td>\n",
       "      <td>notebook</td>\n",
       "      <td>15.6</td>\n",
       "      <td>1366x768</td>\n",
       "      <td>intel core i7 6500u 2.5ghz</td>\n",
       "      <td>4gb</td>\n",
       "      <td>500gb hdd</td>\n",
       "      <td>nvidia geforce 920m</td>\n",
       "      <td>windows 10</td>\n",
       "      <td>2.2kg</td>\n",
       "      <td>720.32</td>\n",
       "    </tr>\n",
       "    <tr>\n",
       "      <th>1284</th>\n",
       "      <td>lenovo</td>\n",
       "      <td>yoga 500-14isk</td>\n",
       "      <td>2 in 1 convertible</td>\n",
       "      <td>14.0</td>\n",
       "      <td>ips panel full hd / touchscreen 1920x1080</td>\n",
       "      <td>intel core i7 6500u 2.5ghz</td>\n",
       "      <td>4gb</td>\n",
       "      <td>128gb ssd</td>\n",
       "      <td>intel hd graphics 520</td>\n",
       "      <td>windows 10</td>\n",
       "      <td>1.8kg</td>\n",
       "      <td>638.00</td>\n",
       "    </tr>\n",
       "    <tr>\n",
       "      <th>1270</th>\n",
       "      <td>lenovo</td>\n",
       "      <td>yoga 500-14isk</td>\n",
       "      <td>2 in 1 convertible</td>\n",
       "      <td>14.0</td>\n",
       "      <td>ips panel full hd / touchscreen 1920x1080</td>\n",
       "      <td>intel core i7 6500u 2.5ghz</td>\n",
       "      <td>4gb</td>\n",
       "      <td>128gb ssd</td>\n",
       "      <td>intel hd graphics 520</td>\n",
       "      <td>windows 10</td>\n",
       "      <td>1.8kg</td>\n",
       "      <td>638.00</td>\n",
       "    </tr>\n",
       "    <tr>\n",
       "      <th>1298</th>\n",
       "      <td>lenovo</td>\n",
       "      <td>yoga 500-14isk</td>\n",
       "      <td>2 in 1 convertible</td>\n",
       "      <td>14.0</td>\n",
       "      <td>ips panel full hd / touchscreen 1920x1080</td>\n",
       "      <td>intel core i7 6500u 2.5ghz</td>\n",
       "      <td>4gb</td>\n",
       "      <td>128gb ssd</td>\n",
       "      <td>intel hd graphics 520</td>\n",
       "      <td>windows 10</td>\n",
       "      <td>1.8kg</td>\n",
       "      <td>638.00</td>\n",
       "    </tr>\n",
       "    <tr>\n",
       "      <th>1285</th>\n",
       "      <td>lenovo</td>\n",
       "      <td>yoga 900-13isk</td>\n",
       "      <td>2 in 1 convertible</td>\n",
       "      <td>13.3</td>\n",
       "      <td>ips panel quad hd+ / touchscreen 3200x1800</td>\n",
       "      <td>intel core i7 6500u 2.5ghz</td>\n",
       "      <td>16gb</td>\n",
       "      <td>512gb ssd</td>\n",
       "      <td>intel hd graphics 520</td>\n",
       "      <td>windows 10</td>\n",
       "      <td>1.3kg</td>\n",
       "      <td>1499.00</td>\n",
       "    </tr>\n",
       "    <tr>\n",
       "      <th>1271</th>\n",
       "      <td>lenovo</td>\n",
       "      <td>yoga 900-13isk</td>\n",
       "      <td>2 in 1 convertible</td>\n",
       "      <td>13.3</td>\n",
       "      <td>ips panel quad hd+ / touchscreen 3200x1800</td>\n",
       "      <td>intel core i7 6500u 2.5ghz</td>\n",
       "      <td>16gb</td>\n",
       "      <td>512gb ssd</td>\n",
       "      <td>intel hd graphics 520</td>\n",
       "      <td>windows 10</td>\n",
       "      <td>1.3kg</td>\n",
       "      <td>1499.00</td>\n",
       "    </tr>\n",
       "    <tr>\n",
       "      <th>1299</th>\n",
       "      <td>lenovo</td>\n",
       "      <td>yoga 900-13isk</td>\n",
       "      <td>2 in 1 convertible</td>\n",
       "      <td>13.3</td>\n",
       "      <td>ips panel quad hd+ / touchscreen 3200x1800</td>\n",
       "      <td>intel core i7 6500u 2.5ghz</td>\n",
       "      <td>16gb</td>\n",
       "      <td>512gb ssd</td>\n",
       "      <td>intel hd graphics 520</td>\n",
       "      <td>windows 10</td>\n",
       "      <td>1.3kg</td>\n",
       "      <td>1499.00</td>\n",
       "    </tr>\n",
       "    <tr>\n",
       "      <th>1289</th>\n",
       "      <td>asus</td>\n",
       "      <td>zenbook ux305ca-ubm1</td>\n",
       "      <td>ultrabook</td>\n",
       "      <td>13.3</td>\n",
       "      <td>ips panel full hd 1920x1080</td>\n",
       "      <td>intel core m 6y30 0.9ghz</td>\n",
       "      <td>8gb</td>\n",
       "      <td>512gb ssd</td>\n",
       "      <td>intel hd graphics 515</td>\n",
       "      <td>windows 10</td>\n",
       "      <td>1.2kg</td>\n",
       "      <td>729.00</td>\n",
       "    </tr>\n",
       "    <tr>\n",
       "      <th>1275</th>\n",
       "      <td>asus</td>\n",
       "      <td>zenbook ux305ca-ubm1</td>\n",
       "      <td>ultrabook</td>\n",
       "      <td>13.3</td>\n",
       "      <td>ips panel full hd 1920x1080</td>\n",
       "      <td>intel core m 6y30 0.9ghz</td>\n",
       "      <td>8gb</td>\n",
       "      <td>512gb ssd</td>\n",
       "      <td>intel hd graphics 515</td>\n",
       "      <td>windows 10</td>\n",
       "      <td>1.2kg</td>\n",
       "      <td>729.00</td>\n",
       "    </tr>\n",
       "    <tr>\n",
       "      <th>1261</th>\n",
       "      <td>asus</td>\n",
       "      <td>zenbook ux305ca-ubm1</td>\n",
       "      <td>ultrabook</td>\n",
       "      <td>13.3</td>\n",
       "      <td>ips panel full hd 1920x1080</td>\n",
       "      <td>intel core m 6y30 0.9ghz</td>\n",
       "      <td>8gb</td>\n",
       "      <td>512gb ssd</td>\n",
       "      <td>intel hd graphics 515</td>\n",
       "      <td>windows 10</td>\n",
       "      <td>1.2kg</td>\n",
       "      <td>729.00</td>\n",
       "    </tr>\n",
       "  </tbody>\n",
       "</table>\n",
       "</div>"
      ],
      "text/plain": [
       "     company                                    product            typename  \\\n",
       "1287      hp        15-ac110nv (i7-6500u/6gb/1tb/radeon            notebook   \n",
       "1301      hp        15-ac110nv (i7-6500u/6gb/1tb/radeon            notebook   \n",
       "1273      hp        15-ac110nv (i7-6500u/6gb/1tb/radeon            notebook   \n",
       "1263    acer                             aspire es1-531            notebook   \n",
       "1291    acer                             aspire es1-531            notebook   \n",
       "1277    acer                             aspire es1-531            notebook   \n",
       "1300  lenovo                         ideapad 100s-14ibr            notebook   \n",
       "1272  lenovo                         ideapad 100s-14ibr            notebook   \n",
       "1286  lenovo                         ideapad 100s-14ibr            notebook   \n",
       "1265  lenovo                         ideapad y700-15isk            notebook   \n",
       "1279  lenovo                         ideapad y700-15isk            notebook   \n",
       "1293  lenovo                         ideapad y700-15isk            notebook   \n",
       "1264    dell                              inspiron 3552            notebook   \n",
       "1292    dell                              inspiron 3552            notebook   \n",
       "1278    dell                              inspiron 3552            notebook   \n",
       "1290    dell                              inspiron 3567            notebook   \n",
       "1281    dell                              inspiron 3567            notebook   \n",
       "1295    dell                              inspiron 3567            notebook   \n",
       "1267    dell                              inspiron 3567            notebook   \n",
       "1262    dell                              inspiron 3567            notebook   \n",
       "1276    dell                              inspiron 3567            notebook   \n",
       "1280      hp                        pavilion 15-aw003nv            notebook   \n",
       "1266      hp                        pavilion 15-aw003nv            notebook   \n",
       "1294      hp                        pavilion 15-aw003nv            notebook   \n",
       "1296      hp                           stream 11-y000na             netbook   \n",
       "1268      hp                           stream 11-y000na             netbook   \n",
       "1282      hp                           stream 11-y000na             netbook   \n",
       "1302    asus        x553sa-xx031t (n3050/4gb/500gb/w10)            notebook   \n",
       "1274    asus        x553sa-xx031t (n3050/4gb/500gb/w10)            notebook   \n",
       "1288    asus        x553sa-xx031t (n3050/4gb/500gb/w10)            notebook   \n",
       "1283    asus  x556uj-xo044t (i7-6500u/4gb/500gb/geforce            notebook   \n",
       "1297    asus  x556uj-xo044t (i7-6500u/4gb/500gb/geforce            notebook   \n",
       "1269    asus  x556uj-xo044t (i7-6500u/4gb/500gb/geforce            notebook   \n",
       "1284  lenovo                             yoga 500-14isk  2 in 1 convertible   \n",
       "1270  lenovo                             yoga 500-14isk  2 in 1 convertible   \n",
       "1298  lenovo                             yoga 500-14isk  2 in 1 convertible   \n",
       "1285  lenovo                             yoga 900-13isk  2 in 1 convertible   \n",
       "1271  lenovo                             yoga 900-13isk  2 in 1 convertible   \n",
       "1299  lenovo                             yoga 900-13isk  2 in 1 convertible   \n",
       "1289    asus                       zenbook ux305ca-ubm1           ultrabook   \n",
       "1275    asus                       zenbook ux305ca-ubm1           ultrabook   \n",
       "1261    asus                       zenbook ux305ca-ubm1           ultrabook   \n",
       "\n",
       "      inches                            screenresolution  \\\n",
       "1287    15.6                                    1366x768   \n",
       "1301    15.6                                    1366x768   \n",
       "1273    15.6                                    1366x768   \n",
       "1263    15.6                                    1366x768   \n",
       "1291    15.6                                    1366x768   \n",
       "1277    15.6                                    1366x768   \n",
       "1300    14.0                                    1366x768   \n",
       "1272    14.0                                    1366x768   \n",
       "1286    14.0                                    1366x768   \n",
       "1265    15.6                 ips panel full hd 1920x1080   \n",
       "1279    15.6                 ips panel full hd 1920x1080   \n",
       "1293    15.6                 ips panel full hd 1920x1080   \n",
       "1264    15.6                                    1366x768   \n",
       "1292    15.6                                    1366x768   \n",
       "1278    15.6                                    1366x768   \n",
       "1290    15.6                                    1366x768   \n",
       "1281    15.6                                    1366x768   \n",
       "1295    15.6                                    1366x768   \n",
       "1267    15.6                                    1366x768   \n",
       "1262    15.6                                    1366x768   \n",
       "1276    15.6                                    1366x768   \n",
       "1280    15.6                           full hd 1920x1080   \n",
       "1266    15.6                           full hd 1920x1080   \n",
       "1294    15.6                           full hd 1920x1080   \n",
       "1296    11.6                                    1366x768   \n",
       "1268    11.6                                    1366x768   \n",
       "1282    11.6                                    1366x768   \n",
       "1302    15.6                                    1366x768   \n",
       "1274    15.6                                    1366x768   \n",
       "1288    15.6                                    1366x768   \n",
       "1283    15.6                                    1366x768   \n",
       "1297    15.6                                    1366x768   \n",
       "1269    15.6                                    1366x768   \n",
       "1284    14.0   ips panel full hd / touchscreen 1920x1080   \n",
       "1270    14.0   ips panel full hd / touchscreen 1920x1080   \n",
       "1298    14.0   ips panel full hd / touchscreen 1920x1080   \n",
       "1285    13.3  ips panel quad hd+ / touchscreen 3200x1800   \n",
       "1271    13.3  ips panel quad hd+ / touchscreen 3200x1800   \n",
       "1299    13.3  ips panel quad hd+ / touchscreen 3200x1800   \n",
       "1289    13.3                 ips panel full hd 1920x1080   \n",
       "1275    13.3                 ips panel full hd 1920x1080   \n",
       "1261    13.3                 ips panel full hd 1920x1080   \n",
       "\n",
       "                                       cpu   ram              memory  \\\n",
       "1287            intel core i7 6500u 2.5ghz   6gb             1tb hdd   \n",
       "1301            intel core i7 6500u 2.5ghz   6gb             1tb hdd   \n",
       "1273            intel core i7 6500u 2.5ghz   6gb             1tb hdd   \n",
       "1263  intel celeron dual core n3060 1.6ghz   4gb           500gb hdd   \n",
       "1291  intel celeron dual core n3060 1.6ghz   4gb           500gb hdd   \n",
       "1277  intel celeron dual core n3060 1.6ghz   4gb           500gb hdd   \n",
       "1300  intel celeron dual core n3050 1.6ghz   2gb  64gb flash storage   \n",
       "1272  intel celeron dual core n3050 1.6ghz   2gb  64gb flash storage   \n",
       "1286  intel celeron dual core n3050 1.6ghz   2gb  64gb flash storage   \n",
       "1265           intel core i7 6700hq 2.6ghz   8gb             1tb hdd   \n",
       "1279           intel core i7 6700hq 2.6ghz   8gb             1tb hdd   \n",
       "1293           intel core i7 6700hq 2.6ghz   8gb             1tb hdd   \n",
       "1264  intel celeron dual core n3050 1.6ghz   2gb           500gb hdd   \n",
       "1292  intel celeron dual core n3050 1.6ghz   2gb           500gb hdd   \n",
       "1278  intel celeron dual core n3050 1.6ghz   2gb           500gb hdd   \n",
       "1290            intel core i3 7100u 2.4ghz   6gb             1tb hdd   \n",
       "1281            intel core i7 7500u 2.7ghz   8gb             1tb hdd   \n",
       "1295            intel core i7 7500u 2.7ghz   8gb             1tb hdd   \n",
       "1267            intel core i7 7500u 2.7ghz   8gb             1tb hdd   \n",
       "1262            intel core i3 7100u 2.4ghz   6gb             1tb hdd   \n",
       "1276            intel core i3 7100u 2.4ghz   6gb             1tb hdd   \n",
       "1280             amd a9-series 9410 2.9ghz   6gb        1.0tb hybrid   \n",
       "1266             amd a9-series 9410 2.9ghz   6gb        1.0tb hybrid   \n",
       "1294             amd a9-series 9410 2.9ghz   6gb        1.0tb hybrid   \n",
       "1296  intel celeron dual core n3060 1.6ghz   2gb  32gb flash storage   \n",
       "1268  intel celeron dual core n3060 1.6ghz   2gb  32gb flash storage   \n",
       "1282  intel celeron dual core n3060 1.6ghz   2gb  32gb flash storage   \n",
       "1302  intel celeron dual core n3050 1.6ghz   4gb           500gb hdd   \n",
       "1274  intel celeron dual core n3050 1.6ghz   4gb           500gb hdd   \n",
       "1288  intel celeron dual core n3050 1.6ghz   4gb           500gb hdd   \n",
       "1283            intel core i7 6500u 2.5ghz   4gb           500gb hdd   \n",
       "1297            intel core i7 6500u 2.5ghz   4gb           500gb hdd   \n",
       "1269            intel core i7 6500u 2.5ghz   4gb           500gb hdd   \n",
       "1284            intel core i7 6500u 2.5ghz   4gb           128gb ssd   \n",
       "1270            intel core i7 6500u 2.5ghz   4gb           128gb ssd   \n",
       "1298            intel core i7 6500u 2.5ghz   4gb           128gb ssd   \n",
       "1285            intel core i7 6500u 2.5ghz  16gb           512gb ssd   \n",
       "1271            intel core i7 6500u 2.5ghz  16gb           512gb ssd   \n",
       "1299            intel core i7 6500u 2.5ghz  16gb           512gb ssd   \n",
       "1289              intel core m 6y30 0.9ghz   8gb           512gb ssd   \n",
       "1275              intel core m 6y30 0.9ghz   8gb           512gb ssd   \n",
       "1261              intel core m 6y30 0.9ghz   8gb           512gb ssd   \n",
       "\n",
       "                          gpu       opsys  weight  price_euros  \n",
       "1287       amd radeon r5 m330  windows 10  2.19kg       764.00  \n",
       "1301       amd radeon r5 m330  windows 10  2.19kg       764.00  \n",
       "1273       amd radeon r5 m330  windows 10  2.19kg       764.00  \n",
       "1263    intel hd graphics 400       linux   2.4kg       289.00  \n",
       "1291    intel hd graphics 400       linux   2.4kg       289.00  \n",
       "1277    intel hd graphics 400       linux   2.4kg       289.00  \n",
       "1300        intel hd graphics  windows 10   1.5kg       229.00  \n",
       "1272        intel hd graphics  windows 10   1.5kg       229.00  \n",
       "1286        intel hd graphics  windows 10   1.5kg       229.00  \n",
       "1265  nvidia geforce gtx 960m  windows 10   2.6kg       899.00  \n",
       "1279  nvidia geforce gtx 960m  windows 10   2.6kg       899.00  \n",
       "1293  nvidia geforce gtx 960m  windows 10   2.6kg       899.00  \n",
       "1264        intel hd graphics  windows 10  2.20kg       379.00  \n",
       "1292        intel hd graphics  windows 10  2.20kg       379.00  \n",
       "1278        intel hd graphics  windows 10  2.20kg       379.00  \n",
       "1290    intel hd graphics 620  windows 10   2.3kg       459.00  \n",
       "1281       amd radeon r5 m430       linux   2.3kg       805.99  \n",
       "1295       amd radeon r5 m430       linux   2.3kg       805.99  \n",
       "1267       amd radeon r5 m430       linux   2.3kg       805.99  \n",
       "1262    intel hd graphics 620  windows 10   2.3kg       459.00  \n",
       "1276    intel hd graphics 620  windows 10   2.3kg       459.00  \n",
       "1280       amd radeon r7 m440  windows 10  2.04kg       549.99  \n",
       "1266       amd radeon r7 m440  windows 10  2.04kg       549.99  \n",
       "1294       amd radeon r7 m440  windows 10  2.04kg       549.99  \n",
       "1296    intel hd graphics 400  windows 10  1.17kg       209.00  \n",
       "1268    intel hd graphics 400  windows 10  1.17kg       209.00  \n",
       "1282    intel hd graphics 400  windows 10  1.17kg       209.00  \n",
       "1302        intel hd graphics  windows 10   2.2kg       369.00  \n",
       "1274        intel hd graphics  windows 10   2.2kg       369.00  \n",
       "1288        intel hd graphics  windows 10   2.2kg       369.00  \n",
       "1283      nvidia geforce 920m  windows 10   2.2kg       720.32  \n",
       "1297      nvidia geforce 920m  windows 10   2.2kg       720.32  \n",
       "1269      nvidia geforce 920m  windows 10   2.2kg       720.32  \n",
       "1284    intel hd graphics 520  windows 10   1.8kg       638.00  \n",
       "1270    intel hd graphics 520  windows 10   1.8kg       638.00  \n",
       "1298    intel hd graphics 520  windows 10   1.8kg       638.00  \n",
       "1285    intel hd graphics 520  windows 10   1.3kg      1499.00  \n",
       "1271    intel hd graphics 520  windows 10   1.3kg      1499.00  \n",
       "1299    intel hd graphics 520  windows 10   1.3kg      1499.00  \n",
       "1289    intel hd graphics 515  windows 10   1.2kg       729.00  \n",
       "1275    intel hd graphics 515  windows 10   1.2kg       729.00  \n",
       "1261    intel hd graphics 515  windows 10   1.2kg       729.00  "
      ]
     },
     "execution_count": 11,
     "metadata": {},
     "output_type": "execute_result"
    }
   ],
   "source": [
    "# check on duplicates on all columns\n",
    "df[df.duplicated(keep=False)].sort_values('product')"
   ]
  },
  {
   "cell_type": "code",
   "execution_count": 12,
   "metadata": {
    "execution": {
     "iopub.execute_input": "2021-10-28T19:37:22.123717Z",
     "iopub.status.busy": "2021-10-28T19:37:22.123084Z",
     "iopub.status.idle": "2021-10-28T19:37:22.136043Z",
     "shell.execute_reply": "2021-10-28T19:37:22.135426Z",
     "shell.execute_reply.started": "2021-10-28T19:37:22.123673Z"
    }
   },
   "outputs": [
    {
     "name": "stdout",
     "output_type": "stream",
     "text": [
      "shape before drop_duplicates = (1303, 12)\n",
      "shape after drop_duplicates = (1275, 12)\n"
     ]
    }
   ],
   "source": [
    "# drop duplicates\n",
    "print('shape before drop_duplicates =', df.shape)\n",
    "df = df.drop_duplicates(keep='first')\n",
    "print('shape after drop_duplicates =', df.shape)"
   ]
  },
  {
   "cell_type": "code",
   "execution_count": 13,
   "metadata": {
    "execution": {
     "iopub.execute_input": "2021-10-28T19:37:22.139448Z",
     "iopub.status.busy": "2021-10-28T19:37:22.138646Z",
     "iopub.status.idle": "2021-10-28T19:37:22.165386Z",
     "shell.execute_reply": "2021-10-28T19:37:22.164464Z",
     "shell.execute_reply.started": "2021-10-28T19:37:22.139403Z"
    }
   },
   "outputs": [
    {
     "name": "stdout",
     "output_type": "stream",
     "text": [
      "shape before drop_duplicates = (1275, 12)\n",
      "shape after drop_duplicates = (1250, 12)\n"
     ]
    },
    {
     "data": {
      "text/html": [
       "<div>\n",
       "<style scoped>\n",
       "    .dataframe tbody tr th:only-of-type {\n",
       "        vertical-align: middle;\n",
       "    }\n",
       "\n",
       "    .dataframe tbody tr th {\n",
       "        vertical-align: top;\n",
       "    }\n",
       "\n",
       "    .dataframe thead th {\n",
       "        text-align: right;\n",
       "    }\n",
       "</style>\n",
       "<table border=\"1\" class=\"dataframe\">\n",
       "  <thead>\n",
       "    <tr style=\"text-align: right;\">\n",
       "      <th></th>\n",
       "      <th>company</th>\n",
       "      <th>product</th>\n",
       "      <th>typename</th>\n",
       "      <th>inches</th>\n",
       "      <th>screenresolution</th>\n",
       "      <th>cpu</th>\n",
       "      <th>ram</th>\n",
       "      <th>memory</th>\n",
       "      <th>gpu</th>\n",
       "      <th>opsys</th>\n",
       "      <th>weight</th>\n",
       "      <th>price_euros</th>\n",
       "    </tr>\n",
       "  </thead>\n",
       "  <tbody>\n",
       "    <tr>\n",
       "      <th>0</th>\n",
       "      <td>apple</td>\n",
       "      <td>macbook pro</td>\n",
       "      <td>ultrabook</td>\n",
       "      <td>13.3</td>\n",
       "      <td>ips panel retina display 2560x1600</td>\n",
       "      <td>intel core i5 2.3ghz</td>\n",
       "      <td>8gb</td>\n",
       "      <td>128gb ssd</td>\n",
       "      <td>intel iris plus graphics 640</td>\n",
       "      <td>macos</td>\n",
       "      <td>1.37kg</td>\n",
       "      <td>1339.69</td>\n",
       "    </tr>\n",
       "    <tr>\n",
       "      <th>1</th>\n",
       "      <td>apple</td>\n",
       "      <td>macbook air</td>\n",
       "      <td>ultrabook</td>\n",
       "      <td>13.3</td>\n",
       "      <td>1440x900</td>\n",
       "      <td>intel core i5 1.8ghz</td>\n",
       "      <td>8gb</td>\n",
       "      <td>128gb flash storage</td>\n",
       "      <td>intel hd graphics 6000</td>\n",
       "      <td>macos</td>\n",
       "      <td>1.34kg</td>\n",
       "      <td>898.94</td>\n",
       "    </tr>\n",
       "    <tr>\n",
       "      <th>2</th>\n",
       "      <td>hp</td>\n",
       "      <td>250 g6</td>\n",
       "      <td>notebook</td>\n",
       "      <td>15.6</td>\n",
       "      <td>full hd 1920x1080</td>\n",
       "      <td>intel core i5 7200u 2.5ghz</td>\n",
       "      <td>8gb</td>\n",
       "      <td>256gb ssd</td>\n",
       "      <td>intel hd graphics 620</td>\n",
       "      <td>no os</td>\n",
       "      <td>1.86kg</td>\n",
       "      <td>575.00</td>\n",
       "    </tr>\n",
       "    <tr>\n",
       "      <th>3</th>\n",
       "      <td>apple</td>\n",
       "      <td>macbook pro</td>\n",
       "      <td>ultrabook</td>\n",
       "      <td>15.4</td>\n",
       "      <td>ips panel retina display 2880x1800</td>\n",
       "      <td>intel core i7 2.7ghz</td>\n",
       "      <td>16gb</td>\n",
       "      <td>512gb ssd</td>\n",
       "      <td>amd radeon pro 455</td>\n",
       "      <td>macos</td>\n",
       "      <td>1.83kg</td>\n",
       "      <td>2537.45</td>\n",
       "    </tr>\n",
       "    <tr>\n",
       "      <th>4</th>\n",
       "      <td>apple</td>\n",
       "      <td>macbook pro</td>\n",
       "      <td>ultrabook</td>\n",
       "      <td>13.3</td>\n",
       "      <td>ips panel retina display 2560x1600</td>\n",
       "      <td>intel core i5 3.1ghz</td>\n",
       "      <td>8gb</td>\n",
       "      <td>256gb ssd</td>\n",
       "      <td>intel iris plus graphics 650</td>\n",
       "      <td>macos</td>\n",
       "      <td>1.37kg</td>\n",
       "      <td>1803.60</td>\n",
       "    </tr>\n",
       "  </tbody>\n",
       "</table>\n",
       "</div>"
      ],
      "text/plain": [
       "  company      product   typename  inches                    screenresolution  \\\n",
       "0   apple  macbook pro  ultrabook    13.3  ips panel retina display 2560x1600   \n",
       "1   apple  macbook air  ultrabook    13.3                            1440x900   \n",
       "2      hp       250 g6   notebook    15.6                   full hd 1920x1080   \n",
       "3   apple  macbook pro  ultrabook    15.4  ips panel retina display 2880x1800   \n",
       "4   apple  macbook pro  ultrabook    13.3  ips panel retina display 2560x1600   \n",
       "\n",
       "                          cpu   ram               memory  \\\n",
       "0        intel core i5 2.3ghz   8gb            128gb ssd   \n",
       "1        intel core i5 1.8ghz   8gb  128gb flash storage   \n",
       "2  intel core i5 7200u 2.5ghz   8gb            256gb ssd   \n",
       "3        intel core i7 2.7ghz  16gb            512gb ssd   \n",
       "4        intel core i5 3.1ghz   8gb            256gb ssd   \n",
       "\n",
       "                            gpu  opsys  weight  price_euros  \n",
       "0  intel iris plus graphics 640  macos  1.37kg      1339.69  \n",
       "1        intel hd graphics 6000  macos  1.34kg       898.94  \n",
       "2         intel hd graphics 620  no os  1.86kg       575.00  \n",
       "3            amd radeon pro 455  macos  1.83kg      2537.45  \n",
       "4  intel iris plus graphics 650  macos  1.37kg      1803.60  "
      ]
     },
     "execution_count": 13,
     "metadata": {},
     "output_type": "execute_result"
    }
   ],
   "source": [
    "# we need check situation when we have the same characteristics, but price isn`t the same.\n",
    "print('shape before drop_duplicates =', df.shape)\n",
    "columns_without_price = df.columns.drop('price_euros')\n",
    "df = df.drop_duplicates(columns_without_price, keep='first')\n",
    "print('shape after drop_duplicates =', df.shape)\n",
    "df = df.reset_index(drop=True)\n",
    "df.head()"
   ]
  },
  {
   "cell_type": "code",
   "execution_count": 14,
   "metadata": {
    "execution": {
     "iopub.execute_input": "2021-10-28T19:37:22.167282Z",
     "iopub.status.busy": "2021-10-28T19:37:22.166949Z",
     "iopub.status.idle": "2021-10-28T19:37:22.179951Z",
     "shell.execute_reply": "2021-10-28T19:37:22.179258Z",
     "shell.execute_reply.started": "2021-10-28T19:37:22.167240Z"
    }
   },
   "outputs": [
    {
     "data": {
      "text/plain": [
       "company              19\n",
       "product             576\n",
       "typename              6\n",
       "screenresolution     40\n",
       "cpu                 116\n",
       "ram                   9\n",
       "memory               39\n",
       "gpu                 110\n",
       "opsys                 9\n",
       "weight              179\n",
       "dtype: int64"
      ]
     },
     "execution_count": 14,
     "metadata": {},
     "output_type": "execute_result"
    }
   ],
   "source": [
    "# Count unique number for each categorical features.\n",
    "df[categorical_columns].nunique()"
   ]
  },
  {
   "cell_type": "code",
   "execution_count": 15,
   "metadata": {
    "execution": {
     "iopub.execute_input": "2021-10-28T19:37:22.181203Z",
     "iopub.status.busy": "2021-10-28T19:37:22.180945Z",
     "iopub.status.idle": "2021-10-28T19:37:22.193769Z",
     "shell.execute_reply": "2021-10-28T19:37:22.193212Z",
     "shell.execute_reply.started": "2021-10-28T19:37:22.181142Z"
    }
   },
   "outputs": [
    {
     "name": "stdout",
     "output_type": "stream",
     "text": [
      "1250\n"
     ]
    },
    {
     "data": {
      "text/plain": [
       "company              1.52\n",
       "product             46.08\n",
       "typename             0.48\n",
       "screenresolution     3.20\n",
       "cpu                  9.28\n",
       "ram                  0.72\n",
       "memory               3.12\n",
       "gpu                  8.80\n",
       "opsys                0.72\n",
       "weight              14.32\n",
       "dtype: float64"
      ]
     },
     "execution_count": 15,
     "metadata": {},
     "output_type": "execute_result"
    }
   ],
   "source": [
    "print(df.shape[0])\n",
    "(df[categorical_columns].nunique() / len(df) * 100).round(2)"
   ]
  },
  {
   "cell_type": "markdown",
   "metadata": {},
   "source": [
    "Rows count in our dataset `df` are 1303. We can see that `product` has big percent unique values. We will delete their."
   ]
  },
  {
   "cell_type": "code",
   "execution_count": 16,
   "metadata": {
    "execution": {
     "iopub.execute_input": "2021-10-28T19:37:22.195271Z",
     "iopub.status.busy": "2021-10-28T19:37:22.194871Z",
     "iopub.status.idle": "2021-10-28T19:37:22.443106Z",
     "shell.execute_reply": "2021-10-28T19:37:22.442318Z",
     "shell.execute_reply.started": "2021-10-28T19:37:22.195230Z"
    }
   },
   "outputs": [
    {
     "name": "stdout",
     "output_type": "stream",
     "text": [
      "notebook              693\n",
      "gaming                205\n",
      "ultrabook             190\n",
      "2 in 1 convertible    110\n",
      "workstation            29\n",
      "netbook                23\n",
      "Name: typename, dtype: int64\n"
     ]
    },
    {
     "data": {
      "image/png": "[encoded data removed]",
      "text/plain": [
       "<Figure size 1152x720 with 1 Axes>"
      ]
     },
     "metadata": {
      "needs_background": "light"
     },
     "output_type": "display_data"
    }
   ],
   "source": [
    "print(df['typename'].value_counts())\n",
    "sns.countplot(x='typename', data=df);"
   ]
  },
  {
   "cell_type": "code",
   "execution_count": 17,
   "metadata": {
    "execution": {
     "iopub.execute_input": "2021-10-28T19:37:22.444376Z",
     "iopub.status.busy": "2021-10-28T19:37:22.444146Z",
     "iopub.status.idle": "2021-10-28T19:37:22.765086Z",
     "shell.execute_reply": "2021-10-28T19:37:22.764145Z",
     "shell.execute_reply.started": "2021-10-28T19:37:22.444350Z"
    }
   },
   "outputs": [
    {
     "name": "stdout",
     "output_type": "stream",
     "text": [
      "dell         282\n",
      "lenovo       279\n",
      "hp           264\n",
      "asus         152\n",
      "acer         100\n",
      "msi           54\n",
      "toshiba       47\n",
      "apple         21\n",
      "samsung        9\n",
      "razer          7\n",
      "mediacom       7\n",
      "microsoft      6\n",
      "xiaomi         4\n",
      "vero           4\n",
      "chuwi          3\n",
      "google         3\n",
      "fujitsu        3\n",
      "lg             3\n",
      "huawei         2\n",
      "Name: company, dtype: int64\n"
     ]
    },
    {
     "data": {
      "image/png": "[encoded data removed]",
      "text/plain": [
       "<Figure size 1152x720 with 1 Axes>"
      ]
     },
     "metadata": {
      "needs_background": "light"
     },
     "output_type": "display_data"
    }
   ],
   "source": [
    "print(df['company'].value_counts())\n",
    "sns.countplot(x='company', data=df);"
   ]
  },
  {
   "cell_type": "markdown",
   "metadata": {},
   "source": [
    "We have a few `company`, that meets very rarely.\n",
    "\n",
    "Delete `company` with lower counts in datasets."
   ]
  },
  {
   "cell_type": "code",
   "execution_count": 27,
   "metadata": {},
   "outputs": [],
   "source": [
    "th_hold = 6\n",
    "rerary_company = df['company'].value_counts()[(df['company'].value_counts() < th_hold)].keys()\n",
    "for company in rerary_company:\n",
    "    df = df[df['company'] != company]"
   ]
  },
  {
   "cell_type": "code",
   "execution_count": 29,
   "metadata": {},
   "outputs": [
    {
     "data": {
      "text/plain": [
       "dell         282\n",
       "lenovo       279\n",
       "hp           264\n",
       "asus         152\n",
       "acer         100\n",
       "msi           54\n",
       "toshiba       47\n",
       "apple         21\n",
       "samsung        9\n",
       "razer          7\n",
       "mediacom       7\n",
       "microsoft      6\n",
       "Name: company, dtype: int64"
      ]
     },
     "execution_count": 29,
     "metadata": {},
     "output_type": "execute_result"
    }
   ],
   "source": [
    "df['company'].value_counts()"
   ]
  },
  {
   "cell_type": "code",
   "execution_count": null,
   "metadata": {},
   "outputs": [],
   "source": []
  },
  {
   "cell_type": "markdown",
   "metadata": {},
   "source": [
    "### RAM"
   ]
  },
  {
   "cell_type": "code",
   "execution_count": 30,
   "metadata": {
    "execution": {
     "iopub.execute_input": "2021-10-28T19:37:22.766497Z",
     "iopub.status.busy": "2021-10-28T19:37:22.766205Z",
     "iopub.status.idle": "2021-10-28T19:37:23.020282Z",
     "shell.execute_reply": "2021-10-28T19:37:23.019466Z",
     "shell.execute_reply.started": "2021-10-28T19:37:22.766468Z"
    }
   },
   "outputs": [
    {
     "name": "stdout",
     "output_type": "stream",
     "text": [
      "8gb     588\n",
      "4gb     356\n",
      "16gb    191\n",
      "6gb      32\n",
      "12gb     25\n",
      "32gb     17\n",
      "2gb      15\n",
      "24gb      3\n",
      "64gb      1\n",
      "Name: ram, dtype: int64\n"
     ]
    },
    {
     "data": {
      "image/png": "[encoded data removed]",
      "text/plain": [
       "<Figure size 1152x720 with 1 Axes>"
      ]
     },
     "metadata": {
      "needs_background": "light"
     },
     "output_type": "display_data"
    }
   ],
   "source": [
    "print(df['ram'].value_counts())\n",
    "sns.countplot(x='ram', data=df);"
   ]
  },
  {
   "cell_type": "markdown",
   "metadata": {},
   "source": [
    "We have a few `ram`, that meets very rarely.\n",
    "\n",
    "Delete `ram` with lower counts in datasets."
   ]
  },
  {
   "cell_type": "code",
   "execution_count": 31,
   "metadata": {
    "execution": {
     "iopub.execute_input": "2021-10-28T19:37:23.024061Z",
     "iopub.status.busy": "2021-10-28T19:37:23.023795Z",
     "iopub.status.idle": "2021-10-28T19:37:23.029982Z",
     "shell.execute_reply": "2021-10-28T19:37:23.029111Z",
     "shell.execute_reply.started": "2021-10-28T19:37:23.024030Z"
    }
   },
   "outputs": [],
   "source": [
    "df = df[df['ram'] != '64gb']\n",
    "df = df[df['ram'] != '24gb']"
   ]
  },
  {
   "cell_type": "code",
   "execution_count": 33,
   "metadata": {
    "execution": {
     "iopub.execute_input": "2021-10-28T19:37:23.031837Z",
     "iopub.status.busy": "2021-10-28T19:37:23.031199Z",
     "iopub.status.idle": "2021-10-28T19:37:23.294054Z",
     "shell.execute_reply": "2021-10-28T19:37:23.293225Z",
     "shell.execute_reply.started": "2021-10-28T19:37:23.031793Z"
    }
   },
   "outputs": [
    {
     "name": "stdout",
     "output_type": "stream",
     "text": [
      "windows 10      1006\n",
      "no os             63\n",
      "linux             57\n",
      "windows 7         44\n",
      "chrome os         24\n",
      "macos             13\n",
      "mac os x           8\n",
      "windows 10 s       8\n",
      "android            1\n",
      "Name: opsys, dtype: int64\n"
     ]
    },
    {
     "data": {
      "image/png": "[encoded data removed]",
      "text/plain": [
       "<Figure size 1152x720 with 1 Axes>"
      ]
     },
     "metadata": {
      "needs_background": "light"
     },
     "output_type": "display_data"
    }
   ],
   "source": [
    "print(df['opsys'].value_counts())\n",
    "sns.countplot(x='opsys', data=df);"
   ]
  },
  {
   "cell_type": "markdown",
   "metadata": {},
   "source": [
    "Delete `opsys` with rarely counts in datasets and replace `mac os x` to `macos`,  `windows 10 s` to `windows 10 s`, because they are very similar. "
   ]
  },
  {
   "cell_type": "code",
   "execution_count": 34,
   "metadata": {
    "execution": {
     "iopub.execute_input": "2021-10-28T19:37:23.295852Z",
     "iopub.status.busy": "2021-10-28T19:37:23.295563Z",
     "iopub.status.idle": "2021-10-28T19:37:23.302062Z",
     "shell.execute_reply": "2021-10-28T19:37:23.301035Z",
     "shell.execute_reply.started": "2021-10-28T19:37:23.295820Z"
    }
   },
   "outputs": [],
   "source": [
    "df = df[df['opsys'] != 'android']\n",
    "\n",
    "\n",
    "df['opsys'] = df['opsys'].str.replace('mac os x', 'macos')\n",
    "df['opsys'] = df['opsys'].str.replace('windows 10 s', 'windows 10')"
   ]
  },
  {
   "cell_type": "markdown",
   "metadata": {},
   "source": [
    "## Feature generation"
   ]
  },
  {
   "cell_type": "code",
   "execution_count": 35,
   "metadata": {
    "execution": {
     "iopub.execute_input": "2021-10-28T19:37:23.303824Z",
     "iopub.status.busy": "2021-10-28T19:37:23.303520Z",
     "iopub.status.idle": "2021-10-28T19:37:23.329098Z",
     "shell.execute_reply": "2021-10-28T19:37:23.327733Z",
     "shell.execute_reply.started": "2021-10-28T19:37:23.303784Z"
    }
   },
   "outputs": [
    {
     "data": {
      "text/html": [
       "<div>\n",
       "<style scoped>\n",
       "    .dataframe tbody tr th:only-of-type {\n",
       "        vertical-align: middle;\n",
       "    }\n",
       "\n",
       "    .dataframe tbody tr th {\n",
       "        vertical-align: top;\n",
       "    }\n",
       "\n",
       "    .dataframe thead th {\n",
       "        text-align: right;\n",
       "    }\n",
       "</style>\n",
       "<table border=\"1\" class=\"dataframe\">\n",
       "  <thead>\n",
       "    <tr style=\"text-align: right;\">\n",
       "      <th></th>\n",
       "      <th>company</th>\n",
       "      <th>product</th>\n",
       "      <th>typename</th>\n",
       "      <th>inches</th>\n",
       "      <th>screenresolution</th>\n",
       "      <th>cpu</th>\n",
       "      <th>ram</th>\n",
       "      <th>memory</th>\n",
       "      <th>gpu</th>\n",
       "      <th>opsys</th>\n",
       "      <th>weight</th>\n",
       "      <th>price_euros</th>\n",
       "    </tr>\n",
       "  </thead>\n",
       "  <tbody>\n",
       "    <tr>\n",
       "      <th>0</th>\n",
       "      <td>apple</td>\n",
       "      <td>macbook pro</td>\n",
       "      <td>ultrabook</td>\n",
       "      <td>13.3</td>\n",
       "      <td>ips panel retina display 2560x1600</td>\n",
       "      <td>intel core i5 2.3ghz</td>\n",
       "      <td>8gb</td>\n",
       "      <td>128gb ssd</td>\n",
       "      <td>intel iris plus graphics 640</td>\n",
       "      <td>macos</td>\n",
       "      <td>1.37</td>\n",
       "      <td>1339.69</td>\n",
       "    </tr>\n",
       "    <tr>\n",
       "      <th>1</th>\n",
       "      <td>apple</td>\n",
       "      <td>macbook air</td>\n",
       "      <td>ultrabook</td>\n",
       "      <td>13.3</td>\n",
       "      <td>1440x900</td>\n",
       "      <td>intel core i5 1.8ghz</td>\n",
       "      <td>8gb</td>\n",
       "      <td>128gb flash storage</td>\n",
       "      <td>intel hd graphics 6000</td>\n",
       "      <td>macos</td>\n",
       "      <td>1.34</td>\n",
       "      <td>898.94</td>\n",
       "    </tr>\n",
       "    <tr>\n",
       "      <th>2</th>\n",
       "      <td>hp</td>\n",
       "      <td>250 g6</td>\n",
       "      <td>notebook</td>\n",
       "      <td>15.6</td>\n",
       "      <td>full hd 1920x1080</td>\n",
       "      <td>intel core i5 7200u 2.5ghz</td>\n",
       "      <td>8gb</td>\n",
       "      <td>256gb ssd</td>\n",
       "      <td>intel hd graphics 620</td>\n",
       "      <td>no os</td>\n",
       "      <td>1.86</td>\n",
       "      <td>575.00</td>\n",
       "    </tr>\n",
       "    <tr>\n",
       "      <th>3</th>\n",
       "      <td>apple</td>\n",
       "      <td>macbook pro</td>\n",
       "      <td>ultrabook</td>\n",
       "      <td>15.4</td>\n",
       "      <td>ips panel retina display 2880x1800</td>\n",
       "      <td>intel core i7 2.7ghz</td>\n",
       "      <td>16gb</td>\n",
       "      <td>512gb ssd</td>\n",
       "      <td>amd radeon pro 455</td>\n",
       "      <td>macos</td>\n",
       "      <td>1.83</td>\n",
       "      <td>2537.45</td>\n",
       "    </tr>\n",
       "    <tr>\n",
       "      <th>4</th>\n",
       "      <td>apple</td>\n",
       "      <td>macbook pro</td>\n",
       "      <td>ultrabook</td>\n",
       "      <td>13.3</td>\n",
       "      <td>ips panel retina display 2560x1600</td>\n",
       "      <td>intel core i5 3.1ghz</td>\n",
       "      <td>8gb</td>\n",
       "      <td>256gb ssd</td>\n",
       "      <td>intel iris plus graphics 650</td>\n",
       "      <td>macos</td>\n",
       "      <td>1.37</td>\n",
       "      <td>1803.60</td>\n",
       "    </tr>\n",
       "  </tbody>\n",
       "</table>\n",
       "</div>"
      ],
      "text/plain": [
       "  company      product   typename  inches                    screenresolution  \\\n",
       "0   apple  macbook pro  ultrabook    13.3  ips panel retina display 2560x1600   \n",
       "1   apple  macbook air  ultrabook    13.3                            1440x900   \n",
       "2      hp       250 g6   notebook    15.6                   full hd 1920x1080   \n",
       "3   apple  macbook pro  ultrabook    15.4  ips panel retina display 2880x1800   \n",
       "4   apple  macbook pro  ultrabook    13.3  ips panel retina display 2560x1600   \n",
       "\n",
       "                          cpu   ram               memory  \\\n",
       "0        intel core i5 2.3ghz   8gb            128gb ssd   \n",
       "1        intel core i5 1.8ghz   8gb  128gb flash storage   \n",
       "2  intel core i5 7200u 2.5ghz   8gb            256gb ssd   \n",
       "3        intel core i7 2.7ghz  16gb            512gb ssd   \n",
       "4        intel core i5 3.1ghz   8gb            256gb ssd   \n",
       "\n",
       "                            gpu  opsys  weight  price_euros  \n",
       "0  intel iris plus graphics 640  macos    1.37      1339.69  \n",
       "1        intel hd graphics 6000  macos    1.34       898.94  \n",
       "2         intel hd graphics 620  no os    1.86       575.00  \n",
       "3            amd radeon pro 455  macos    1.83      2537.45  \n",
       "4  intel iris plus graphics 650  macos    1.37      1803.60  "
      ]
     },
     "execution_count": 35,
     "metadata": {},
     "output_type": "execute_result"
    }
   ],
   "source": [
    "# convet `weight` to numerical values.\n",
    "df.loc[:, 'weight'] = df.loc[:, 'weight'].apply(lambda x: float(x[:-2]))\n",
    "df.head()"
   ]
  },
  {
   "cell_type": "code",
   "execution_count": 36,
   "metadata": {
    "execution": {
     "iopub.execute_input": "2021-10-28T19:37:23.330986Z",
     "iopub.status.busy": "2021-10-28T19:37:23.330720Z",
     "iopub.status.idle": "2021-10-28T19:37:23.337631Z",
     "shell.execute_reply": "2021-10-28T19:37:23.336771Z",
     "shell.execute_reply.started": "2021-10-28T19:37:23.330955Z"
    }
   },
   "outputs": [],
   "source": [
    "def split_resolution(x):\n",
    "    width = int(x.split('x')[0])\n",
    "    height = int(x.split('x')[1])\n",
    "    return [width, height]"
   ]
  },
  {
   "cell_type": "markdown",
   "metadata": {},
   "source": [
    "### screenresolution"
   ]
  },
  {
   "cell_type": "markdown",
   "metadata": {},
   "source": [
    "Lets extract resolution from `screenresolution`."
   ]
  },
  {
   "cell_type": "code",
   "execution_count": 37,
   "metadata": {
    "execution": {
     "iopub.execute_input": "2021-10-28T19:37:23.339041Z",
     "iopub.status.busy": "2021-10-28T19:37:23.338819Z",
     "iopub.status.idle": "2021-10-28T19:37:23.363747Z",
     "shell.execute_reply": "2021-10-28T19:37:23.362952Z",
     "shell.execute_reply.started": "2021-10-28T19:37:23.339014Z"
    }
   },
   "outputs": [],
   "source": [
    "# lets extract resolution from `screenresolution`.\n",
    "df['resolution'] = df['screenresolution'].str.extract(r'(\\d+x\\d+)')\n",
    "df['screenresolution'] = df['screenresolution'].replace(r'(\\d+x\\d+)', '', regex=True)\n",
    "df['width'] = df['resolution'].apply(lambda x: split_resolution(x)[0])\n",
    "df['height'] = df['resolution'].apply(lambda x: split_resolution(x)[1])"
   ]
  },
  {
   "cell_type": "code",
   "execution_count": 38,
   "metadata": {
    "execution": {
     "iopub.execute_input": "2021-10-28T19:37:23.365094Z",
     "iopub.status.busy": "2021-10-28T19:37:23.364843Z",
     "iopub.status.idle": "2021-10-28T19:37:23.377844Z",
     "shell.execute_reply": "2021-10-28T19:37:23.377223Z",
     "shell.execute_reply.started": "2021-10-28T19:37:23.365056Z"
    }
   },
   "outputs": [
    {
     "data": {
      "text/plain": [
       "full hd                                 490\n",
       "                                        288\n",
       "ips panel full hd                       218\n",
       "full hd / touchscreen                    46\n",
       "ips panel full hd / touchscreen          45\n",
       "touchscreen                              29\n",
       "ips panel retina display                 16\n",
       "quad hd+ / touchscreen                   15\n",
       "ips panel 4k ultra hd                    12\n",
       "ips panel                                11\n",
       "ips panel touchscreen                    10\n",
       "ips panel 4k ultra hd / touchscreen      10\n",
       "4k ultra hd / touchscreen                 9\n",
       "4k ultra hd                               7\n",
       "ips panel quad hd+                        5\n",
       "ips panel quad hd+ / touchscreen          4\n",
       "quad hd+                                  3\n",
       "ips panel touchscreen / 4k ultra hd       2\n",
       "touchscreen / quad hd+                    1\n",
       "touchscreen / full hd                     1\n",
       "touchscreen / 4k ultra hd                 1\n",
       "Name: screenresolution, dtype: int64"
      ]
     },
     "execution_count": 38,
     "metadata": {},
     "output_type": "execute_result"
    }
   ],
   "source": [
    "df['screenresolution'].value_counts()"
   ]
  },
  {
   "cell_type": "code",
   "execution_count": 39,
   "metadata": {
    "execution": {
     "iopub.execute_input": "2021-10-28T19:37:23.379406Z",
     "iopub.status.busy": "2021-10-28T19:37:23.378832Z",
     "iopub.status.idle": "2021-10-28T19:37:23.399217Z",
     "shell.execute_reply": "2021-10-28T19:37:23.398456Z",
     "shell.execute_reply.started": "2021-10-28T19:37:23.379372Z"
    }
   },
   "outputs": [],
   "source": [
    "df['touchscreen'] = (df['screenresolution'].str.extract(r'(touchscreen)') == 'touchscreen').astype(int)\n",
    "df['ips'] = (df['screenresolution'].str.extract(r'(ips)') == 'ips').astype(int)\n",
    "df['full_hd'] = (df['screenresolution'].str.extract(r'(full hd)') == 'full hd').astype(int)\n",
    "df['4k_ultra_hd'] = (df['screenresolution'].str.extract(r'(4k ultra hd)') == '4k ultra hd').astype(int)\n",
    "df['quad_hd'] = (df['screenresolution'].str.extract(r'(quad hd+)') == 'quad hd').astype(int)"
   ]
  },
  {
   "cell_type": "code",
   "execution_count": 40,
   "metadata": {},
   "outputs": [
    {
     "data": {
      "text/plain": [
       "touchscreen    173\n",
       "ips            333\n",
       "full_hd        800\n",
       "4k_ultra_hd     41\n",
       "quad_hd         28\n",
       "dtype: int64"
      ]
     },
     "execution_count": 40,
     "metadata": {},
     "output_type": "execute_result"
    }
   ],
   "source": [
    "df[['touchscreen', 'ips', 'full_hd', '4k_ultra_hd', 'quad_hd']].sum()"
   ]
  },
  {
   "cell_type": "code",
   "execution_count": 41,
   "metadata": {
    "execution": {
     "iopub.execute_input": "2021-10-28T19:37:23.400601Z",
     "iopub.status.busy": "2021-10-28T19:37:23.400397Z",
     "iopub.status.idle": "2021-10-28T19:37:23.418124Z",
     "shell.execute_reply": "2021-10-28T19:37:23.417560Z",
     "shell.execute_reply.started": "2021-10-28T19:37:23.400577Z"
    }
   },
   "outputs": [
    {
     "data": {
      "text/html": [
       "<div>\n",
       "<style scoped>\n",
       "    .dataframe tbody tr th:only-of-type {\n",
       "        vertical-align: middle;\n",
       "    }\n",
       "\n",
       "    .dataframe tbody tr th {\n",
       "        vertical-align: top;\n",
       "    }\n",
       "\n",
       "    .dataframe thead th {\n",
       "        text-align: right;\n",
       "    }\n",
       "</style>\n",
       "<table border=\"1\" class=\"dataframe\">\n",
       "  <thead>\n",
       "    <tr style=\"text-align: right;\">\n",
       "      <th></th>\n",
       "      <th>company</th>\n",
       "      <th>product</th>\n",
       "      <th>typename</th>\n",
       "      <th>inches</th>\n",
       "      <th>screenresolution</th>\n",
       "      <th>cpu</th>\n",
       "      <th>ram</th>\n",
       "      <th>memory</th>\n",
       "      <th>gpu</th>\n",
       "      <th>opsys</th>\n",
       "      <th>weight</th>\n",
       "      <th>price_euros</th>\n",
       "      <th>resolution</th>\n",
       "      <th>width</th>\n",
       "      <th>height</th>\n",
       "      <th>touchscreen</th>\n",
       "      <th>ips</th>\n",
       "      <th>full_hd</th>\n",
       "      <th>4k_ultra_hd</th>\n",
       "      <th>quad_hd</th>\n",
       "    </tr>\n",
       "  </thead>\n",
       "  <tbody>\n",
       "    <tr>\n",
       "      <th>0</th>\n",
       "      <td>apple</td>\n",
       "      <td>macbook pro</td>\n",
       "      <td>ultrabook</td>\n",
       "      <td>13.3</td>\n",
       "      <td>ips panel retina display</td>\n",
       "      <td>intel core i5 2.3ghz</td>\n",
       "      <td>8gb</td>\n",
       "      <td>128gb ssd</td>\n",
       "      <td>intel iris plus graphics 640</td>\n",
       "      <td>macos</td>\n",
       "      <td>1.37</td>\n",
       "      <td>1339.69</td>\n",
       "      <td>2560x1600</td>\n",
       "      <td>2560</td>\n",
       "      <td>1600</td>\n",
       "      <td>0</td>\n",
       "      <td>1</td>\n",
       "      <td>0</td>\n",
       "      <td>0</td>\n",
       "      <td>0</td>\n",
       "    </tr>\n",
       "    <tr>\n",
       "      <th>1</th>\n",
       "      <td>apple</td>\n",
       "      <td>macbook air</td>\n",
       "      <td>ultrabook</td>\n",
       "      <td>13.3</td>\n",
       "      <td></td>\n",
       "      <td>intel core i5 1.8ghz</td>\n",
       "      <td>8gb</td>\n",
       "      <td>128gb flash storage</td>\n",
       "      <td>intel hd graphics 6000</td>\n",
       "      <td>macos</td>\n",
       "      <td>1.34</td>\n",
       "      <td>898.94</td>\n",
       "      <td>1440x900</td>\n",
       "      <td>1440</td>\n",
       "      <td>900</td>\n",
       "      <td>0</td>\n",
       "      <td>0</td>\n",
       "      <td>0</td>\n",
       "      <td>0</td>\n",
       "      <td>0</td>\n",
       "    </tr>\n",
       "    <tr>\n",
       "      <th>2</th>\n",
       "      <td>hp</td>\n",
       "      <td>250 g6</td>\n",
       "      <td>notebook</td>\n",
       "      <td>15.6</td>\n",
       "      <td>full hd</td>\n",
       "      <td>intel core i5 7200u 2.5ghz</td>\n",
       "      <td>8gb</td>\n",
       "      <td>256gb ssd</td>\n",
       "      <td>intel hd graphics 620</td>\n",
       "      <td>no os</td>\n",
       "      <td>1.86</td>\n",
       "      <td>575.00</td>\n",
       "      <td>1920x1080</td>\n",
       "      <td>1920</td>\n",
       "      <td>1080</td>\n",
       "      <td>0</td>\n",
       "      <td>0</td>\n",
       "      <td>1</td>\n",
       "      <td>0</td>\n",
       "      <td>0</td>\n",
       "    </tr>\n",
       "    <tr>\n",
       "      <th>3</th>\n",
       "      <td>apple</td>\n",
       "      <td>macbook pro</td>\n",
       "      <td>ultrabook</td>\n",
       "      <td>15.4</td>\n",
       "      <td>ips panel retina display</td>\n",
       "      <td>intel core i7 2.7ghz</td>\n",
       "      <td>16gb</td>\n",
       "      <td>512gb ssd</td>\n",
       "      <td>amd radeon pro 455</td>\n",
       "      <td>macos</td>\n",
       "      <td>1.83</td>\n",
       "      <td>2537.45</td>\n",
       "      <td>2880x1800</td>\n",
       "      <td>2880</td>\n",
       "      <td>1800</td>\n",
       "      <td>0</td>\n",
       "      <td>1</td>\n",
       "      <td>0</td>\n",
       "      <td>0</td>\n",
       "      <td>0</td>\n",
       "    </tr>\n",
       "    <tr>\n",
       "      <th>4</th>\n",
       "      <td>apple</td>\n",
       "      <td>macbook pro</td>\n",
       "      <td>ultrabook</td>\n",
       "      <td>13.3</td>\n",
       "      <td>ips panel retina display</td>\n",
       "      <td>intel core i5 3.1ghz</td>\n",
       "      <td>8gb</td>\n",
       "      <td>256gb ssd</td>\n",
       "      <td>intel iris plus graphics 650</td>\n",
       "      <td>macos</td>\n",
       "      <td>1.37</td>\n",
       "      <td>1803.60</td>\n",
       "      <td>2560x1600</td>\n",
       "      <td>2560</td>\n",
       "      <td>1600</td>\n",
       "      <td>0</td>\n",
       "      <td>1</td>\n",
       "      <td>0</td>\n",
       "      <td>0</td>\n",
       "      <td>0</td>\n",
       "    </tr>\n",
       "  </tbody>\n",
       "</table>\n",
       "</div>"
      ],
      "text/plain": [
       "  company      product   typename  inches           screenresolution  \\\n",
       "0   apple  macbook pro  ultrabook    13.3  ips panel retina display    \n",
       "1   apple  macbook air  ultrabook    13.3                              \n",
       "2      hp       250 g6   notebook    15.6                   full hd    \n",
       "3   apple  macbook pro  ultrabook    15.4  ips panel retina display    \n",
       "4   apple  macbook pro  ultrabook    13.3  ips panel retina display    \n",
       "\n",
       "                          cpu   ram               memory  \\\n",
       "0        intel core i5 2.3ghz   8gb            128gb ssd   \n",
       "1        intel core i5 1.8ghz   8gb  128gb flash storage   \n",
       "2  intel core i5 7200u 2.5ghz   8gb            256gb ssd   \n",
       "3        intel core i7 2.7ghz  16gb            512gb ssd   \n",
       "4        intel core i5 3.1ghz   8gb            256gb ssd   \n",
       "\n",
       "                            gpu  opsys  weight  price_euros resolution  width  \\\n",
       "0  intel iris plus graphics 640  macos    1.37      1339.69  2560x1600   2560   \n",
       "1        intel hd graphics 6000  macos    1.34       898.94   1440x900   1440   \n",
       "2         intel hd graphics 620  no os    1.86       575.00  1920x1080   1920   \n",
       "3            amd radeon pro 455  macos    1.83      2537.45  2880x1800   2880   \n",
       "4  intel iris plus graphics 650  macos    1.37      1803.60  2560x1600   2560   \n",
       "\n",
       "   height  touchscreen  ips  full_hd  4k_ultra_hd  quad_hd  \n",
       "0    1600            0    1        0            0        0  \n",
       "1     900            0    0        0            0        0  \n",
       "2    1080            0    0        1            0        0  \n",
       "3    1800            0    1        0            0        0  \n",
       "4    1600            0    1        0            0        0  "
      ]
     },
     "execution_count": 41,
     "metadata": {},
     "output_type": "execute_result"
    }
   ],
   "source": [
    "df.head()"
   ]
  },
  {
   "cell_type": "markdown",
   "metadata": {},
   "source": [
    "### CPU"
   ]
  },
  {
   "cell_type": "code",
   "execution_count": 42,
   "metadata": {
    "execution": {
     "iopub.execute_input": "2021-10-28T19:37:23.419763Z",
     "iopub.status.busy": "2021-10-28T19:37:23.419390Z",
     "iopub.status.idle": "2021-10-28T19:37:23.437869Z",
     "shell.execute_reply": "2021-10-28T19:37:23.437062Z",
     "shell.execute_reply.started": "2021-10-28T19:37:23.419733Z"
    }
   },
   "outputs": [],
   "source": [
    "df['ghz'] = df['cpu'].str.extract(r'(\\d+(?:\\.\\d+)?ghz)') \n",
    "df['ghz'] = df['ghz'].apply(lambda x: x[:-3]).astype(float)\n",
    "df['cpu'] = df['cpu'].replace(r'(\\d+(?:\\.\\d+)?ghz)', '', regex=True)"
   ]
  },
  {
   "cell_type": "code",
   "execution_count": 43,
   "metadata": {
    "execution": {
     "iopub.execute_input": "2021-10-28T19:37:23.439324Z",
     "iopub.status.busy": "2021-10-28T19:37:23.438978Z",
     "iopub.status.idle": "2021-10-28T19:37:23.469895Z",
     "shell.execute_reply": "2021-10-28T19:37:23.469058Z",
     "shell.execute_reply.started": "2021-10-28T19:37:23.439293Z"
    }
   },
   "outputs": [
    {
     "data": {
      "text/html": [
       "<div>\n",
       "<style scoped>\n",
       "    .dataframe tbody tr th:only-of-type {\n",
       "        vertical-align: middle;\n",
       "    }\n",
       "\n",
       "    .dataframe tbody tr th {\n",
       "        vertical-align: top;\n",
       "    }\n",
       "\n",
       "    .dataframe thead th {\n",
       "        text-align: right;\n",
       "    }\n",
       "</style>\n",
       "<table border=\"1\" class=\"dataframe\">\n",
       "  <thead>\n",
       "    <tr style=\"text-align: right;\">\n",
       "      <th></th>\n",
       "      <th>company</th>\n",
       "      <th>product</th>\n",
       "      <th>typename</th>\n",
       "      <th>inches</th>\n",
       "      <th>screenresolution</th>\n",
       "      <th>cpu</th>\n",
       "      <th>ram</th>\n",
       "      <th>memory</th>\n",
       "      <th>gpu</th>\n",
       "      <th>opsys</th>\n",
       "      <th>...</th>\n",
       "      <th>price_euros</th>\n",
       "      <th>resolution</th>\n",
       "      <th>width</th>\n",
       "      <th>height</th>\n",
       "      <th>touchscreen</th>\n",
       "      <th>ips</th>\n",
       "      <th>full_hd</th>\n",
       "      <th>4k_ultra_hd</th>\n",
       "      <th>quad_hd</th>\n",
       "      <th>ghz</th>\n",
       "    </tr>\n",
       "  </thead>\n",
       "  <tbody>\n",
       "    <tr>\n",
       "      <th>0</th>\n",
       "      <td>apple</td>\n",
       "      <td>macbook pro</td>\n",
       "      <td>ultrabook</td>\n",
       "      <td>13.3</td>\n",
       "      <td>ips panel retina display</td>\n",
       "      <td>intel core i5</td>\n",
       "      <td>8gb</td>\n",
       "      <td>128gb ssd</td>\n",
       "      <td>intel iris plus graphics 640</td>\n",
       "      <td>macos</td>\n",
       "      <td>...</td>\n",
       "      <td>1339.69</td>\n",
       "      <td>2560x1600</td>\n",
       "      <td>2560</td>\n",
       "      <td>1600</td>\n",
       "      <td>0</td>\n",
       "      <td>1</td>\n",
       "      <td>0</td>\n",
       "      <td>0</td>\n",
       "      <td>0</td>\n",
       "      <td>2.3</td>\n",
       "    </tr>\n",
       "    <tr>\n",
       "      <th>1</th>\n",
       "      <td>apple</td>\n",
       "      <td>macbook air</td>\n",
       "      <td>ultrabook</td>\n",
       "      <td>13.3</td>\n",
       "      <td></td>\n",
       "      <td>intel core i5</td>\n",
       "      <td>8gb</td>\n",
       "      <td>128gb flash storage</td>\n",
       "      <td>intel hd graphics 6000</td>\n",
       "      <td>macos</td>\n",
       "      <td>...</td>\n",
       "      <td>898.94</td>\n",
       "      <td>1440x900</td>\n",
       "      <td>1440</td>\n",
       "      <td>900</td>\n",
       "      <td>0</td>\n",
       "      <td>0</td>\n",
       "      <td>0</td>\n",
       "      <td>0</td>\n",
       "      <td>0</td>\n",
       "      <td>1.8</td>\n",
       "    </tr>\n",
       "    <tr>\n",
       "      <th>2</th>\n",
       "      <td>hp</td>\n",
       "      <td>250 g6</td>\n",
       "      <td>notebook</td>\n",
       "      <td>15.6</td>\n",
       "      <td>full hd</td>\n",
       "      <td>intel core i5 7200u</td>\n",
       "      <td>8gb</td>\n",
       "      <td>256gb ssd</td>\n",
       "      <td>intel hd graphics 620</td>\n",
       "      <td>no os</td>\n",
       "      <td>...</td>\n",
       "      <td>575.00</td>\n",
       "      <td>1920x1080</td>\n",
       "      <td>1920</td>\n",
       "      <td>1080</td>\n",
       "      <td>0</td>\n",
       "      <td>0</td>\n",
       "      <td>1</td>\n",
       "      <td>0</td>\n",
       "      <td>0</td>\n",
       "      <td>2.5</td>\n",
       "    </tr>\n",
       "    <tr>\n",
       "      <th>3</th>\n",
       "      <td>apple</td>\n",
       "      <td>macbook pro</td>\n",
       "      <td>ultrabook</td>\n",
       "      <td>15.4</td>\n",
       "      <td>ips panel retina display</td>\n",
       "      <td>intel core i7</td>\n",
       "      <td>16gb</td>\n",
       "      <td>512gb ssd</td>\n",
       "      <td>amd radeon pro 455</td>\n",
       "      <td>macos</td>\n",
       "      <td>...</td>\n",
       "      <td>2537.45</td>\n",
       "      <td>2880x1800</td>\n",
       "      <td>2880</td>\n",
       "      <td>1800</td>\n",
       "      <td>0</td>\n",
       "      <td>1</td>\n",
       "      <td>0</td>\n",
       "      <td>0</td>\n",
       "      <td>0</td>\n",
       "      <td>2.7</td>\n",
       "    </tr>\n",
       "    <tr>\n",
       "      <th>4</th>\n",
       "      <td>apple</td>\n",
       "      <td>macbook pro</td>\n",
       "      <td>ultrabook</td>\n",
       "      <td>13.3</td>\n",
       "      <td>ips panel retina display</td>\n",
       "      <td>intel core i5</td>\n",
       "      <td>8gb</td>\n",
       "      <td>256gb ssd</td>\n",
       "      <td>intel iris plus graphics 650</td>\n",
       "      <td>macos</td>\n",
       "      <td>...</td>\n",
       "      <td>1803.60</td>\n",
       "      <td>2560x1600</td>\n",
       "      <td>2560</td>\n",
       "      <td>1600</td>\n",
       "      <td>0</td>\n",
       "      <td>1</td>\n",
       "      <td>0</td>\n",
       "      <td>0</td>\n",
       "      <td>0</td>\n",
       "      <td>3.1</td>\n",
       "    </tr>\n",
       "  </tbody>\n",
       "</table>\n",
       "<p>5 rows × 21 columns</p>\n",
       "</div>"
      ],
      "text/plain": [
       "  company      product   typename  inches           screenresolution  \\\n",
       "0   apple  macbook pro  ultrabook    13.3  ips panel retina display    \n",
       "1   apple  macbook air  ultrabook    13.3                              \n",
       "2      hp       250 g6   notebook    15.6                   full hd    \n",
       "3   apple  macbook pro  ultrabook    15.4  ips panel retina display    \n",
       "4   apple  macbook pro  ultrabook    13.3  ips panel retina display    \n",
       "\n",
       "                    cpu   ram               memory  \\\n",
       "0        intel core i5    8gb            128gb ssd   \n",
       "1        intel core i5    8gb  128gb flash storage   \n",
       "2  intel core i5 7200u    8gb            256gb ssd   \n",
       "3        intel core i7   16gb            512gb ssd   \n",
       "4        intel core i5    8gb            256gb ssd   \n",
       "\n",
       "                            gpu  opsys  ...  price_euros  resolution width  \\\n",
       "0  intel iris plus graphics 640  macos  ...      1339.69   2560x1600  2560   \n",
       "1        intel hd graphics 6000  macos  ...       898.94    1440x900  1440   \n",
       "2         intel hd graphics 620  no os  ...       575.00   1920x1080  1920   \n",
       "3            amd radeon pro 455  macos  ...      2537.45   2880x1800  2880   \n",
       "4  intel iris plus graphics 650  macos  ...      1803.60   2560x1600  2560   \n",
       "\n",
       "   height  touchscreen  ips  full_hd  4k_ultra_hd  quad_hd  ghz  \n",
       "0    1600            0    1        0            0        0  2.3  \n",
       "1     900            0    0        0            0        0  1.8  \n",
       "2    1080            0    0        1            0        0  2.5  \n",
       "3    1800            0    1        0            0        0  2.7  \n",
       "4    1600            0    1        0            0        0  3.1  \n",
       "\n",
       "[5 rows x 21 columns]"
      ]
     },
     "execution_count": 43,
     "metadata": {},
     "output_type": "execute_result"
    }
   ],
   "source": [
    "df.head()"
   ]
  },
  {
   "cell_type": "code",
   "execution_count": 44,
   "metadata": {
    "execution": {
     "iopub.execute_input": "2021-10-28T19:37:23.471528Z",
     "iopub.status.busy": "2021-10-28T19:37:23.471303Z",
     "iopub.status.idle": "2021-10-28T19:37:23.474989Z",
     "shell.execute_reply": "2021-10-28T19:37:23.474215Z",
     "shell.execute_reply.started": "2021-10-28T19:37:23.471502Z"
    }
   },
   "outputs": [],
   "source": [
    "def extract_brand(x):\n",
    "    return x.split(' ')[0]"
   ]
  },
  {
   "cell_type": "code",
   "execution_count": 45,
   "metadata": {
    "execution": {
     "iopub.execute_input": "2021-10-28T19:37:23.477199Z",
     "iopub.status.busy": "2021-10-28T19:37:23.476630Z",
     "iopub.status.idle": "2021-10-28T19:37:23.492449Z",
     "shell.execute_reply": "2021-10-28T19:37:23.491595Z",
     "shell.execute_reply.started": "2021-10-28T19:37:23.477141Z"
    }
   },
   "outputs": [
    {
     "data": {
      "text/plain": [
       "intel      1163\n",
       "amd          59\n",
       "samsung       1\n",
       "Name: cpu, dtype: int64"
      ]
     },
     "execution_count": 45,
     "metadata": {},
     "output_type": "execute_result"
    }
   ],
   "source": [
    "df['cpu'].apply(lambda x: extract_brand(x)).value_counts()"
   ]
  },
  {
   "cell_type": "markdown",
   "metadata": {},
   "source": [
    "Delete `samsung` cpu brand with lower counts in datasets."
   ]
  },
  {
   "cell_type": "code",
   "execution_count": 46,
   "metadata": {
    "execution": {
     "iopub.execute_input": "2021-10-28T19:37:23.493920Z",
     "iopub.status.busy": "2021-10-28T19:37:23.493624Z",
     "iopub.status.idle": "2021-10-28T19:37:23.501722Z",
     "shell.execute_reply": "2021-10-28T19:37:23.501091Z",
     "shell.execute_reply.started": "2021-10-28T19:37:23.493862Z"
    }
   },
   "outputs": [],
   "source": [
    "df = df[~df['cpu'].str.startswith('samsung')]"
   ]
  },
  {
   "cell_type": "code",
   "execution_count": 47,
   "metadata": {
    "execution": {
     "iopub.execute_input": "2021-10-28T19:37:23.503716Z",
     "iopub.status.busy": "2021-10-28T19:37:23.502987Z",
     "iopub.status.idle": "2021-10-28T19:37:23.515833Z",
     "shell.execute_reply": "2021-10-28T19:37:23.515152Z",
     "shell.execute_reply.started": "2021-10-28T19:37:23.503672Z"
    }
   },
   "outputs": [],
   "source": [
    "df['cpu_intel'] = (df['cpu'].str.extract(r'(intel)') == 'intel').astype(int)\n",
    "df['cpu_amd'] = (df['cpu'].str.extract(r'(amd)') == 'amd').astype(int)"
   ]
  },
  {
   "cell_type": "code",
   "execution_count": null,
   "metadata": {
    "execution": {
     "iopub.execute_input": "2021-10-28T19:37:23.517323Z",
     "iopub.status.busy": "2021-10-28T19:37:23.516986Z",
     "iopub.status.idle": "2021-10-28T19:37:23.538661Z",
     "shell.execute_reply": "2021-10-28T19:37:23.538117Z",
     "shell.execute_reply.started": "2021-10-28T19:37:23.517294Z"
    }
   },
   "outputs": [],
   "source": []
  },
  {
   "cell_type": "markdown",
   "metadata": {},
   "source": [
    "### GPU"
   ]
  },
  {
   "cell_type": "code",
   "execution_count": 48,
   "metadata": {
    "execution": {
     "iopub.execute_input": "2021-10-28T19:37:23.539982Z",
     "iopub.status.busy": "2021-10-28T19:37:23.539655Z",
     "iopub.status.idle": "2021-10-28T19:37:23.548922Z",
     "shell.execute_reply": "2021-10-28T19:37:23.548047Z",
     "shell.execute_reply.started": "2021-10-28T19:37:23.539955Z"
    }
   },
   "outputs": [
    {
     "data": {
      "text/plain": [
       "intel     670\n",
       "nvidia    385\n",
       "amd       167\n",
       "Name: gpu, dtype: int64"
      ]
     },
     "execution_count": 48,
     "metadata": {},
     "output_type": "execute_result"
    }
   ],
   "source": [
    "df['gpu'].apply(lambda x: extract_brand(x)).value_counts()"
   ]
  },
  {
   "cell_type": "code",
   "execution_count": 49,
   "metadata": {
    "execution": {
     "iopub.execute_input": "2021-10-28T19:37:23.551116Z",
     "iopub.status.busy": "2021-10-28T19:37:23.550899Z",
     "iopub.status.idle": "2021-10-28T19:37:23.563264Z",
     "shell.execute_reply": "2021-10-28T19:37:23.562448Z",
     "shell.execute_reply.started": "2021-10-28T19:37:23.551092Z"
    }
   },
   "outputs": [],
   "source": [
    "df['gpu_intel'] = (df['gpu'].str.extract(r'(intel)') == 'intel').astype(int)\n",
    "df['gpu_nvidia'] = (df['gpu'].str.extract(r'(nvidia)') == 'nvidia').astype(int)\n",
    "df['gpu_amd'] = (df['gpu'].str.extract(r'(amd)') == 'amd').astype(int)"
   ]
  },
  {
   "cell_type": "code",
   "execution_count": 50,
   "metadata": {
    "execution": {
     "iopub.execute_input": "2021-10-28T19:37:23.564663Z",
     "iopub.status.busy": "2021-10-28T19:37:23.564353Z",
     "iopub.status.idle": "2021-10-28T19:37:23.591122Z",
     "shell.execute_reply": "2021-10-28T19:37:23.590405Z",
     "shell.execute_reply.started": "2021-10-28T19:37:23.564637Z"
    }
   },
   "outputs": [
    {
     "data": {
      "text/html": [
       "<div>\n",
       "<style scoped>\n",
       "    .dataframe tbody tr th:only-of-type {\n",
       "        vertical-align: middle;\n",
       "    }\n",
       "\n",
       "    .dataframe tbody tr th {\n",
       "        vertical-align: top;\n",
       "    }\n",
       "\n",
       "    .dataframe thead th {\n",
       "        text-align: right;\n",
       "    }\n",
       "</style>\n",
       "<table border=\"1\" class=\"dataframe\">\n",
       "  <thead>\n",
       "    <tr style=\"text-align: right;\">\n",
       "      <th></th>\n",
       "      <th>company</th>\n",
       "      <th>product</th>\n",
       "      <th>typename</th>\n",
       "      <th>inches</th>\n",
       "      <th>screenresolution</th>\n",
       "      <th>cpu</th>\n",
       "      <th>ram</th>\n",
       "      <th>memory</th>\n",
       "      <th>gpu</th>\n",
       "      <th>opsys</th>\n",
       "      <th>...</th>\n",
       "      <th>ips</th>\n",
       "      <th>full_hd</th>\n",
       "      <th>4k_ultra_hd</th>\n",
       "      <th>quad_hd</th>\n",
       "      <th>ghz</th>\n",
       "      <th>cpu_intel</th>\n",
       "      <th>cpu_amd</th>\n",
       "      <th>gpu_intel</th>\n",
       "      <th>gpu_nvidia</th>\n",
       "      <th>gpu_amd</th>\n",
       "    </tr>\n",
       "  </thead>\n",
       "  <tbody>\n",
       "    <tr>\n",
       "      <th>0</th>\n",
       "      <td>apple</td>\n",
       "      <td>macbook pro</td>\n",
       "      <td>ultrabook</td>\n",
       "      <td>13.3</td>\n",
       "      <td>ips panel retina display</td>\n",
       "      <td>intel core i5</td>\n",
       "      <td>8gb</td>\n",
       "      <td>128gb ssd</td>\n",
       "      <td>intel iris plus graphics 640</td>\n",
       "      <td>macos</td>\n",
       "      <td>...</td>\n",
       "      <td>1</td>\n",
       "      <td>0</td>\n",
       "      <td>0</td>\n",
       "      <td>0</td>\n",
       "      <td>2.3</td>\n",
       "      <td>1</td>\n",
       "      <td>0</td>\n",
       "      <td>1</td>\n",
       "      <td>0</td>\n",
       "      <td>0</td>\n",
       "    </tr>\n",
       "    <tr>\n",
       "      <th>1</th>\n",
       "      <td>apple</td>\n",
       "      <td>macbook air</td>\n",
       "      <td>ultrabook</td>\n",
       "      <td>13.3</td>\n",
       "      <td></td>\n",
       "      <td>intel core i5</td>\n",
       "      <td>8gb</td>\n",
       "      <td>128gb flash storage</td>\n",
       "      <td>intel hd graphics 6000</td>\n",
       "      <td>macos</td>\n",
       "      <td>...</td>\n",
       "      <td>0</td>\n",
       "      <td>0</td>\n",
       "      <td>0</td>\n",
       "      <td>0</td>\n",
       "      <td>1.8</td>\n",
       "      <td>1</td>\n",
       "      <td>0</td>\n",
       "      <td>1</td>\n",
       "      <td>0</td>\n",
       "      <td>0</td>\n",
       "    </tr>\n",
       "    <tr>\n",
       "      <th>2</th>\n",
       "      <td>hp</td>\n",
       "      <td>250 g6</td>\n",
       "      <td>notebook</td>\n",
       "      <td>15.6</td>\n",
       "      <td>full hd</td>\n",
       "      <td>intel core i5 7200u</td>\n",
       "      <td>8gb</td>\n",
       "      <td>256gb ssd</td>\n",
       "      <td>intel hd graphics 620</td>\n",
       "      <td>no os</td>\n",
       "      <td>...</td>\n",
       "      <td>0</td>\n",
       "      <td>1</td>\n",
       "      <td>0</td>\n",
       "      <td>0</td>\n",
       "      <td>2.5</td>\n",
       "      <td>1</td>\n",
       "      <td>0</td>\n",
       "      <td>1</td>\n",
       "      <td>0</td>\n",
       "      <td>0</td>\n",
       "    </tr>\n",
       "    <tr>\n",
       "      <th>3</th>\n",
       "      <td>apple</td>\n",
       "      <td>macbook pro</td>\n",
       "      <td>ultrabook</td>\n",
       "      <td>15.4</td>\n",
       "      <td>ips panel retina display</td>\n",
       "      <td>intel core i7</td>\n",
       "      <td>16gb</td>\n",
       "      <td>512gb ssd</td>\n",
       "      <td>amd radeon pro 455</td>\n",
       "      <td>macos</td>\n",
       "      <td>...</td>\n",
       "      <td>1</td>\n",
       "      <td>0</td>\n",
       "      <td>0</td>\n",
       "      <td>0</td>\n",
       "      <td>2.7</td>\n",
       "      <td>1</td>\n",
       "      <td>0</td>\n",
       "      <td>0</td>\n",
       "      <td>0</td>\n",
       "      <td>1</td>\n",
       "    </tr>\n",
       "    <tr>\n",
       "      <th>4</th>\n",
       "      <td>apple</td>\n",
       "      <td>macbook pro</td>\n",
       "      <td>ultrabook</td>\n",
       "      <td>13.3</td>\n",
       "      <td>ips panel retina display</td>\n",
       "      <td>intel core i5</td>\n",
       "      <td>8gb</td>\n",
       "      <td>256gb ssd</td>\n",
       "      <td>intel iris plus graphics 650</td>\n",
       "      <td>macos</td>\n",
       "      <td>...</td>\n",
       "      <td>1</td>\n",
       "      <td>0</td>\n",
       "      <td>0</td>\n",
       "      <td>0</td>\n",
       "      <td>3.1</td>\n",
       "      <td>1</td>\n",
       "      <td>0</td>\n",
       "      <td>1</td>\n",
       "      <td>0</td>\n",
       "      <td>0</td>\n",
       "    </tr>\n",
       "  </tbody>\n",
       "</table>\n",
       "<p>5 rows × 26 columns</p>\n",
       "</div>"
      ],
      "text/plain": [
       "  company      product   typename  inches           screenresolution  \\\n",
       "0   apple  macbook pro  ultrabook    13.3  ips panel retina display    \n",
       "1   apple  macbook air  ultrabook    13.3                              \n",
       "2      hp       250 g6   notebook    15.6                   full hd    \n",
       "3   apple  macbook pro  ultrabook    15.4  ips panel retina display    \n",
       "4   apple  macbook pro  ultrabook    13.3  ips panel retina display    \n",
       "\n",
       "                    cpu   ram               memory  \\\n",
       "0        intel core i5    8gb            128gb ssd   \n",
       "1        intel core i5    8gb  128gb flash storage   \n",
       "2  intel core i5 7200u    8gb            256gb ssd   \n",
       "3        intel core i7   16gb            512gb ssd   \n",
       "4        intel core i5    8gb            256gb ssd   \n",
       "\n",
       "                            gpu  opsys  ...  ips  full_hd 4k_ultra_hd  \\\n",
       "0  intel iris plus graphics 640  macos  ...    1        0           0   \n",
       "1        intel hd graphics 6000  macos  ...    0        0           0   \n",
       "2         intel hd graphics 620  no os  ...    0        1           0   \n",
       "3            amd radeon pro 455  macos  ...    1        0           0   \n",
       "4  intel iris plus graphics 650  macos  ...    1        0           0   \n",
       "\n",
       "   quad_hd  ghz  cpu_intel  cpu_amd  gpu_intel  gpu_nvidia  gpu_amd  \n",
       "0        0  2.3          1        0          1           0        0  \n",
       "1        0  1.8          1        0          1           0        0  \n",
       "2        0  2.5          1        0          1           0        0  \n",
       "3        0  2.7          1        0          0           0        1  \n",
       "4        0  3.1          1        0          1           0        0  \n",
       "\n",
       "[5 rows x 26 columns]"
      ]
     },
     "execution_count": 50,
     "metadata": {},
     "output_type": "execute_result"
    }
   ],
   "source": [
    "df.head()"
   ]
  },
  {
   "cell_type": "markdown",
   "metadata": {},
   "source": [
    "### memory"
   ]
  },
  {
   "cell_type": "code",
   "execution_count": 51,
   "metadata": {
    "execution": {
     "iopub.execute_input": "2021-10-28T19:37:23.592536Z",
     "iopub.status.busy": "2021-10-28T19:37:23.592340Z",
     "iopub.status.idle": "2021-10-28T19:37:23.601766Z",
     "shell.execute_reply": "2021-10-28T19:37:23.601012Z",
     "shell.execute_reply.started": "2021-10-28T19:37:23.592512Z"
    }
   },
   "outputs": [
    {
     "data": {
      "text/plain": [
       "256gb ssd                        391\n",
       "1tb hdd                          213\n",
       "500gb hdd                        122\n",
       "512gb ssd                        104\n",
       "128gb ssd +  1tb hdd              92\n",
       "128gb ssd                         73\n",
       "256gb ssd +  1tb hdd              72\n",
       "32gb flash storage                31\n",
       "2tb hdd                           16\n",
       "512gb ssd +  1tb hdd              14\n",
       "1tb ssd                           13\n",
       "256gb flash storage                8\n",
       "256gb ssd +  2tb hdd               8\n",
       "64gb flash storage                 7\n",
       "16gb flash storage                 7\n",
       "1.0tb hybrid                       7\n",
       "32gb ssd                           6\n",
       "180gb ssd                          5\n",
       "128gb flash storage                4\n",
       "512gb ssd +  2tb hdd               3\n",
       "16gb ssd                           3\n",
       "512gb flash storage                2\n",
       "1tb ssd +  1tb hdd                 2\n",
       "256gb ssd +  500gb hdd             2\n",
       "128gb ssd +  2tb hdd               2\n",
       "256gb ssd +  256gb ssd             2\n",
       "512gb ssd +  256gb ssd             1\n",
       "512gb ssd +  512gb ssd             1\n",
       "64gb flash storage +  1tb hdd      1\n",
       "1tb hdd +  1tb hdd                 1\n",
       "32gb hdd                           1\n",
       "64gb ssd                           1\n",
       "128gb hdd                          1\n",
       "240gb ssd                          1\n",
       "8gb ssd                            1\n",
       "508gb hybrid                       1\n",
       "1.0tb hdd                          1\n",
       "512gb ssd +  1.0tb hybrid          1\n",
       "256gb ssd +  1.0tb hybrid          1\n",
       "Name: memory, dtype: int64"
      ]
     },
     "execution_count": 51,
     "metadata": {},
     "output_type": "execute_result"
    }
   ],
   "source": [
    "df['memory'].value_counts()"
   ]
  },
  {
   "cell_type": "markdown",
   "metadata": {},
   "source": [
    "Extracy type of memory."
   ]
  },
  {
   "cell_type": "code",
   "execution_count": 52,
   "metadata": {
    "execution": {
     "iopub.execute_input": "2021-10-28T19:37:23.603538Z",
     "iopub.status.busy": "2021-10-28T19:37:23.602898Z",
     "iopub.status.idle": "2021-10-28T19:37:23.617199Z",
     "shell.execute_reply": "2021-10-28T19:37:23.616551Z",
     "shell.execute_reply.started": "2021-10-28T19:37:23.603503Z"
    }
   },
   "outputs": [],
   "source": [
    "df['memory_ssd'] = (df['memory'].str.extract(r'(ssd)') == 'ssd').astype(int)\n",
    "df['memory_hdd'] = (df['memory'].str.extract(r'(hdd)') == 'hdd').astype(int)\n",
    "df['memory_flash'] = (df['memory'].str.extract(r'(flash storage)') == 'flash storage').astype(int)"
   ]
  },
  {
   "cell_type": "code",
   "execution_count": 54,
   "metadata": {
    "execution": {
     "iopub.execute_input": "2021-10-28T19:37:23.642649Z",
     "iopub.status.busy": "2021-10-28T19:37:23.642120Z",
     "iopub.status.idle": "2021-10-28T19:37:23.648559Z",
     "shell.execute_reply": "2021-10-28T19:37:23.647724Z",
     "shell.execute_reply.started": "2021-10-28T19:37:23.642612Z"
    }
   },
   "outputs": [],
   "source": [
    "def split_memory(x, type_memory):\n",
    "    \"\"\"\n",
    "    x: str\n",
    "    type_memory: str\n",
    "    \n",
    "    split `str` by \"+\"\n",
    "    and extract storege size for each type_memory \n",
    "    \"\"\"\n",
    "    \n",
    "    res = x.split('+')\n",
    "    \n",
    "    ssd_value = 0\n",
    "    hdd_value = 0\n",
    "    flash_value = 0 \n",
    "    for _ in res:\n",
    "        \n",
    "        count_gb = int(re.findall(r'\\d+', _)[0])\n",
    "        if 'tb' in _:\n",
    "            count_gb = count_gb * 1024\n",
    "        \n",
    "        if 'ssd' in _:\n",
    "            ssd_value += count_gb\n",
    "        elif 'hdd' in _:\n",
    "            hdd_value += count_gb\n",
    "        else:\n",
    "            flash_value += count_gb\n",
    "            \n",
    "    if type_memory == 'ssd':\n",
    "        return ssd_value\n",
    "    elif type_memory == 'hdd':\n",
    "        return hdd_value\n",
    "    else:\n",
    "        return flash_value"
   ]
  },
  {
   "cell_type": "code",
   "execution_count": 55,
   "metadata": {
    "execution": {
     "iopub.execute_input": "2021-10-28T19:37:23.650778Z",
     "iopub.status.busy": "2021-10-28T19:37:23.650528Z",
     "iopub.status.idle": "2021-10-28T19:37:23.673963Z",
     "shell.execute_reply": "2021-10-28T19:37:23.673246Z",
     "shell.execute_reply.started": "2021-10-28T19:37:23.650750Z"
    }
   },
   "outputs": [],
   "source": [
    "df['ssd_value'] = df['memory'].apply(lambda x: split_memory(x, 'ssd'))\n",
    "df['hdd_value'] = df['memory'].apply(lambda x: split_memory(x, 'hdd'))\n",
    "df['flash_value'] = df['memory'].apply(lambda x: split_memory(x, 'flash'))"
   ]
  },
  {
   "cell_type": "code",
   "execution_count": 56,
   "metadata": {
    "execution": {
     "iopub.execute_input": "2021-10-28T19:37:23.674974Z",
     "iopub.status.busy": "2021-10-28T19:37:23.674799Z",
     "iopub.status.idle": "2021-10-28T19:37:23.700523Z",
     "shell.execute_reply": "2021-10-28T19:37:23.699817Z",
     "shell.execute_reply.started": "2021-10-28T19:37:23.674952Z"
    }
   },
   "outputs": [
    {
     "data": {
      "text/html": [
       "<div>\n",
       "<style scoped>\n",
       "    .dataframe tbody tr th:only-of-type {\n",
       "        vertical-align: middle;\n",
       "    }\n",
       "\n",
       "    .dataframe tbody tr th {\n",
       "        vertical-align: top;\n",
       "    }\n",
       "\n",
       "    .dataframe thead th {\n",
       "        text-align: right;\n",
       "    }\n",
       "</style>\n",
       "<table border=\"1\" class=\"dataframe\">\n",
       "  <thead>\n",
       "    <tr style=\"text-align: right;\">\n",
       "      <th></th>\n",
       "      <th>company</th>\n",
       "      <th>product</th>\n",
       "      <th>typename</th>\n",
       "      <th>inches</th>\n",
       "      <th>screenresolution</th>\n",
       "      <th>cpu</th>\n",
       "      <th>ram</th>\n",
       "      <th>memory</th>\n",
       "      <th>gpu</th>\n",
       "      <th>opsys</th>\n",
       "      <th>...</th>\n",
       "      <th>cpu_amd</th>\n",
       "      <th>gpu_intel</th>\n",
       "      <th>gpu_nvidia</th>\n",
       "      <th>gpu_amd</th>\n",
       "      <th>memory_ssd</th>\n",
       "      <th>memory_hdd</th>\n",
       "      <th>memory_flash</th>\n",
       "      <th>ssd_value</th>\n",
       "      <th>hdd_value</th>\n",
       "      <th>flash_value</th>\n",
       "    </tr>\n",
       "  </thead>\n",
       "  <tbody>\n",
       "    <tr>\n",
       "      <th>0</th>\n",
       "      <td>apple</td>\n",
       "      <td>macbook pro</td>\n",
       "      <td>ultrabook</td>\n",
       "      <td>13.3</td>\n",
       "      <td>ips panel retina display</td>\n",
       "      <td>intel core i5</td>\n",
       "      <td>8gb</td>\n",
       "      <td>128gb ssd</td>\n",
       "      <td>intel iris plus graphics 640</td>\n",
       "      <td>macos</td>\n",
       "      <td>...</td>\n",
       "      <td>0</td>\n",
       "      <td>1</td>\n",
       "      <td>0</td>\n",
       "      <td>0</td>\n",
       "      <td>1</td>\n",
       "      <td>0</td>\n",
       "      <td>0</td>\n",
       "      <td>128</td>\n",
       "      <td>0</td>\n",
       "      <td>0</td>\n",
       "    </tr>\n",
       "    <tr>\n",
       "      <th>1</th>\n",
       "      <td>apple</td>\n",
       "      <td>macbook air</td>\n",
       "      <td>ultrabook</td>\n",
       "      <td>13.3</td>\n",
       "      <td></td>\n",
       "      <td>intel core i5</td>\n",
       "      <td>8gb</td>\n",
       "      <td>128gb flash storage</td>\n",
       "      <td>intel hd graphics 6000</td>\n",
       "      <td>macos</td>\n",
       "      <td>...</td>\n",
       "      <td>0</td>\n",
       "      <td>1</td>\n",
       "      <td>0</td>\n",
       "      <td>0</td>\n",
       "      <td>0</td>\n",
       "      <td>0</td>\n",
       "      <td>1</td>\n",
       "      <td>0</td>\n",
       "      <td>0</td>\n",
       "      <td>128</td>\n",
       "    </tr>\n",
       "    <tr>\n",
       "      <th>2</th>\n",
       "      <td>hp</td>\n",
       "      <td>250 g6</td>\n",
       "      <td>notebook</td>\n",
       "      <td>15.6</td>\n",
       "      <td>full hd</td>\n",
       "      <td>intel core i5 7200u</td>\n",
       "      <td>8gb</td>\n",
       "      <td>256gb ssd</td>\n",
       "      <td>intel hd graphics 620</td>\n",
       "      <td>no os</td>\n",
       "      <td>...</td>\n",
       "      <td>0</td>\n",
       "      <td>1</td>\n",
       "      <td>0</td>\n",
       "      <td>0</td>\n",
       "      <td>1</td>\n",
       "      <td>0</td>\n",
       "      <td>0</td>\n",
       "      <td>256</td>\n",
       "      <td>0</td>\n",
       "      <td>0</td>\n",
       "    </tr>\n",
       "    <tr>\n",
       "      <th>3</th>\n",
       "      <td>apple</td>\n",
       "      <td>macbook pro</td>\n",
       "      <td>ultrabook</td>\n",
       "      <td>15.4</td>\n",
       "      <td>ips panel retina display</td>\n",
       "      <td>intel core i7</td>\n",
       "      <td>16gb</td>\n",
       "      <td>512gb ssd</td>\n",
       "      <td>amd radeon pro 455</td>\n",
       "      <td>macos</td>\n",
       "      <td>...</td>\n",
       "      <td>0</td>\n",
       "      <td>0</td>\n",
       "      <td>0</td>\n",
       "      <td>1</td>\n",
       "      <td>1</td>\n",
       "      <td>0</td>\n",
       "      <td>0</td>\n",
       "      <td>512</td>\n",
       "      <td>0</td>\n",
       "      <td>0</td>\n",
       "    </tr>\n",
       "    <tr>\n",
       "      <th>4</th>\n",
       "      <td>apple</td>\n",
       "      <td>macbook pro</td>\n",
       "      <td>ultrabook</td>\n",
       "      <td>13.3</td>\n",
       "      <td>ips panel retina display</td>\n",
       "      <td>intel core i5</td>\n",
       "      <td>8gb</td>\n",
       "      <td>256gb ssd</td>\n",
       "      <td>intel iris plus graphics 650</td>\n",
       "      <td>macos</td>\n",
       "      <td>...</td>\n",
       "      <td>0</td>\n",
       "      <td>1</td>\n",
       "      <td>0</td>\n",
       "      <td>0</td>\n",
       "      <td>1</td>\n",
       "      <td>0</td>\n",
       "      <td>0</td>\n",
       "      <td>256</td>\n",
       "      <td>0</td>\n",
       "      <td>0</td>\n",
       "    </tr>\n",
       "    <tr>\n",
       "      <th>5</th>\n",
       "      <td>acer</td>\n",
       "      <td>aspire 3</td>\n",
       "      <td>notebook</td>\n",
       "      <td>15.6</td>\n",
       "      <td></td>\n",
       "      <td>amd a9-series 9420</td>\n",
       "      <td>4gb</td>\n",
       "      <td>500gb hdd</td>\n",
       "      <td>amd radeon r5</td>\n",
       "      <td>windows 10</td>\n",
       "      <td>...</td>\n",
       "      <td>1</td>\n",
       "      <td>0</td>\n",
       "      <td>0</td>\n",
       "      <td>1</td>\n",
       "      <td>0</td>\n",
       "      <td>1</td>\n",
       "      <td>0</td>\n",
       "      <td>0</td>\n",
       "      <td>500</td>\n",
       "      <td>0</td>\n",
       "    </tr>\n",
       "    <tr>\n",
       "      <th>6</th>\n",
       "      <td>apple</td>\n",
       "      <td>macbook pro</td>\n",
       "      <td>ultrabook</td>\n",
       "      <td>15.4</td>\n",
       "      <td>ips panel retina display</td>\n",
       "      <td>intel core i7</td>\n",
       "      <td>16gb</td>\n",
       "      <td>256gb flash storage</td>\n",
       "      <td>intel iris pro graphics</td>\n",
       "      <td>macos</td>\n",
       "      <td>...</td>\n",
       "      <td>0</td>\n",
       "      <td>1</td>\n",
       "      <td>0</td>\n",
       "      <td>0</td>\n",
       "      <td>0</td>\n",
       "      <td>0</td>\n",
       "      <td>1</td>\n",
       "      <td>0</td>\n",
       "      <td>0</td>\n",
       "      <td>256</td>\n",
       "    </tr>\n",
       "    <tr>\n",
       "      <th>7</th>\n",
       "      <td>apple</td>\n",
       "      <td>macbook air</td>\n",
       "      <td>ultrabook</td>\n",
       "      <td>13.3</td>\n",
       "      <td></td>\n",
       "      <td>intel core i5</td>\n",
       "      <td>8gb</td>\n",
       "      <td>256gb flash storage</td>\n",
       "      <td>intel hd graphics 6000</td>\n",
       "      <td>macos</td>\n",
       "      <td>...</td>\n",
       "      <td>0</td>\n",
       "      <td>1</td>\n",
       "      <td>0</td>\n",
       "      <td>0</td>\n",
       "      <td>0</td>\n",
       "      <td>0</td>\n",
       "      <td>1</td>\n",
       "      <td>0</td>\n",
       "      <td>0</td>\n",
       "      <td>256</td>\n",
       "    </tr>\n",
       "    <tr>\n",
       "      <th>8</th>\n",
       "      <td>asus</td>\n",
       "      <td>zenbook ux430un</td>\n",
       "      <td>ultrabook</td>\n",
       "      <td>14.0</td>\n",
       "      <td>full hd</td>\n",
       "      <td>intel core i7 8550u</td>\n",
       "      <td>16gb</td>\n",
       "      <td>512gb ssd</td>\n",
       "      <td>nvidia geforce mx150</td>\n",
       "      <td>windows 10</td>\n",
       "      <td>...</td>\n",
       "      <td>0</td>\n",
       "      <td>0</td>\n",
       "      <td>1</td>\n",
       "      <td>0</td>\n",
       "      <td>1</td>\n",
       "      <td>0</td>\n",
       "      <td>0</td>\n",
       "      <td>512</td>\n",
       "      <td>0</td>\n",
       "      <td>0</td>\n",
       "    </tr>\n",
       "    <tr>\n",
       "      <th>9</th>\n",
       "      <td>acer</td>\n",
       "      <td>swift 3</td>\n",
       "      <td>ultrabook</td>\n",
       "      <td>14.0</td>\n",
       "      <td>ips panel full hd</td>\n",
       "      <td>intel core i5 8250u</td>\n",
       "      <td>8gb</td>\n",
       "      <td>256gb ssd</td>\n",
       "      <td>intel uhd graphics 620</td>\n",
       "      <td>windows 10</td>\n",
       "      <td>...</td>\n",
       "      <td>0</td>\n",
       "      <td>1</td>\n",
       "      <td>0</td>\n",
       "      <td>0</td>\n",
       "      <td>1</td>\n",
       "      <td>0</td>\n",
       "      <td>0</td>\n",
       "      <td>256</td>\n",
       "      <td>0</td>\n",
       "      <td>0</td>\n",
       "    </tr>\n",
       "  </tbody>\n",
       "</table>\n",
       "<p>10 rows × 32 columns</p>\n",
       "</div>"
      ],
      "text/plain": [
       "  company          product   typename  inches           screenresolution  \\\n",
       "0   apple      macbook pro  ultrabook    13.3  ips panel retina display    \n",
       "1   apple      macbook air  ultrabook    13.3                              \n",
       "2      hp           250 g6   notebook    15.6                   full hd    \n",
       "3   apple      macbook pro  ultrabook    15.4  ips panel retina display    \n",
       "4   apple      macbook pro  ultrabook    13.3  ips panel retina display    \n",
       "5    acer         aspire 3   notebook    15.6                              \n",
       "6   apple      macbook pro  ultrabook    15.4  ips panel retina display    \n",
       "7   apple      macbook air  ultrabook    13.3                              \n",
       "8    asus  zenbook ux430un  ultrabook    14.0                   full hd    \n",
       "9    acer          swift 3  ultrabook    14.0         ips panel full hd    \n",
       "\n",
       "                    cpu   ram               memory  \\\n",
       "0        intel core i5    8gb            128gb ssd   \n",
       "1        intel core i5    8gb  128gb flash storage   \n",
       "2  intel core i5 7200u    8gb            256gb ssd   \n",
       "3        intel core i7   16gb            512gb ssd   \n",
       "4        intel core i5    8gb            256gb ssd   \n",
       "5   amd a9-series 9420    4gb            500gb hdd   \n",
       "6        intel core i7   16gb  256gb flash storage   \n",
       "7        intel core i5    8gb  256gb flash storage   \n",
       "8  intel core i7 8550u   16gb            512gb ssd   \n",
       "9  intel core i5 8250u    8gb            256gb ssd   \n",
       "\n",
       "                            gpu       opsys  ...  cpu_amd  gpu_intel  \\\n",
       "0  intel iris plus graphics 640       macos  ...        0          1   \n",
       "1        intel hd graphics 6000       macos  ...        0          1   \n",
       "2         intel hd graphics 620       no os  ...        0          1   \n",
       "3            amd radeon pro 455       macos  ...        0          0   \n",
       "4  intel iris plus graphics 650       macos  ...        0          1   \n",
       "5                 amd radeon r5  windows 10  ...        1          0   \n",
       "6       intel iris pro graphics       macos  ...        0          1   \n",
       "7        intel hd graphics 6000       macos  ...        0          1   \n",
       "8          nvidia geforce mx150  windows 10  ...        0          0   \n",
       "9        intel uhd graphics 620  windows 10  ...        0          1   \n",
       "\n",
       "  gpu_nvidia  gpu_amd  memory_ssd  memory_hdd  memory_flash  ssd_value  \\\n",
       "0          0        0           1           0             0        128   \n",
       "1          0        0           0           0             1          0   \n",
       "2          0        0           1           0             0        256   \n",
       "3          0        1           1           0             0        512   \n",
       "4          0        0           1           0             0        256   \n",
       "5          0        1           0           1             0          0   \n",
       "6          0        0           0           0             1          0   \n",
       "7          0        0           0           0             1          0   \n",
       "8          1        0           1           0             0        512   \n",
       "9          0        0           1           0             0        256   \n",
       "\n",
       "   hdd_value  flash_value  \n",
       "0          0            0  \n",
       "1          0          128  \n",
       "2          0            0  \n",
       "3          0            0  \n",
       "4          0            0  \n",
       "5        500            0  \n",
       "6          0          256  \n",
       "7          0          256  \n",
       "8          0            0  \n",
       "9          0            0  \n",
       "\n",
       "[10 rows x 32 columns]"
      ]
     },
     "execution_count": 56,
     "metadata": {},
     "output_type": "execute_result"
    }
   ],
   "source": [
    "df.head(10)"
   ]
  },
  {
   "cell_type": "code",
   "execution_count": null,
   "metadata": {},
   "outputs": [],
   "source": []
  },
  {
   "cell_type": "markdown",
   "metadata": {},
   "source": [
    "Drop unnessery columns."
   ]
  },
  {
   "cell_type": "code",
   "execution_count": 59,
   "metadata": {
    "execution": {
     "iopub.execute_input": "2021-10-28T19:37:23.701901Z",
     "iopub.status.busy": "2021-10-28T19:37:23.701611Z",
     "iopub.status.idle": "2021-10-28T19:37:23.707495Z",
     "shell.execute_reply": "2021-10-28T19:37:23.706933Z",
     "shell.execute_reply.started": "2021-10-28T19:37:23.701870Z"
    }
   },
   "outputs": [
    {
     "data": {
      "text/plain": [
       "Index(['company', 'product', 'typename', 'inches', 'screenresolution', 'cpu',\n",
       "       'ram', 'memory', 'gpu', 'opsys', 'weight', 'price_euros', 'resolution',\n",
       "       'width', 'height', 'touchscreen', 'ips', 'full_hd', '4k_ultra_hd',\n",
       "       'quad_hd', 'ghz', 'cpu_intel', 'cpu_amd', 'gpu_intel', 'gpu_nvidia',\n",
       "       'gpu_amd', 'memory_ssd', 'memory_hdd', 'memory_flash', 'ssd_value',\n",
       "       'hdd_value', 'flash_value'],\n",
       "      dtype='object')"
      ]
     },
     "execution_count": 59,
     "metadata": {},
     "output_type": "execute_result"
    }
   ],
   "source": [
    "df.columns"
   ]
  },
  {
   "cell_type": "code",
   "execution_count": 60,
   "metadata": {
    "execution": {
     "iopub.execute_input": "2021-10-28T19:37:23.708883Z",
     "iopub.status.busy": "2021-10-28T19:37:23.708350Z",
     "iopub.status.idle": "2021-10-28T19:37:23.735408Z",
     "shell.execute_reply": "2021-10-28T19:37:23.734569Z",
     "shell.execute_reply.started": "2021-10-28T19:37:23.708844Z"
    }
   },
   "outputs": [
    {
     "data": {
      "text/html": [
       "<div>\n",
       "<style scoped>\n",
       "    .dataframe tbody tr th:only-of-type {\n",
       "        vertical-align: middle;\n",
       "    }\n",
       "\n",
       "    .dataframe tbody tr th {\n",
       "        vertical-align: top;\n",
       "    }\n",
       "\n",
       "    .dataframe thead th {\n",
       "        text-align: right;\n",
       "    }\n",
       "</style>\n",
       "<table border=\"1\" class=\"dataframe\">\n",
       "  <thead>\n",
       "    <tr style=\"text-align: right;\">\n",
       "      <th></th>\n",
       "      <th>company</th>\n",
       "      <th>typename</th>\n",
       "      <th>inches</th>\n",
       "      <th>ram</th>\n",
       "      <th>opsys</th>\n",
       "      <th>weight</th>\n",
       "      <th>price_euros</th>\n",
       "      <th>width</th>\n",
       "      <th>height</th>\n",
       "      <th>touchscreen</th>\n",
       "      <th>...</th>\n",
       "      <th>cpu_amd</th>\n",
       "      <th>gpu_intel</th>\n",
       "      <th>gpu_nvidia</th>\n",
       "      <th>gpu_amd</th>\n",
       "      <th>memory_ssd</th>\n",
       "      <th>memory_hdd</th>\n",
       "      <th>memory_flash</th>\n",
       "      <th>ssd_value</th>\n",
       "      <th>hdd_value</th>\n",
       "      <th>flash_value</th>\n",
       "    </tr>\n",
       "  </thead>\n",
       "  <tbody>\n",
       "    <tr>\n",
       "      <th>0</th>\n",
       "      <td>apple</td>\n",
       "      <td>ultrabook</td>\n",
       "      <td>13.3</td>\n",
       "      <td>8gb</td>\n",
       "      <td>macos</td>\n",
       "      <td>1.37</td>\n",
       "      <td>1339.69</td>\n",
       "      <td>2560</td>\n",
       "      <td>1600</td>\n",
       "      <td>0</td>\n",
       "      <td>...</td>\n",
       "      <td>0</td>\n",
       "      <td>1</td>\n",
       "      <td>0</td>\n",
       "      <td>0</td>\n",
       "      <td>1</td>\n",
       "      <td>0</td>\n",
       "      <td>0</td>\n",
       "      <td>128</td>\n",
       "      <td>0</td>\n",
       "      <td>0</td>\n",
       "    </tr>\n",
       "    <tr>\n",
       "      <th>1</th>\n",
       "      <td>apple</td>\n",
       "      <td>ultrabook</td>\n",
       "      <td>13.3</td>\n",
       "      <td>8gb</td>\n",
       "      <td>macos</td>\n",
       "      <td>1.34</td>\n",
       "      <td>898.94</td>\n",
       "      <td>1440</td>\n",
       "      <td>900</td>\n",
       "      <td>0</td>\n",
       "      <td>...</td>\n",
       "      <td>0</td>\n",
       "      <td>1</td>\n",
       "      <td>0</td>\n",
       "      <td>0</td>\n",
       "      <td>0</td>\n",
       "      <td>0</td>\n",
       "      <td>1</td>\n",
       "      <td>0</td>\n",
       "      <td>0</td>\n",
       "      <td>128</td>\n",
       "    </tr>\n",
       "    <tr>\n",
       "      <th>2</th>\n",
       "      <td>hp</td>\n",
       "      <td>notebook</td>\n",
       "      <td>15.6</td>\n",
       "      <td>8gb</td>\n",
       "      <td>no os</td>\n",
       "      <td>1.86</td>\n",
       "      <td>575.00</td>\n",
       "      <td>1920</td>\n",
       "      <td>1080</td>\n",
       "      <td>0</td>\n",
       "      <td>...</td>\n",
       "      <td>0</td>\n",
       "      <td>1</td>\n",
       "      <td>0</td>\n",
       "      <td>0</td>\n",
       "      <td>1</td>\n",
       "      <td>0</td>\n",
       "      <td>0</td>\n",
       "      <td>256</td>\n",
       "      <td>0</td>\n",
       "      <td>0</td>\n",
       "    </tr>\n",
       "    <tr>\n",
       "      <th>3</th>\n",
       "      <td>apple</td>\n",
       "      <td>ultrabook</td>\n",
       "      <td>15.4</td>\n",
       "      <td>16gb</td>\n",
       "      <td>macos</td>\n",
       "      <td>1.83</td>\n",
       "      <td>2537.45</td>\n",
       "      <td>2880</td>\n",
       "      <td>1800</td>\n",
       "      <td>0</td>\n",
       "      <td>...</td>\n",
       "      <td>0</td>\n",
       "      <td>0</td>\n",
       "      <td>0</td>\n",
       "      <td>1</td>\n",
       "      <td>1</td>\n",
       "      <td>0</td>\n",
       "      <td>0</td>\n",
       "      <td>512</td>\n",
       "      <td>0</td>\n",
       "      <td>0</td>\n",
       "    </tr>\n",
       "    <tr>\n",
       "      <th>4</th>\n",
       "      <td>apple</td>\n",
       "      <td>ultrabook</td>\n",
       "      <td>13.3</td>\n",
       "      <td>8gb</td>\n",
       "      <td>macos</td>\n",
       "      <td>1.37</td>\n",
       "      <td>1803.60</td>\n",
       "      <td>2560</td>\n",
       "      <td>1600</td>\n",
       "      <td>0</td>\n",
       "      <td>...</td>\n",
       "      <td>0</td>\n",
       "      <td>1</td>\n",
       "      <td>0</td>\n",
       "      <td>0</td>\n",
       "      <td>1</td>\n",
       "      <td>0</td>\n",
       "      <td>0</td>\n",
       "      <td>256</td>\n",
       "      <td>0</td>\n",
       "      <td>0</td>\n",
       "    </tr>\n",
       "  </tbody>\n",
       "</table>\n",
       "<p>5 rows × 26 columns</p>\n",
       "</div>"
      ],
      "text/plain": [
       "  company   typename  inches   ram  opsys  weight  price_euros  width  height  \\\n",
       "0   apple  ultrabook    13.3   8gb  macos    1.37      1339.69   2560    1600   \n",
       "1   apple  ultrabook    13.3   8gb  macos    1.34       898.94   1440     900   \n",
       "2      hp   notebook    15.6   8gb  no os    1.86       575.00   1920    1080   \n",
       "3   apple  ultrabook    15.4  16gb  macos    1.83      2537.45   2880    1800   \n",
       "4   apple  ultrabook    13.3   8gb  macos    1.37      1803.60   2560    1600   \n",
       "\n",
       "   touchscreen  ...  cpu_amd  gpu_intel  gpu_nvidia  gpu_amd  memory_ssd  \\\n",
       "0            0  ...        0          1           0        0           1   \n",
       "1            0  ...        0          1           0        0           0   \n",
       "2            0  ...        0          1           0        0           1   \n",
       "3            0  ...        0          0           0        1           1   \n",
       "4            0  ...        0          1           0        0           1   \n",
       "\n",
       "   memory_hdd  memory_flash  ssd_value  hdd_value  flash_value  \n",
       "0           0             0        128          0            0  \n",
       "1           0             1          0          0          128  \n",
       "2           0             0        256          0            0  \n",
       "3           0             0        512          0            0  \n",
       "4           0             0        256          0            0  \n",
       "\n",
       "[5 rows x 26 columns]"
      ]
     },
     "execution_count": 60,
     "metadata": {},
     "output_type": "execute_result"
    }
   ],
   "source": [
    "df = df.drop(['product', 'screenresolution', 'cpu', 'gpu', 'memory', 'resolution'], axis=1)\n",
    "df.head()"
   ]
  },
  {
   "cell_type": "code",
   "execution_count": 66,
   "metadata": {},
   "outputs": [
    {
     "data": {
      "image/png": "[encoded data removed]",
      "text/plain": [
       "<Figure size 1152x720 with 2 Axes>"
      ]
     },
     "metadata": {
      "needs_background": "light"
     },
     "output_type": "display_data"
    }
   ],
   "source": [
    "heatmap = sns.heatmap(df.corr(), vmin=-1, vmax=1, annot=True, cmap='BrBG')\n",
    "heatmap.set_title('Correlation Heatmap', fontdict={'fontsize':16}, pad=12);"
   ]
  },
  {
   "cell_type": "code",
   "execution_count": 68,
   "metadata": {
    "execution": {
     "iopub.execute_input": "2021-10-28T19:37:23.736807Z",
     "iopub.status.busy": "2021-10-28T19:37:23.736578Z",
     "iopub.status.idle": "2021-10-28T19:37:24.055894Z",
     "shell.execute_reply": "2021-10-28T19:37:24.054695Z",
     "shell.execute_reply.started": "2021-10-28T19:37:23.736780Z"
    }
   },
   "outputs": [
    {
     "data": {
      "image/png": "[encoded data removed]",
      "text/plain": [
       "<Figure size 1152x720 with 1 Axes>"
      ]
     },
     "metadata": {
      "needs_background": "light"
     },
     "output_type": "display_data"
    }
   ],
   "source": [
    "sns.distplot(df['price_euros'], hist_kws={'rwidth':0.85, 'edgecolor':'black', 'alpha':0.75});"
   ]
  },
  {
   "cell_type": "code",
   "execution_count": 70,
   "metadata": {
    "execution": {
     "iopub.execute_input": "2021-10-28T19:37:24.057770Z",
     "iopub.status.busy": "2021-10-28T19:37:24.057451Z",
     "iopub.status.idle": "2021-10-28T19:37:24.324492Z",
     "shell.execute_reply": "2021-10-28T19:37:24.323755Z",
     "shell.execute_reply.started": "2021-10-28T19:37:24.057729Z"
    }
   },
   "outputs": [
    {
     "data": {
      "image/png": "[encoded data removed]",
      "text/plain": [
       "<Figure size 1152x720 with 1 Axes>"
      ]
     },
     "metadata": {
      "needs_background": "light"
     },
     "output_type": "display_data"
    }
   ],
   "source": [
    "sns.distplot(np.log(df['price_euros']), hist_kws={'rwidth':0.85, 'edgecolor':'black', 'alpha':0.75});"
   ]
  },
  {
   "cell_type": "code",
   "execution_count": null,
   "metadata": {},
   "outputs": [],
   "source": []
  },
  {
   "cell_type": "markdown",
   "metadata": {},
   "source": [
    "Transform our target columns."
   ]
  },
  {
   "cell_type": "code",
   "execution_count": 76,
   "metadata": {
    "execution": {
     "iopub.execute_input": "2021-10-28T19:37:24.325996Z",
     "iopub.status.busy": "2021-10-28T19:37:24.325454Z",
     "iopub.status.idle": "2021-10-28T19:37:24.328805Z",
     "shell.execute_reply": "2021-10-28T19:37:24.328290Z",
     "shell.execute_reply.started": "2021-10-28T19:37:24.325965Z"
    }
   },
   "outputs": [],
   "source": [
    "df['log_price'] = np.log(df['price_euros'])"
   ]
  },
  {
   "cell_type": "code",
   "execution_count": null,
   "metadata": {},
   "outputs": [],
   "source": []
  },
  {
   "cell_type": "markdown",
   "metadata": {},
   "source": [
    "## BUILD MODELS"
   ]
  },
  {
   "cell_type": "code",
   "execution_count": 77,
   "metadata": {
    "execution": {
     "iopub.execute_input": "2021-10-28T20:07:06.674820Z",
     "iopub.status.busy": "2021-10-28T20:07:06.673854Z",
     "iopub.status.idle": "2021-10-28T20:07:06.679506Z",
     "shell.execute_reply": "2021-10-28T20:07:06.678569Z",
     "shell.execute_reply.started": "2021-10-28T20:07:06.674781Z"
    }
   },
   "outputs": [],
   "source": [
    "from sklearn.ensemble import RandomForestRegressor\n",
    "from sklearn.metrics import mean_squared_error\n",
    "\n",
    "from sklearn.model_selection import train_test_split\n",
    "from sklearn.model_selection import cross_val_score\n",
    "from sklearn.model_selection import GridSearchCV\n",
    "\n",
    "from sklearn.metrics import mean_absolute_error\n",
    "from sklearn.model_selection import KFold\n",
    "\n",
    "import sklearn\n",
    "\n",
    "\n",
    "import xgboost as xgb"
   ]
  },
  {
   "cell_type": "code",
   "execution_count": null,
   "metadata": {
    "execution": {
     "iopub.execute_input": "2021-10-28T19:37:24.380946Z",
     "iopub.status.busy": "2021-10-28T19:37:24.380576Z",
     "iopub.status.idle": "2021-10-28T19:37:24.387088Z",
     "shell.execute_reply": "2021-10-28T19:37:24.386241Z",
     "shell.execute_reply.started": "2021-10-28T19:37:24.380916Z"
    }
   },
   "outputs": [],
   "source": []
  },
  {
   "cell_type": "code",
   "execution_count": 78,
   "metadata": {
    "execution": {
     "iopub.execute_input": "2021-10-28T19:37:24.389946Z",
     "iopub.status.busy": "2021-10-28T19:37:24.389133Z",
     "iopub.status.idle": "2021-10-28T19:37:24.401228Z",
     "shell.execute_reply": "2021-10-28T19:37:24.400533Z",
     "shell.execute_reply.started": "2021-10-28T19:37:24.389896Z"
    }
   },
   "outputs": [],
   "source": [
    "# Split our data to train, validation and test.\n",
    "\n",
    "df_full_train, df_test = train_test_split(df, test_size=0.2, random_state=7)\n",
    "df_train, df_val = train_test_split(df_full_train, test_size=0.25, random_state=7)"
   ]
  },
  {
   "cell_type": "code",
   "execution_count": 79,
   "metadata": {
    "execution": {
     "iopub.execute_input": "2021-10-28T19:37:24.403023Z",
     "iopub.status.busy": "2021-10-28T19:37:24.402417Z",
     "iopub.status.idle": "2021-10-28T19:37:24.412983Z",
     "shell.execute_reply": "2021-10-28T19:37:24.412147Z",
     "shell.execute_reply.started": "2021-10-28T19:37:24.402993Z"
    }
   },
   "outputs": [],
   "source": [
    "y_full_train = df_full_train[['price_euros', 'log_price']]\n",
    "y_train = df_train[['price_euros', 'log_price']]\n",
    "y_test = df_test[['price_euros', 'log_price']]\n",
    "y_val = df_val[['price_euros', 'log_price']]\n",
    "\n",
    "df_full_train = df_full_train.drop(['price_euros', 'log_price'], axis=1)\n",
    "df_train = df_train.drop(['price_euros', 'log_price'], axis=1)\n",
    "df_test = df_test.drop(['price_euros', 'log_price'], axis=1)\n",
    "df_val = df_val.drop(['price_euros', 'log_price'], axis=1)"
   ]
  },
  {
   "cell_type": "code",
   "execution_count": 81,
   "metadata": {
    "execution": {
     "iopub.execute_input": "2021-10-28T19:37:24.414298Z",
     "iopub.status.busy": "2021-10-28T19:37:24.414047Z",
     "iopub.status.idle": "2021-10-28T19:37:24.473242Z",
     "shell.execute_reply": "2021-10-28T19:37:24.472364Z",
     "shell.execute_reply.started": "2021-10-28T19:37:24.414268Z"
    }
   },
   "outputs": [],
   "source": [
    "dv = DictVectorizer(sparse=False)\n",
    "\n",
    "train_dict = df_train.to_dict(orient='records')\n",
    "X_train = dv.fit_transform(train_dict)\n",
    "\n",
    "test_dict = df_test.to_dict(orient='records')\n",
    "X_test = dv.transform(test_dict)\n",
    "\n",
    "val_dict = df_val.to_dict(orient='records')\n",
    "X_val = dv.transform(val_dict)"
   ]
  },
  {
   "cell_type": "code",
   "execution_count": 82,
   "metadata": {
    "execution": {
     "iopub.execute_input": "2021-10-28T19:37:24.475577Z",
     "iopub.status.busy": "2021-10-28T19:37:24.474648Z",
     "iopub.status.idle": "2021-10-28T19:37:24.692364Z",
     "shell.execute_reply": "2021-10-28T19:37:24.691385Z",
     "shell.execute_reply.started": "2021-10-28T19:37:24.475533Z"
    }
   },
   "outputs": [],
   "source": [
    "rf = RandomForestRegressor(random_state=7, n_jobs=-1)"
   ]
  },
  {
   "cell_type": "code",
   "execution_count": null,
   "metadata": {
    "execution": {
     "iopub.execute_input": "2021-10-28T20:05:18.290006Z",
     "iopub.status.busy": "2021-10-28T20:05:18.289238Z",
     "iopub.status.idle": "2021-10-28T20:05:18.307946Z",
     "shell.execute_reply": "2021-10-28T20:05:18.306881Z",
     "shell.execute_reply.started": "2021-10-28T20:05:18.289967Z"
    }
   },
   "outputs": [],
   "source": [
    "# sorted(sklearn.metrics.SCORERS.keys())"
   ]
  },
  {
   "cell_type": "code",
   "execution_count": 83,
   "metadata": {},
   "outputs": [],
   "source": [
    "folds = KFold(n_splits=3, shuffle=True, random_state=7)\n",
    "\n",
    "parameters = {'n_estimators':[50, 100, 150, 200, 250], 'max_depth':[3, 4, 5, 6, 7, 8, 9, 10],\n",
    "             'max_features': [\"auto\", \"sqrt\", \"log2\"]}\n",
    "\n",
    "\n",
    "model_cv = GridSearchCV(rf, \n",
    "                        param_grid=parameters, \n",
    "                        scoring='neg_mean_absolute_error', \n",
    "                        cv = folds, \n",
    "                        verbose = 1,\n",
    "                        return_train_score=True, n_jobs=-1)"
   ]
  },
  {
   "cell_type": "code",
   "execution_count": null,
   "metadata": {},
   "outputs": [],
   "source": [
    "1/0"
   ]
  },
  {
   "cell_type": "code",
   "execution_count": null,
   "metadata": {},
   "outputs": [],
   "source": [
    "можна без валідаційного датасету, бо ми робимо KFold валідаціЮ!"
   ]
  },
  {
   "cell_type": "code",
   "execution_count": null,
   "metadata": {},
   "outputs": [],
   "source": [
    "model_cv.fit()"
   ]
  },
  {
   "cell_type": "code",
   "execution_count": null,
   "metadata": {},
   "outputs": [],
   "source": [
    "rf = RandomForestRegressor(n_estimators=150, random_state=7, n_jobs=-1, max_depth=10)\n",
    "rf.fit(X_train, y_train['log_price'].values.ravel())\n",
    "y_pred_val = rf.predict(X_val)"
   ]
  },
  {
   "cell_type": "code",
   "execution_count": null,
   "metadata": {
    "execution": {
     "iopub.execute_input": "2021-10-28T19:37:24.693719Z",
     "iopub.status.busy": "2021-10-28T19:37:24.693501Z",
     "iopub.status.idle": "2021-10-28T19:37:24.700781Z",
     "shell.execute_reply": "2021-10-28T19:37:24.700177Z",
     "shell.execute_reply.started": "2021-10-28T19:37:24.693693Z"
    }
   },
   "outputs": [],
   "source": [
    "mean_squared_error(y_test['log_price'].values.ravel(), y_pred, squared=False).round(3)\n",
    "# mean_squared_error(y_test.values.ravel(), y_pred, squared=True).round(3)"
   ]
  },
  {
   "cell_type": "code",
   "execution_count": null,
   "metadata": {},
   "outputs": [],
   "source": [
    "y_test['y_hat'] = y_pred\n",
    "y_test['y_pred_price'] = np.exp(y_test['y_hat'])\n",
    "y_test['abs_error'] = abs(y_test['price_euros'] - y_test['y_pred_price'])\n",
    "y_test.sort_values('abs_error', ascending=False).head(20)"
   ]
  },
  {
   "cell_type": "code",
   "execution_count": null,
   "metadata": {},
   "outputs": [],
   "source": [
    "y_test['y_pred_price'] = np.exp(y_test['y_hat'])"
   ]
  },
  {
   "cell_type": "code",
   "execution_count": null,
   "metadata": {},
   "outputs": [],
   "source": [
    "y_test['abs_error'] = abs(y_test['price_euros'] - y_test['y_pred_price'])\n",
    "y_test"
   ]
  },
  {
   "cell_type": "code",
   "execution_count": null,
   "metadata": {},
   "outputs": [],
   "source": []
  },
  {
   "cell_type": "code",
   "execution_count": null,
   "metadata": {},
   "outputs": [],
   "source": [
    "np.mean(y_test['abs_error']), np.median(y_test['abs_error'])"
   ]
  },
  {
   "cell_type": "code",
   "execution_count": null,
   "metadata": {},
   "outputs": [],
   "source": []
  },
  {
   "cell_type": "code",
   "execution_count": null,
   "metadata": {},
   "outputs": [],
   "source": [
    "sorted(list(zip(rf.feature_importances_, dv.feature_names_)), key=lambda x: x[0])"
   ]
  },
  {
   "cell_type": "code",
   "execution_count": null,
   "metadata": {},
   "outputs": [],
   "source": [
    "1/0"
   ]
  },
  {
   "cell_type": "code",
   "execution_count": null,
   "metadata": {},
   "outputs": [],
   "source": [
    "df.loc[195, :]"
   ]
  },
  {
   "cell_type": "code",
   "execution_count": null,
   "metadata": {},
   "outputs": [],
   "source": [
    "y_test.loc[195, :]"
   ]
  },
  {
   "cell_type": "code",
   "execution_count": null,
   "metadata": {},
   "outputs": [],
   "source": []
  },
  {
   "cell_type": "code",
   "execution_count": null,
   "metadata": {},
   "outputs": [],
   "source": []
  },
  {
   "cell_type": "code",
   "execution_count": null,
   "metadata": {},
   "outputs": [],
   "source": []
  },
  {
   "cell_type": "code",
   "execution_count": null,
   "metadata": {
    "execution": {
     "iopub.execute_input": "2021-10-28T19:45:09.228160Z",
     "iopub.status.busy": "2021-10-28T19:45:09.227442Z",
     "iopub.status.idle": "2021-10-28T19:45:09.232099Z",
     "shell.execute_reply": "2021-10-28T19:45:09.231247Z",
     "shell.execute_reply.started": "2021-10-28T19:45:09.228118Z"
    }
   },
   "outputs": [],
   "source": [
    "from xgboost import XGBRegressor"
   ]
  },
  {
   "cell_type": "code",
   "execution_count": null,
   "metadata": {
    "execution": {
     "iopub.execute_input": "2021-10-28T19:46:55.378380Z",
     "iopub.status.busy": "2021-10-28T19:46:55.377644Z",
     "iopub.status.idle": "2021-10-28T19:46:55.381690Z",
     "shell.execute_reply": "2021-10-28T19:46:55.381102Z",
     "shell.execute_reply.started": "2021-10-28T19:46:55.378341Z"
    }
   },
   "outputs": [],
   "source": []
  },
  {
   "cell_type": "code",
   "execution_count": null,
   "metadata": {},
   "outputs": [],
   "source": []
  },
  {
   "cell_type": "code",
   "execution_count": null,
   "metadata": {
    "execution": {
     "iopub.execute_input": "2021-10-28T19:56:13.450981Z",
     "iopub.status.busy": "2021-10-28T19:56:13.449546Z",
     "iopub.status.idle": "2021-10-28T19:56:13.455322Z",
     "shell.execute_reply": "2021-10-28T19:56:13.454540Z",
     "shell.execute_reply.started": "2021-10-28T19:56:13.450924Z"
    }
   },
   "outputs": [],
   "source": [
    "model = XGBRegressor(n_estimators=250, max_depth=4, objective='reg:squarederror',\n",
    "                    learning_rate=0.01, subsample=0.6, colsample_bytree=0.5)"
   ]
  },
  {
   "cell_type": "code",
   "execution_count": null,
   "metadata": {
    "execution": {
     "iopub.execute_input": "2021-10-28T19:56:15.707911Z",
     "iopub.status.busy": "2021-10-28T19:56:15.707646Z",
     "iopub.status.idle": "2021-10-28T19:56:16.648334Z",
     "shell.execute_reply": "2021-10-28T19:56:16.647769Z",
     "shell.execute_reply.started": "2021-10-28T19:56:15.707883Z"
    }
   },
   "outputs": [],
   "source": []
  },
  {
   "cell_type": "code",
   "execution_count": null,
   "metadata": {},
   "outputs": [],
   "source": [
    "folds = KFold(n_splits=3, shuffle=True, random_state=7)\n",
    "\n",
    "parameters = {'n_estimators': [150, 200, 250], \n",
    "              'max_depth': [4, 5, 6], \n",
    "              'learning_rate': [0.1, 0.01],\n",
    "              'colsample_bytree': [0.5], \n",
    "              'subsample': [0.6], \n",
    "             'eta': [.3, .2, .1, .05, .01, .005]}\n",
    "\n",
    "model_xgb = GridSearchCV(model, \n",
    "                        param_grid=parameters, \n",
    "                        scoring='neg_mean_absolute_error', \n",
    "                        cv=folds, \n",
    "                        verbose=1,\n",
    "                        return_train_score=True, n_jobs=-1)"
   ]
  },
  {
   "cell_type": "code",
   "execution_count": null,
   "metadata": {
    "scrolled": true
   },
   "outputs": [],
   "source": [
    "model_xgb.fit(X_train, y_train['log_price'].values.ravel())"
   ]
  },
  {
   "cell_type": "code",
   "execution_count": null,
   "metadata": {},
   "outputs": [],
   "source": [
    "model_xgb.best_params_"
   ]
  },
  {
   "cell_type": "code",
   "execution_count": null,
   "metadata": {},
   "outputs": [],
   "source": [
    "model = XGBRegressor(n_estimators=250, max_depth=4, objective='reg:squarederror',\n",
    "                    learning_rate=0.1, subsample=0.6, colsample_bytree=0.5, eta=0.3)"
   ]
  },
  {
   "cell_type": "code",
   "execution_count": null,
   "metadata": {},
   "outputs": [],
   "source": [
    "model.fit(X_train, y_train['log_price'].values.ravel())"
   ]
  },
  {
   "cell_type": "code",
   "execution_count": null,
   "metadata": {
    "execution": {
     "iopub.execute_input": "2021-10-28T19:56:18.742371Z",
     "iopub.status.busy": "2021-10-28T19:56:18.741571Z",
     "iopub.status.idle": "2021-10-28T19:56:18.749448Z",
     "shell.execute_reply": "2021-10-28T19:56:18.748815Z",
     "shell.execute_reply.started": "2021-10-28T19:56:18.742335Z"
    }
   },
   "outputs": [],
   "source": [
    "y_hat = model.predict(X_test)"
   ]
  },
  {
   "cell_type": "code",
   "execution_count": null,
   "metadata": {},
   "outputs": [],
   "source": []
  },
  {
   "cell_type": "code",
   "execution_count": null,
   "metadata": {
    "execution": {
     "iopub.execute_input": "2021-10-28T19:56:21.250613Z",
     "iopub.status.busy": "2021-10-28T19:56:21.250070Z",
     "iopub.status.idle": "2021-10-28T19:56:21.255964Z",
     "shell.execute_reply": "2021-10-28T19:56:21.255224Z",
     "shell.execute_reply.started": "2021-10-28T19:56:21.250579Z"
    }
   },
   "outputs": [],
   "source": [
    "mean_squared_error(y_test['log_price'].values.ravel(), y_hat, squared=False).round(3)"
   ]
  },
  {
   "cell_type": "code",
   "execution_count": null,
   "metadata": {},
   "outputs": [],
   "source": [
    "y_test['y_hat_xgb'] = y_hat\n",
    "y_test['y_pred_price_xgb'] = np.exp(y_test['y_hat_xgb'])\n",
    "y_test['abs_error_xgb'] = abs(y_test['price_euros'] - y_test['y_pred_price_xgb'])\n",
    "y_test.sort_values('abs_error_xgb', ascending=False).head(20)"
   ]
  },
  {
   "cell_type": "code",
   "execution_count": null,
   "metadata": {},
   "outputs": [],
   "source": []
  },
  {
   "cell_type": "code",
   "execution_count": null,
   "metadata": {},
   "outputs": [],
   "source": [
    "np.mean(y_test['abs_error_xgb']), np.median(y_test['abs_error_xgb'])"
   ]
  },
  {
   "cell_type": "code",
   "execution_count": null,
   "metadata": {},
   "outputs": [],
   "source": [
    "print(y_test['abs_error_xgb'].describe())\n",
    "\n",
    "y_test['abs_error_xgb'].hist(bins=30, rwidth=0.8, color='blue', alpha=0.8)\n",
    "y_test[y_test['abs_error'] < 1000]['abs_error'].hist(bins=30, rwidth=0.8, color='green', alpha=0.8)"
   ]
  },
  {
   "cell_type": "code",
   "execution_count": null,
   "metadata": {},
   "outputs": [],
   "source": [
    "np.mean(y_test[y_test['abs_error'] < 1000]['abs_error']), np.median(y_test[y_test['abs_error'] < 1000]['abs_error'])"
   ]
  },
  {
   "cell_type": "code",
   "execution_count": null,
   "metadata": {},
   "outputs": [],
   "source": [
    "np.mean(y_test['abs_error']), np.median(y_test['abs_error'])"
   ]
  }
 ],
 "metadata": {
  "kernelspec": {
   "display_name": "Python 3",
   "language": "python",
   "name": "python3"
  },
  "language_info": {
   "codemirror_mode": {
    "name": "ipython",
    "version": 3
   },
   "file_extension": ".py",
   "mimetype": "text/x-python",
   "name": "python",
   "nbconvert_exporter": "python",
   "pygments_lexer": "ipython3",
   "version": "3.7.6"
  }
 },
 "nbformat": 4,
 "nbformat_minor": 4
}
