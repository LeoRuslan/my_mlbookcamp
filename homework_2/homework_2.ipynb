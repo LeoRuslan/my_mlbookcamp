{
 "cells": [
  {
   "cell_type": "code",
   "execution_count": 1,
   "id": "dcbe7e63",
   "metadata": {},
   "outputs": [],
   "source": [
    "import pandas as pd\n",
    "import numpy as np"
   ]
  },
  {
   "cell_type": "code",
   "execution_count": 2,
   "id": "cbf4563e",
   "metadata": {},
   "outputs": [],
   "source": [
    "import seaborn as sns\n",
    "from matplotlib import pyplot as plt\n",
    "%matplotlib inline"
   ]
  },
  {
   "cell_type": "code",
   "execution_count": 3,
   "id": "6e4b6fb9",
   "metadata": {},
   "outputs": [
    {
     "data": {
      "text/html": [
       "<div>\n",
       "<style scoped>\n",
       "    .dataframe tbody tr th:only-of-type {\n",
       "        vertical-align: middle;\n",
       "    }\n",
       "\n",
       "    .dataframe tbody tr th {\n",
       "        vertical-align: top;\n",
       "    }\n",
       "\n",
       "    .dataframe thead th {\n",
       "        text-align: right;\n",
       "    }\n",
       "</style>\n",
       "<table border=\"1\" class=\"dataframe\">\n",
       "  <thead>\n",
       "    <tr style=\"text-align: right;\">\n",
       "      <th></th>\n",
       "      <th>id</th>\n",
       "      <th>name</th>\n",
       "      <th>host_id</th>\n",
       "      <th>host_name</th>\n",
       "      <th>neighbourhood_group</th>\n",
       "      <th>neighbourhood</th>\n",
       "      <th>latitude</th>\n",
       "      <th>longitude</th>\n",
       "      <th>room_type</th>\n",
       "      <th>price</th>\n",
       "      <th>minimum_nights</th>\n",
       "      <th>number_of_reviews</th>\n",
       "      <th>last_review</th>\n",
       "      <th>reviews_per_month</th>\n",
       "      <th>calculated_host_listings_count</th>\n",
       "      <th>availability_365</th>\n",
       "    </tr>\n",
       "  </thead>\n",
       "  <tbody>\n",
       "    <tr>\n",
       "      <th>0</th>\n",
       "      <td>2539</td>\n",
       "      <td>Clean &amp; quiet apt home by the park</td>\n",
       "      <td>2787</td>\n",
       "      <td>John</td>\n",
       "      <td>Brooklyn</td>\n",
       "      <td>Kensington</td>\n",
       "      <td>40.64749</td>\n",
       "      <td>-73.97237</td>\n",
       "      <td>Private room</td>\n",
       "      <td>149</td>\n",
       "      <td>1</td>\n",
       "      <td>9</td>\n",
       "      <td>2018-10-19</td>\n",
       "      <td>0.21</td>\n",
       "      <td>6</td>\n",
       "      <td>365</td>\n",
       "    </tr>\n",
       "    <tr>\n",
       "      <th>1</th>\n",
       "      <td>2595</td>\n",
       "      <td>Skylit Midtown Castle</td>\n",
       "      <td>2845</td>\n",
       "      <td>Jennifer</td>\n",
       "      <td>Manhattan</td>\n",
       "      <td>Midtown</td>\n",
       "      <td>40.75362</td>\n",
       "      <td>-73.98377</td>\n",
       "      <td>Entire home/apt</td>\n",
       "      <td>225</td>\n",
       "      <td>1</td>\n",
       "      <td>45</td>\n",
       "      <td>2019-05-21</td>\n",
       "      <td>0.38</td>\n",
       "      <td>2</td>\n",
       "      <td>355</td>\n",
       "    </tr>\n",
       "    <tr>\n",
       "      <th>2</th>\n",
       "      <td>3647</td>\n",
       "      <td>THE VILLAGE OF HARLEM....NEW YORK !</td>\n",
       "      <td>4632</td>\n",
       "      <td>Elisabeth</td>\n",
       "      <td>Manhattan</td>\n",
       "      <td>Harlem</td>\n",
       "      <td>40.80902</td>\n",
       "      <td>-73.94190</td>\n",
       "      <td>Private room</td>\n",
       "      <td>150</td>\n",
       "      <td>3</td>\n",
       "      <td>0</td>\n",
       "      <td>NaN</td>\n",
       "      <td>NaN</td>\n",
       "      <td>1</td>\n",
       "      <td>365</td>\n",
       "    </tr>\n",
       "    <tr>\n",
       "      <th>3</th>\n",
       "      <td>3831</td>\n",
       "      <td>Cozy Entire Floor of Brownstone</td>\n",
       "      <td>4869</td>\n",
       "      <td>LisaRoxanne</td>\n",
       "      <td>Brooklyn</td>\n",
       "      <td>Clinton Hill</td>\n",
       "      <td>40.68514</td>\n",
       "      <td>-73.95976</td>\n",
       "      <td>Entire home/apt</td>\n",
       "      <td>89</td>\n",
       "      <td>1</td>\n",
       "      <td>270</td>\n",
       "      <td>2019-07-05</td>\n",
       "      <td>4.64</td>\n",
       "      <td>1</td>\n",
       "      <td>194</td>\n",
       "    </tr>\n",
       "    <tr>\n",
       "      <th>4</th>\n",
       "      <td>5022</td>\n",
       "      <td>Entire Apt: Spacious Studio/Loft by central park</td>\n",
       "      <td>7192</td>\n",
       "      <td>Laura</td>\n",
       "      <td>Manhattan</td>\n",
       "      <td>East Harlem</td>\n",
       "      <td>40.79851</td>\n",
       "      <td>-73.94399</td>\n",
       "      <td>Entire home/apt</td>\n",
       "      <td>80</td>\n",
       "      <td>10</td>\n",
       "      <td>9</td>\n",
       "      <td>2018-11-19</td>\n",
       "      <td>0.10</td>\n",
       "      <td>1</td>\n",
       "      <td>0</td>\n",
       "    </tr>\n",
       "  </tbody>\n",
       "</table>\n",
       "</div>"
      ],
      "text/plain": [
       "     id                                              name  host_id  \\\n",
       "0  2539                Clean & quiet apt home by the park     2787   \n",
       "1  2595                             Skylit Midtown Castle     2845   \n",
       "2  3647               THE VILLAGE OF HARLEM....NEW YORK !     4632   \n",
       "3  3831                   Cozy Entire Floor of Brownstone     4869   \n",
       "4  5022  Entire Apt: Spacious Studio/Loft by central park     7192   \n",
       "\n",
       "     host_name neighbourhood_group neighbourhood  latitude  longitude  \\\n",
       "0         John            Brooklyn    Kensington  40.64749  -73.97237   \n",
       "1     Jennifer           Manhattan       Midtown  40.75362  -73.98377   \n",
       "2    Elisabeth           Manhattan        Harlem  40.80902  -73.94190   \n",
       "3  LisaRoxanne            Brooklyn  Clinton Hill  40.68514  -73.95976   \n",
       "4        Laura           Manhattan   East Harlem  40.79851  -73.94399   \n",
       "\n",
       "         room_type  price  minimum_nights  number_of_reviews last_review  \\\n",
       "0     Private room    149               1                  9  2018-10-19   \n",
       "1  Entire home/apt    225               1                 45  2019-05-21   \n",
       "2     Private room    150               3                  0         NaN   \n",
       "3  Entire home/apt     89               1                270  2019-07-05   \n",
       "4  Entire home/apt     80              10                  9  2018-11-19   \n",
       "\n",
       "   reviews_per_month  calculated_host_listings_count  availability_365  \n",
       "0               0.21                               6               365  \n",
       "1               0.38                               2               355  \n",
       "2                NaN                               1               365  \n",
       "3               4.64                               1               194  \n",
       "4               0.10                               1                 0  "
      ]
     },
     "execution_count": 3,
     "metadata": {},
     "output_type": "execute_result"
    }
   ],
   "source": [
    "dataset = pd.read_csv('AB_NYC_2019.csv')\n",
    "dataset.head()"
   ]
  },
  {
   "cell_type": "code",
   "execution_count": 4,
   "id": "0eae6333",
   "metadata": {},
   "outputs": [],
   "source": [
    "work_columns = ['latitude', 'longitude', 'price', 'minimum_nights', 'number_of_reviews', \n",
    "                'reviews_per_month', 'calculated_host_listings_count', 'availability_365']"
   ]
  },
  {
   "cell_type": "code",
   "execution_count": 5,
   "id": "6b050b79",
   "metadata": {},
   "outputs": [
    {
     "data": {
      "text/html": [
       "<div>\n",
       "<style scoped>\n",
       "    .dataframe tbody tr th:only-of-type {\n",
       "        vertical-align: middle;\n",
       "    }\n",
       "\n",
       "    .dataframe tbody tr th {\n",
       "        vertical-align: top;\n",
       "    }\n",
       "\n",
       "    .dataframe thead th {\n",
       "        text-align: right;\n",
       "    }\n",
       "</style>\n",
       "<table border=\"1\" class=\"dataframe\">\n",
       "  <thead>\n",
       "    <tr style=\"text-align: right;\">\n",
       "      <th></th>\n",
       "      <th>latitude</th>\n",
       "      <th>longitude</th>\n",
       "      <th>price</th>\n",
       "      <th>minimum_nights</th>\n",
       "      <th>number_of_reviews</th>\n",
       "      <th>reviews_per_month</th>\n",
       "      <th>calculated_host_listings_count</th>\n",
       "      <th>availability_365</th>\n",
       "    </tr>\n",
       "  </thead>\n",
       "  <tbody>\n",
       "    <tr>\n",
       "      <th>47116</th>\n",
       "      <td>40.72304</td>\n",
       "      <td>-73.98372</td>\n",
       "      <td>159</td>\n",
       "      <td>1</td>\n",
       "      <td>5</td>\n",
       "      <td>5.00</td>\n",
       "      <td>1</td>\n",
       "      <td>170</td>\n",
       "    </tr>\n",
       "    <tr>\n",
       "      <th>21173</th>\n",
       "      <td>40.68687</td>\n",
       "      <td>-73.99471</td>\n",
       "      <td>190</td>\n",
       "      <td>2</td>\n",
       "      <td>15</td>\n",
       "      <td>0.53</td>\n",
       "      <td>1</td>\n",
       "      <td>162</td>\n",
       "    </tr>\n",
       "    <tr>\n",
       "      <th>37228</th>\n",
       "      <td>40.74257</td>\n",
       "      <td>-73.97948</td>\n",
       "      <td>355</td>\n",
       "      <td>2</td>\n",
       "      <td>5</td>\n",
       "      <td>0.66</td>\n",
       "      <td>1</td>\n",
       "      <td>230</td>\n",
       "    </tr>\n",
       "    <tr>\n",
       "      <th>17768</th>\n",
       "      <td>40.68374</td>\n",
       "      <td>-73.90988</td>\n",
       "      <td>100</td>\n",
       "      <td>4</td>\n",
       "      <td>85</td>\n",
       "      <td>2.41</td>\n",
       "      <td>2</td>\n",
       "      <td>107</td>\n",
       "    </tr>\n",
       "    <tr>\n",
       "      <th>45318</th>\n",
       "      <td>40.71801</td>\n",
       "      <td>-73.95244</td>\n",
       "      <td>43</td>\n",
       "      <td>1</td>\n",
       "      <td>2</td>\n",
       "      <td>1.09</td>\n",
       "      <td>1</td>\n",
       "      <td>249</td>\n",
       "    </tr>\n",
       "  </tbody>\n",
       "</table>\n",
       "</div>"
      ],
      "text/plain": [
       "       latitude  longitude  price  minimum_nights  number_of_reviews  \\\n",
       "47116  40.72304  -73.98372    159               1                  5   \n",
       "21173  40.68687  -73.99471    190               2                 15   \n",
       "37228  40.74257  -73.97948    355               2                  5   \n",
       "17768  40.68374  -73.90988    100               4                 85   \n",
       "45318  40.71801  -73.95244     43               1                  2   \n",
       "\n",
       "       reviews_per_month  calculated_host_listings_count  availability_365  \n",
       "47116               5.00                               1               170  \n",
       "21173               0.53                               1               162  \n",
       "37228               0.66                               1               230  \n",
       "17768               2.41                               2               107  \n",
       "45318               1.09                               1               249  "
      ]
     },
     "execution_count": 5,
     "metadata": {},
     "output_type": "execute_result"
    }
   ],
   "source": [
    "df = dataset[work_columns]\n",
    "df.sample(5)"
   ]
  },
  {
   "cell_type": "markdown",
   "id": "968daa6c",
   "metadata": {},
   "source": [
    "## EDA"
   ]
  },
  {
   "cell_type": "code",
   "execution_count": 6,
   "id": "cb9a94f1",
   "metadata": {},
   "outputs": [
    {
     "data": {
      "text/plain": [
       "latitude                          float64\n",
       "longitude                         float64\n",
       "price                               int64\n",
       "minimum_nights                      int64\n",
       "number_of_reviews                   int64\n",
       "reviews_per_month                 float64\n",
       "calculated_host_listings_count      int64\n",
       "availability_365                    int64\n",
       "dtype: object"
      ]
     },
     "execution_count": 6,
     "metadata": {},
     "output_type": "execute_result"
    }
   ],
   "source": [
    "df.dtypes"
   ]
  },
  {
   "cell_type": "code",
   "execution_count": 7,
   "id": "a079f137",
   "metadata": {},
   "outputs": [
    {
     "data": {
      "image/png": "[encoded data removed]",
      "text/plain": [
       "<Figure size 720x360 with 1 Axes>"
      ]
     },
     "metadata": {
      "needs_background": "light"
     },
     "output_type": "display_data"
    }
   ],
   "source": [
    "plt.figure(figsize=(10, 5))\n",
    "\n",
    "sns.histplot(df.price, bins=40, color='red', alpha=1)\n",
    "plt.ylabel('Frequency')\n",
    "plt.xlabel('Price')\n",
    "plt.title('Distribution of prices')\n",
    "\n",
    "plt.show()"
   ]
  },
  {
   "cell_type": "code",
   "execution_count": 8,
   "id": "29832e0f",
   "metadata": {},
   "outputs": [
    {
     "data": {
      "image/png": "[encoded data removed]",
      "text/plain": [
       "<Figure size 720x360 with 1 Axes>"
      ]
     },
     "metadata": {
      "needs_background": "light"
     },
     "output_type": "display_data"
    }
   ],
   "source": [
    "plt.figure(figsize=(10, 5))\n",
    "\n",
    "sns.histplot(df.price[df.price < 1000], bins=40, color='red', alpha=1)\n",
    "plt.ylabel('Frequency')\n",
    "plt.xlabel('Price')\n",
    "plt.title('Distribution of prices')\n",
    "\n",
    "plt.show()"
   ]
  },
  {
   "cell_type": "code",
   "execution_count": 9,
   "id": "a6316704",
   "metadata": {},
   "outputs": [
    {
     "data": {
      "image/png": "[encoded data removed]",
      "text/plain": [
       "<Figure size 720x360 with 1 Axes>"
      ]
     },
     "metadata": {
      "needs_background": "light"
     },
     "output_type": "display_data"
    }
   ],
   "source": [
    "log_price = np.log1p(df.price)\n",
    "\n",
    "plt.figure(figsize=(10, 5))\n",
    "\n",
    "sns.histplot(log_price, bins=40, color='red', alpha=1)\n",
    "plt.ylabel('Frequency')\n",
    "plt.xlabel('Log(Price + 1)')\n",
    "plt.title('Distribution of prices after log tranformation')\n",
    "\n",
    "plt.show()"
   ]
  },
  {
   "cell_type": "markdown",
   "id": "b6bb780f",
   "metadata": {},
   "source": [
    "### Question 1: Number of missing values *"
   ]
  },
  {
   "cell_type": "markdown",
   "id": "99c6fe67",
   "metadata": {},
   "source": [
    "Find a feature with missing values. How many missing values does it have?"
   ]
  },
  {
   "cell_type": "code",
   "execution_count": 10,
   "id": "9bbb6ddb",
   "metadata": {},
   "outputs": [
    {
     "data": {
      "text/plain": [
       "latitude                              0\n",
       "longitude                             0\n",
       "price                                 0\n",
       "minimum_nights                        0\n",
       "number_of_reviews                     0\n",
       "reviews_per_month                 10052\n",
       "calculated_host_listings_count        0\n",
       "availability_365                      0\n",
       "dtype: int64"
      ]
     },
     "execution_count": 10,
     "metadata": {},
     "output_type": "execute_result"
    }
   ],
   "source": [
    "df.isna().sum()"
   ]
  },
  {
   "cell_type": "markdown",
   "id": "ba34626f",
   "metadata": {},
   "source": [
    "### Question 2: Median for minimum_nights *"
   ]
  },
  {
   "cell_type": "markdown",
   "id": "2b99d35a",
   "metadata": {},
   "source": [
    "What's the median (50% percentile) for variable 'minimum_nights'?"
   ]
  },
  {
   "cell_type": "code",
   "execution_count": 11,
   "id": "26d508ba",
   "metadata": {},
   "outputs": [
    {
     "data": {
      "text/plain": [
       "3.0"
      ]
     },
     "execution_count": 11,
     "metadata": {},
     "output_type": "execute_result"
    }
   ],
   "source": [
    "df['minimum_nights'].median()"
   ]
  },
  {
   "cell_type": "code",
   "execution_count": null,
   "id": "8b6497b7",
   "metadata": {},
   "outputs": [],
   "source": []
  },
  {
   "cell_type": "code",
   "execution_count": 12,
   "id": "04c56c20",
   "metadata": {},
   "outputs": [],
   "source": [
    "np.random.seed(42)\n",
    "\n",
    "n = len(df)\n",
    "\n",
    "n_val = int(0.2 * n)\n",
    "n_test = int(0.2 * n)\n",
    "n_train = n - (n_val + n_test)\n",
    "\n",
    "idx = np.arange(n)\n",
    "np.random.shuffle(idx)\n",
    "\n",
    "df_shuffled = df.iloc[idx]\n",
    "\n",
    "# split dataset on train, validation and test data\n",
    "df_train = df_shuffled.iloc[: n_train].copy()\n",
    "df_val = df_shuffled.iloc[n_train: n_train + n_val].copy()\n",
    "df_test = df_shuffled.iloc[n_train + n_val: ].copy()\n",
    "\n",
    "# transform price\n",
    "y_train = np.log1p(df_train.price.values)\n",
    "y_val = np.log1p(df_val.price.values)\n",
    "y_test = np.log1p(df_test.price.values)\n",
    "\n",
    "# delete price from datasets\n",
    "del df_train['price']\n",
    "del df_val['price']\n",
    "del df_test['price']"
   ]
  },
  {
   "cell_type": "markdown",
   "id": "0ad73da1",
   "metadata": {},
   "source": [
    "## Linear Regression"
   ]
  },
  {
   "cell_type": "code",
   "execution_count": 13,
   "id": "da0dac11",
   "metadata": {},
   "outputs": [],
   "source": [
    "def train_linear_regression(X, y):\n",
    "    ones = np.ones(X.shape[0])\n",
    "    X = np.column_stack([ones, X])\n",
    "\n",
    "    XTX = X.T.dot(X)\n",
    "    XTX_inv = np.linalg.inv(XTX)\n",
    "    w = XTX_inv.dot(X.T).dot(y)    \n",
    "    return w[0], w[1:]\n",
    "\n",
    "\n",
    "def prepare_X(df, fill_value=0):\n",
    "    df_num = df.fillna(fill_value)\n",
    "    X = df_num.values\n",
    "    return X\n",
    "\n",
    "\n",
    "def rmse(y, y_pred):\n",
    "    error = y_pred - y\n",
    "    mse = (error ** 2).mean()\n",
    "    return np.sqrt(mse)"
   ]
  },
  {
   "cell_type": "markdown",
   "id": "9607ed9f",
   "metadata": {},
   "source": [
    "### Question 3: Best way to fill NAs *"
   ]
  },
  {
   "cell_type": "markdown",
   "id": "235bbcc3",
   "metadata": {},
   "source": [
    "<ul>\n",
    "<li>We need to deal with missing values for the column from Q1.</li>\n",
    "<li>We have two options: fill it with 0 or with the mean of this variable.</li>\n",
    "<li>Try both options. For each, train a linear regression model without regularization using the code from the lesssons.</li>\n",
    "<li>For computing the mean, use the training only!</li>\n",
    "<li>Use the validation dataset to evaluate the models and compare the RMSE of each option.</li>\n",
    "<li>Round the RMSE scores to 2 decimal digits using round(score, 2)</li>\n",
    "<li>Which option gives better RMSE?</li>\n",
    "</ul>"
   ]
  },
  {
   "cell_type": "code",
   "execution_count": 14,
   "id": "8168f1e9",
   "metadata": {},
   "outputs": [
    {
     "name": "stdout",
     "output_type": "stream",
     "text": [
      "validation 0.6430337788649609\n"
     ]
    }
   ],
   "source": [
    "# fill missing value 0\n",
    "X_train_fill_0 = prepare_X(df_train, fill_value=0)\n",
    "w_0_fill_0, w_fill_0 = train_linear_regression(X_train_fill_0, y_train)\n",
    "\n",
    "X_val_fill_0 = prepare_X(df_val, fill_value=0)\n",
    "y_pred_fill_0 = w_0_fill_0 + X_val_fill_0.dot(w_fill_0)\n",
    "print('validation', rmse(y_val, y_pred_fill_0))"
   ]
  },
  {
   "cell_type": "code",
   "execution_count": 15,
   "id": "2954df8d",
   "metadata": {},
   "outputs": [
    {
     "name": "stdout",
     "output_type": "stream",
     "text": [
      "mean_value = 1.37\n",
      "validation 0.6429183734648701\n"
     ]
    }
   ],
   "source": [
    "# fill missing value mean_value\n",
    "mean_value = round(df['reviews_per_month'].mean(), 2)\n",
    "print('mean_value =', mean_value)\n",
    "\n",
    "X_train_fill_mean = prepare_X(df_train, fill_value=mean_value)\n",
    "w_0_fill_mean, w_fill_mean = train_linear_regression(X_train_fill_mean, y_train)\n",
    "\n",
    "X_val_fill_mean = prepare_X(df_val, fill_value=0)\n",
    "y_pred_fill_mean = w_0_fill_mean + X_val_fill_mean.dot(w_fill_mean)\n",
    "print('validation', rmse(y_val, y_pred_fill_mean))"
   ]
  },
  {
   "cell_type": "markdown",
   "id": "c620b69d",
   "metadata": {},
   "source": [
    "Answer 3: Both are equally good(because the obtained values look very similar)"
   ]
  },
  {
   "cell_type": "code",
   "execution_count": null,
   "id": "0f8b8ff3",
   "metadata": {},
   "outputs": [],
   "source": []
  },
  {
   "cell_type": "markdown",
   "id": "5fa6a26d",
   "metadata": {},
   "source": [
    "## Regularization"
   ]
  },
  {
   "cell_type": "code",
   "execution_count": 16,
   "id": "a7cc47ad",
   "metadata": {},
   "outputs": [],
   "source": [
    "def train_linear_regression_reg(X, y, r=0.0):\n",
    "    ones = np.ones(X.shape[0])\n",
    "    X = np.column_stack([ones, X])\n",
    "\n",
    "    XTX = X.T.dot(X)\n",
    "    reg = r * np.eye(XTX.shape[0])\n",
    "    XTX = XTX + reg\n",
    "\n",
    "    XTX_inv = np.linalg.inv(XTX)\n",
    "    w = XTX_inv.dot(X.T).dot(y)\n",
    "    \n",
    "    return w[0], w[1:]"
   ]
  },
  {
   "cell_type": "markdown",
   "id": "66006f0e",
   "metadata": {},
   "source": [
    "### Question 4: Best regularization parameter r *"
   ]
  },
  {
   "cell_type": "code",
   "execution_count": 17,
   "id": "013bc7da",
   "metadata": {},
   "outputs": [
    {
     "name": "stdout",
     "output_type": "stream",
     "text": [
      "     0 0.64303\n",
      " 1e-06 0.64303\n",
      "0.0001 0.64307\n",
      " 0.001 0.64377\n",
      "  0.01 0.65575\n",
      "   0.1 0.67733\n",
      "     1 0.68231\n",
      "     5 0.68279\n",
      "    10 0.68284\n"
     ]
    }
   ],
   "source": [
    "X_train = prepare_X(df_train, fill_value=0)\n",
    "X_val = prepare_X(df_val, fill_value=0)\n",
    "\n",
    "for r in [0, 0.000001, 0.0001, 0.001, 0.01, 0.1, 1, 5, 10]:\n",
    "    w_0, w = train_linear_regression_reg(X_train, y_train, r=r)\n",
    "    y_pred = w_0 + X_val.dot(w)\n",
    "    print('%6s' %r, round(rmse(y_val, y_pred), 5))"
   ]
  },
  {
   "cell_type": "markdown",
   "id": "950ab1b2",
   "metadata": {},
   "source": [
    "Answer 4: 0"
   ]
  },
  {
   "cell_type": "markdown",
   "id": "28c35ec1",
   "metadata": {},
   "source": [
    "### Question 5: STD of RMSE scores for different seeds *"
   ]
  },
  {
   "cell_type": "markdown",
   "id": "aa4f0b4b",
   "metadata": {},
   "source": [
    "<ul>\n",
    "<li>We used seed 42 for splitting the data. Let's find out how selecting the seed influences our score.</li>\n",
    "\n",
    "<li>Try different seed values: [0, 1, 2, 3, 4, 5, 6, 7, 8, 9].</li>\n",
    "    \n",
    "<li>For each seed, do the train/validation/test split with 60%/20%/20% distribution.</li>\n",
    "    \n",
    "<li>Fill the missing values with 0 and train a model without regularization.</li>\n",
    "    \n",
    "<li>For each seed, evaluate the model on the validation dataset and collect the RMSE scores.</li>\n",
    "    \n",
    "<li>What's the standard deviation of all the scores? To compute the standard deviation, use np.std.</li>\n",
    "    \n",
    "<li>Round the result to 3 decimal digits (round(std, 3))</li>\n",
    "\n",
    "Note: Standard deviation shows how different the values are. If it's low, then all values are approximately the same. If it's high, the values are different. If standard deviation of scores is low, then our model is stable.\n",
    "</ul>"
   ]
  },
  {
   "cell_type": "code",
   "execution_count": 18,
   "id": "38383b78",
   "metadata": {},
   "outputs": [
    {
     "data": {
      "text/plain": [
       "0.008"
      ]
     },
     "execution_count": 18,
     "metadata": {},
     "output_type": "execute_result"
    }
   ],
   "source": [
    "seed_results = []\n",
    "for seed in [0, 1, 2, 3, 4, 5, 6, 7, 8, 9]:\n",
    "    np.random.seed(seed)\n",
    "\n",
    "    n = len(df)\n",
    "\n",
    "    n_val = int(0.2 * n)\n",
    "    n_test = int(0.2 * n)\n",
    "    n_train = n - (n_val + n_test)\n",
    "\n",
    "    idx = np.arange(n)\n",
    "    np.random.shuffle(idx)\n",
    "\n",
    "    df_shuffled = df.iloc[idx]\n",
    "\n",
    "    # split dataset on train, validation and test data\n",
    "    df_train = df_shuffled.iloc[: n_train].copy()\n",
    "    df_val = df_shuffled.iloc[n_train: n_train + n_val].copy()\n",
    "    df_test = df_shuffled.iloc[n_train + n_val: ].copy()\n",
    "\n",
    "    # transform price\n",
    "    y_train = np.log1p(df_train.price.values)\n",
    "    y_val = np.log1p(df_val.price.values)\n",
    "    y_test = np.log1p(df_test.price.values)\n",
    "\n",
    "    # delete price from datasets\n",
    "    del df_train['price']\n",
    "    del df_val['price']\n",
    "    del df_test['price']\n",
    "    \n",
    "    X_train = prepare_X(df_train, fill_value=0)\n",
    "    X_val = prepare_X(df_val, fill_value=0)\n",
    "\n",
    "\n",
    "    w_0, w = train_linear_regression_reg(X_train, y_train, r=0)\n",
    "    y_pred = w_0 + X_val.dot(w)\n",
    "    seed_results.append(rmse(y_val, y_pred))\n",
    "\n",
    "round(np.std(seed_results), 3)"
   ]
  },
  {
   "cell_type": "markdown",
   "id": "691d72f9",
   "metadata": {},
   "source": [
    "Answer 5: 0.008"
   ]
  },
  {
   "cell_type": "code",
   "execution_count": null,
   "id": "bec409f9",
   "metadata": {},
   "outputs": [],
   "source": []
  },
  {
   "cell_type": "markdown",
   "id": "c2b44b97",
   "metadata": {},
   "source": [
    "### Question 6: RMSE on test *"
   ]
  },
  {
   "cell_type": "markdown",
   "id": "3f2b2722",
   "metadata": {},
   "source": [
    "<ul>\n",
    "<li>Split the dataset like previously, use seed 9.</li>\n",
    "<li>Combine train and validation datasets.</li>\n",
    "<li>Train a model with r=0.001.</li>\n",
    "<li>What's the RMSE on the test dataset?</li>\n",
    "</ul>"
   ]
  },
  {
   "cell_type": "code",
   "execution_count": 19,
   "id": "e669a0d6",
   "metadata": {},
   "outputs": [
    {
     "data": {
      "text/plain": [
       "0.65"
      ]
     },
     "execution_count": 19,
     "metadata": {},
     "output_type": "execute_result"
    }
   ],
   "source": [
    "\n",
    "np.random.seed(9)\n",
    "\n",
    "n = len(df)\n",
    "\n",
    "n_val = int(0.2 * n)\n",
    "n_test = int(0.2 * n)\n",
    "n_train = n - (n_val + n_test)\n",
    "\n",
    "idx = np.arange(n)\n",
    "np.random.shuffle(idx)\n",
    "\n",
    "df_shuffled = df.iloc[idx]\n",
    "\n",
    "# split dataset on train, validation and test data\n",
    "df_train = df_shuffled.iloc[: n_train].copy()\n",
    "df_val = df_shuffled.iloc[n_train: n_train + n_val].copy()\n",
    "df_test = df_shuffled.iloc[n_train + n_val: ].copy()\n",
    "\n",
    "# transform price\n",
    "y_train = np.log1p(df_train.price)\n",
    "y_val = np.log1p(df_val.price)\n",
    "y_test = np.log1p(df_test.price)\n",
    "\n",
    "# delete price from datasets\n",
    "del df_train['price']\n",
    "del df_val['price']\n",
    "del df_test['price']\n",
    "\n",
    "# Combine train and validation datasets.\n",
    "df_train = pd.concat([df_train, df_val])\n",
    "y_train = pd.concat([y_train, y_val])\n",
    "\n",
    "X_train = prepare_X(df_train, fill_value=0)\n",
    "X_test = prepare_X(df_test, fill_value=0)\n",
    "\n",
    "\n",
    "w_0, w = train_linear_regression_reg(X_test, y_test, r=0.001)\n",
    "y_pred = w_0 + X_val.dot(w)\n",
    "round(rmse(y_val, y_pred), 2)"
   ]
  },
  {
   "cell_type": "markdown",
   "id": "fe9c9936",
   "metadata": {},
   "source": [
    "Answer 6: 0.65"
   ]
  }
 ],
 "metadata": {
  "kernelspec": {
   "display_name": "Python 3 (ipykernel)",
   "language": "python",
   "name": "python3"
  },
  "language_info": {
   "codemirror_mode": {
    "name": "ipython",
    "version": 3
   },
   "file_extension": ".py",
   "mimetype": "text/x-python",
   "name": "python",
   "nbconvert_exporter": "python",
   "pygments_lexer": "ipython3",
   "version": "3.8.11"
  }
 },
 "nbformat": 4,
 "nbformat_minor": 5
}
