{
 "cells": [
  {
   "cell_type": "markdown",
   "metadata": {},
   "source": [
    "get dataset"
   ]
  },
  {
   "cell_type": "code",
   "execution_count": null,
   "metadata": {},
   "outputs": [],
   "source": [
    "# !wget https://github.com/alexeygrigorev/large-datasets/releases/download/dogs-cats/train.zip"
   ]
  },
  {
   "cell_type": "code",
   "execution_count": null,
   "metadata": {},
   "outputs": [],
   "source": [
    "import shutil\n",
    "import glob\n",
    "\n",
    "import os\n",
    "import re\n",
    "\n",
    "import numpy as np"
   ]
  },
  {
   "cell_type": "code",
   "execution_count": null,
   "metadata": {},
   "outputs": [],
   "source": [
    "import tensorflow as tf\n",
    "from tensorflow import keras\n",
    "\n",
    "from tensorflow.keras.preprocessing.image import load_img\n",
    "from tensorflow.keras.preprocessing.image import ImageDataGenerator"
   ]
  },
  {
   "cell_type": "code",
   "execution_count": null,
   "metadata": {},
   "outputs": [],
   "source": [
    "from matplotlib import pyplot as plt\n",
    "from matplotlib.pylab import rcParams\n",
    "\n",
    "rcParams['figure.figsize'] = 8, 6\n",
    "# %matplotlib inline"
   ]
  },
  {
   "cell_type": "code",
   "execution_count": null,
   "metadata": {},
   "outputs": [],
   "source": []
  },
  {
   "cell_type": "code",
   "execution_count": null,
   "metadata": {},
   "outputs": [],
   "source": [
    "shutil.unpack_archive('train.zip', '')"
   ]
  },
  {
   "cell_type": "markdown",
   "metadata": {},
   "source": [
    "* Create a `train` and `validation` folders\n",
    "* In each folder, create `cats` and `dogs` folders"
   ]
  },
  {
   "cell_type": "code",
   "execution_count": null,
   "metadata": {},
   "outputs": [],
   "source": [
    "!mkdir train/cats\n",
    "!mkdir train/dogs\n",
    "\n",
    "!mkdir validation\n",
    "!mkdir validation/cats\n",
    "!mkdir validation/dogs"
   ]
  },
  {
   "cell_type": "code",
   "execution_count": null,
   "metadata": {},
   "outputs": [],
   "source": [
    "val_cats_folder = 'validation/cats'\n",
    "train_cats_folder = 'train/cats'\n",
    "\n",
    "val_dogs_folder = 'validation/dogs'\n",
    "train_dogs_folder = 'train/dogs'"
   ]
  },
  {
   "cell_type": "code",
   "execution_count": null,
   "metadata": {},
   "outputs": [],
   "source": [
    "all_files = glob.glob('train/*.jpg')"
   ]
  },
  {
   "cell_type": "code",
   "execution_count": null,
   "metadata": {},
   "outputs": [],
   "source": []
  },
  {
   "cell_type": "markdown",
   "metadata": {},
   "source": [
    "* Move the first 10,000 images to the train folder (from 0 to 9999) for boths cats and dogs - and put them in respective folders\n",
    "* Move the remaining 2,500 images to the validation folder (from 10000 to 12499)"
   ]
  },
  {
   "cell_type": "code",
   "execution_count": null,
   "metadata": {},
   "outputs": [],
   "source": [
    "for f in all_files:\n",
    "    if 'cat' in f:\n",
    "        _number_cat = int(re.findall(r'\\d+', f)[0])\n",
    "        if _number_cat < 10000:\n",
    "            shutil.move(f, train_cats_folder)\n",
    "        else:\n",
    "            shutil.move(f, val_cats_folder)\n",
    "        \n",
    "    elif 'dog' in f:\n",
    "        _number_dog = int(re.findall(r'\\d+', f)[0])\n",
    "        if _number_dog < 10000:\n",
    "            shutil.move(f, train_dogs_folder)\n",
    "        else:\n",
    "            shutil.move(f, val_dogs_folder)"
   ]
  },
  {
   "cell_type": "code",
   "execution_count": null,
   "metadata": {},
   "outputs": [],
   "source": []
  },
  {
   "cell_type": "markdown",
   "metadata": {},
   "source": [
    "### Question 1\n",
    "\n",
    "Since we have a binary classification problem, what is the best loss function for us?"
   ]
  },
  {
   "cell_type": "markdown",
   "metadata": {},
   "source": [
    "* mean squared error\n",
    "* categorical cross-entropy\n",
    "* **binary cross-entropy**"
   ]
  },
  {
   "cell_type": "markdown",
   "metadata": {},
   "source": [
    "### Question 2\n",
    "\n",
    "What's the total number of parameters of the model? You can use the summary method for that."
   ]
  },
  {
   "cell_type": "code",
   "execution_count": 4,
   "metadata": {},
   "outputs": [
    {
     "name": "stderr",
     "output_type": "stream",
     "text": [
      "2021-11-22 17:02:35.871737: I tensorflow/core/platform/cpu_feature_guard.cc:151] This TensorFlow binary is optimized with oneAPI Deep Neural Network Library (oneDNN) to use the following CPU instructions in performance-critical operations:  AVX2 FMA\n",
      "To enable them in other operations, rebuild TensorFlow with the appropriate compiler flags.\n"
     ]
    }
   ],
   "source": [
    "# neural network architecture (functional style)\n",
    "inputs = keras.Input(shape=(150, 150, 3))\n",
    "\n",
    "layer = keras.layers.Conv2D(32, 3, activation='relu')(inputs)\n",
    "pool = keras.layers.MaxPooling2D(pool_size=(2, 2))(layer)\n",
    "vectors = keras.layers.Flatten()(pool)\n",
    "inner = keras.layers.Dense(64, activation='relu')(vectors)\n",
    "outputs = keras.layers.Dense(1, activation='sigmoid')(inner)\n",
    "\n",
    "model = keras.Model(inputs, outputs)"
   ]
  },
  {
   "cell_type": "code",
   "execution_count": 5,
   "metadata": {},
   "outputs": [
    {
     "name": "stdout",
     "output_type": "stream",
     "text": [
      "Model: \"model\"\n",
      "_________________________________________________________________\n",
      " Layer (type)                Output Shape              Param #   \n",
      "=================================================================\n",
      " input_1 (InputLayer)        [(None, 150, 150, 3)]     0         \n",
      "                                                                 \n",
      " conv2d (Conv2D)             (None, 148, 148, 32)      896       \n",
      "                                                                 \n",
      " max_pooling2d (MaxPooling2D  (None, 74, 74, 32)       0         \n",
      " )                                                               \n",
      "                                                                 \n",
      " flatten (Flatten)           (None, 175232)            0         \n",
      "                                                                 \n",
      " dense (Dense)               (None, 64)                11214912  \n",
      "                                                                 \n",
      " dense_1 (Dense)             (None, 1)                 65        \n",
      "                                                                 \n",
      "=================================================================\n",
      "Total params: 11,215,873\n",
      "Trainable params: 11,215,873\n",
      "Non-trainable params: 0\n",
      "_________________________________________________________________\n"
     ]
    }
   ],
   "source": [
    "model.summary()"
   ]
  },
  {
   "cell_type": "markdown",
   "metadata": {},
   "source": [
    "**Answer: 11_215_873**"
   ]
  },
  {
   "cell_type": "code",
   "execution_count": null,
   "metadata": {},
   "outputs": [],
   "source": []
  },
  {
   "cell_type": "code",
   "execution_count": null,
   "metadata": {},
   "outputs": [],
   "source": []
  },
  {
   "cell_type": "markdown",
   "metadata": {},
   "source": [
    "## Generators and Training\n",
    "\n",
    "\n",
    "For the next two questions, use the following data generator for both train and validation:\n",
    "\n",
    "`ImageDataGenerator(rescale=1./255)`\n",
    "\n",
    "* We don't need to do any additional pre-processing for the images.\n",
    "* When reading the data from train/val directories, check the `class_mode` parameter. Which value should it be for a binary classification problem?\n",
    "* Use `batch_size=20`\n",
    "\n",
    "For training use `.fit()` with the following params:\n",
    "\n",
    "```\n",
    "model.fit(\n",
    "    train_generator,\n",
    "    steps_per_epoch=100,\n",
    "    epochs=10,\n",
    "    validation_data=validation_generator,\n",
    "    validation_steps=50\n",
    ")\n",
    "```"
   ]
  },
  {
   "cell_type": "code",
   "execution_count": 6,
   "metadata": {},
   "outputs": [
    {
     "name": "stdout",
     "output_type": "stream",
     "text": [
      "Found 20000 images belonging to 2 classes.\n"
     ]
    }
   ],
   "source": [
    "train_generator = ImageDataGenerator(rescale=1./255)\n",
    "\n",
    "train_ds = train_generator.flow_from_directory('train', \n",
    "                                               target_size=(150, 150), \n",
    "                                               batch_size=20, \n",
    "                                               class_mode='binary',\n",
    "                                               shuffle=True)"
   ]
  },
  {
   "cell_type": "code",
   "execution_count": 7,
   "metadata": {},
   "outputs": [
    {
     "data": {
      "text/plain": [
       "{'cats': 0, 'dogs': 1}"
      ]
     },
     "execution_count": 7,
     "metadata": {},
     "output_type": "execute_result"
    }
   ],
   "source": [
    "train_ds.class_indices"
   ]
  },
  {
   "cell_type": "code",
   "execution_count": null,
   "metadata": {},
   "outputs": [],
   "source": []
  },
  {
   "cell_type": "code",
   "execution_count": 8,
   "metadata": {},
   "outputs": [
    {
     "name": "stdout",
     "output_type": "stream",
     "text": [
      "Found 5000 images belonging to 2 classes.\n"
     ]
    }
   ],
   "source": [
    "val_generator = ImageDataGenerator(rescale=1./255)\n",
    "\n",
    "val_ds = val_generator.flow_from_directory('validation', \n",
    "                                           target_size=(150, 150), \n",
    "                                           batch_size=20, \n",
    "                                           class_mode='binary', \n",
    "                                           shuffle=True)"
   ]
  },
  {
   "cell_type": "code",
   "execution_count": 9,
   "metadata": {},
   "outputs": [
    {
     "data": {
      "text/plain": [
       "{'cats': 0, 'dogs': 1}"
      ]
     },
     "execution_count": 9,
     "metadata": {},
     "output_type": "execute_result"
    }
   ],
   "source": [
    "val_ds.class_indices"
   ]
  },
  {
   "cell_type": "code",
   "execution_count": null,
   "metadata": {},
   "outputs": [],
   "source": []
  },
  {
   "cell_type": "code",
   "execution_count": 10,
   "metadata": {},
   "outputs": [],
   "source": [
    "optimizer = keras.optimizers.SGD(learning_rate=0.002, momentum=0.8)\n",
    "\n",
    "loss = keras.losses.BinaryCrossentropy()\n",
    "model.compile(optimizer=optimizer, loss=loss, metrics=['accuracy'])"
   ]
  },
  {
   "cell_type": "code",
   "execution_count": 11,
   "metadata": {},
   "outputs": [
    {
     "name": "stdout",
     "output_type": "stream",
     "text": [
      "Epoch 1/10\n",
      "100/100 [==============================] - 19s 181ms/step - loss: 0.6936 - accuracy: 0.5215 - val_loss: 0.6897 - val_accuracy: 0.5130\n",
      "Epoch 2/10\n",
      "100/100 [==============================] - 18s 176ms/step - loss: 0.6861 - accuracy: 0.5570 - val_loss: 0.6848 - val_accuracy: 0.5430\n",
      "Epoch 3/10\n",
      "100/100 [==============================] - 18s 178ms/step - loss: 0.6855 - accuracy: 0.5475 - val_loss: 0.6772 - val_accuracy: 0.5770\n",
      "Epoch 4/10\n",
      "100/100 [==============================] - 18s 182ms/step - loss: 0.6767 - accuracy: 0.5750 - val_loss: 0.6876 - val_accuracy: 0.5460\n",
      "Epoch 5/10\n",
      "100/100 [==============================] - 18s 178ms/step - loss: 0.6823 - accuracy: 0.5555 - val_loss: 0.6670 - val_accuracy: 0.5940\n",
      "Epoch 6/10\n",
      "100/100 [==============================] - 18s 175ms/step - loss: 0.6754 - accuracy: 0.5810 - val_loss: 0.6665 - val_accuracy: 0.6290\n",
      "Epoch 7/10\n",
      "100/100 [==============================] - 17s 174ms/step - loss: 0.6640 - accuracy: 0.5990 - val_loss: 0.6594 - val_accuracy: 0.6000\n",
      "Epoch 8/10\n",
      "100/100 [==============================] - 17s 174ms/step - loss: 0.6623 - accuracy: 0.5975 - val_loss: 0.6485 - val_accuracy: 0.6400\n",
      "Epoch 9/10\n",
      "100/100 [==============================] - 17s 172ms/step - loss: 0.6466 - accuracy: 0.6055 - val_loss: 0.6436 - val_accuracy: 0.6200\n",
      "Epoch 10/10\n",
      "100/100 [==============================] - 18s 176ms/step - loss: 0.6433 - accuracy: 0.6275 - val_loss: 0.6614 - val_accuracy: 0.5950\n"
     ]
    }
   ],
   "source": [
    "history = model.fit(train_ds, \n",
    "                    steps_per_epoch=100, \n",
    "                    epochs=10, \n",
    "                    validation_data=val_ds, \n",
    "                    validation_steps=50)"
   ]
  },
  {
   "cell_type": "code",
   "execution_count": null,
   "metadata": {},
   "outputs": [],
   "source": []
  },
  {
   "cell_type": "code",
   "execution_count": 12,
   "metadata": {},
   "outputs": [
    {
     "data": {
      "image/png": "[encoded data removed]",
      "text/plain": [
       "<Figure size 576x432 with 1 Axes>"
      ]
     },
     "metadata": {
      "needs_background": "light"
     },
     "output_type": "display_data"
    }
   ],
   "source": [
    "plt.plot(history.history['accuracy'], label='train')\n",
    "plt.plot(history.history['val_accuracy'], label='val')\n",
    "plt.xticks(range(10))\n",
    "plt.legend()\n",
    "plt.show();"
   ]
  },
  {
   "cell_type": "code",
   "execution_count": 13,
   "metadata": {},
   "outputs": [
    {
     "data": {
      "image/png": "[encoded data removed]",
      "text/plain": [
       "<Figure size 576x432 with 1 Axes>"
      ]
     },
     "metadata": {
      "needs_background": "light"
     },
     "output_type": "display_data"
    }
   ],
   "source": [
    "plt.plot(history.history['loss'], label='train')\n",
    "plt.plot(history.history['val_loss'], label='val')\n",
    "plt.xticks(range(10))\n",
    "plt.legend()\n",
    "plt.show();"
   ]
  },
  {
   "cell_type": "code",
   "execution_count": null,
   "metadata": {},
   "outputs": [],
   "source": []
  },
  {
   "cell_type": "markdown",
   "metadata": {},
   "source": [
    "### Question 3\n",
    "\n",
    "What is the median of training accuracy for this model?"
   ]
  },
  {
   "cell_type": "code",
   "execution_count": 14,
   "metadata": {},
   "outputs": [
    {
     "data": {
      "text/plain": [
       "0.578"
      ]
     },
     "execution_count": 14,
     "metadata": {},
     "output_type": "execute_result"
    }
   ],
   "source": [
    "np.median(history.history['accuracy']).round(3)"
   ]
  },
  {
   "cell_type": "markdown",
   "metadata": {},
   "source": [
    "### Question 4\n",
    "\n",
    "What is the standard deviation of training loss for this model?"
   ]
  },
  {
   "cell_type": "code",
   "execution_count": 15,
   "metadata": {},
   "outputs": [
    {
     "data": {
      "text/plain": [
       "0.016"
      ]
     },
     "execution_count": 15,
     "metadata": {},
     "output_type": "execute_result"
    }
   ],
   "source": [
    "np.std(history.history['loss']).round(3)"
   ]
  },
  {
   "cell_type": "code",
   "execution_count": null,
   "metadata": {},
   "outputs": [],
   "source": []
  },
  {
   "cell_type": "markdown",
   "metadata": {},
   "source": [
    "### Data Augmentation\n",
    "\n",
    "For the next two questions, we'll generate more data using data augmentations. \n",
    "\n",
    "Add the following augmentations to your training data generator:\n",
    "\n",
    "* `rotation_range=40,`\n",
    "* `width_shift_range=0.2,`\n",
    "* `height_shift_range=0.2,`\n",
    "* `shear_range=0.2,`\n",
    "* `zoom_range=0.2,`\n",
    "* `horizontal_flip=True,`\n",
    "* `fill_mode='nearest'`"
   ]
  },
  {
   "cell_type": "code",
   "execution_count": null,
   "metadata": {},
   "outputs": [],
   "source": []
  },
  {
   "cell_type": "markdown",
   "metadata": {},
   "source": [
    "### Question 5 \n",
    "\n",
    "Let's train our model for 10 more epochs using the same code as previously.\n",
    "Make sure you don't re-create the model - we want to continue training the model\n",
    "we already started training.\n",
    "\n",
    "What is the mean of validation loss for the model trained with augmentations?"
   ]
  },
  {
   "cell_type": "code",
   "execution_count": 17,
   "metadata": {},
   "outputs": [
    {
     "name": "stdout",
     "output_type": "stream",
     "text": [
      "Found 20000 images belonging to 2 classes.\n"
     ]
    }
   ],
   "source": [
    "train_generator_aug = ImageDataGenerator(rescale=1./255,\n",
    "                                         rotation_range=40,\n",
    "                                         width_shift_range=0.2,\n",
    "                                         height_shift_range=0.2,\n",
    "                                         shear_range=0.2,\n",
    "                                         zoom_range=0.2,\n",
    "                                         horizontal_flip=True,\n",
    "                                         fill_mode='nearest')\n",
    "\n",
    "train_ds_aug = train_generator_aug.flow_from_directory('train', \n",
    "                                                       target_size=(150, 150), \n",
    "                                                       batch_size=20, \n",
    "                                                       class_mode='binary',\n",
    "                                                       shuffle=True)"
   ]
  },
  {
   "cell_type": "code",
   "execution_count": 18,
   "metadata": {},
   "outputs": [
    {
     "name": "stdout",
     "output_type": "stream",
     "text": [
      "Found 5000 images belonging to 2 classes.\n"
     ]
    }
   ],
   "source": [
    "val_generator_aug = ImageDataGenerator(rescale=1./255,\n",
    "                                         rotation_range=40,\n",
    "                                         width_shift_range=0.2,\n",
    "                                         height_shift_range=0.2,\n",
    "                                         shear_range=0.2,\n",
    "                                         zoom_range=0.2,\n",
    "                                         horizontal_flip=True,\n",
    "                                         fill_mode='nearest')\n",
    "\n",
    "val_ds_aug = val_generator_aug.flow_from_directory('validation', \n",
    "                                                   target_size=(150, 150), \n",
    "                                                   batch_size=20, \n",
    "                                                   class_mode='binary', \n",
    "                                                   shuffle=True)"
   ]
  },
  {
   "cell_type": "code",
   "execution_count": null,
   "metadata": {},
   "outputs": [],
   "source": []
  },
  {
   "cell_type": "code",
   "execution_count": 19,
   "metadata": {},
   "outputs": [
    {
     "name": "stdout",
     "output_type": "stream",
     "text": [
      "Epoch 1/10\n",
      "100/100 [==============================] - 32s 322ms/step - loss: 0.6649 - accuracy: 0.5875 - val_loss: 0.6649 - val_accuracy: 0.5860\n",
      "Epoch 2/10\n",
      "100/100 [==============================] - 32s 315ms/step - loss: 0.6634 - accuracy: 0.5910 - val_loss: 0.6708 - val_accuracy: 0.5560\n",
      "Epoch 3/10\n",
      "100/100 [==============================] - 32s 317ms/step - loss: 0.6704 - accuracy: 0.5730 - val_loss: 0.6650 - val_accuracy: 0.5830\n",
      "Epoch 4/10\n",
      "100/100 [==============================] - 31s 314ms/step - loss: 0.6612 - accuracy: 0.6010 - val_loss: 0.6572 - val_accuracy: 0.5830\n",
      "Epoch 5/10\n",
      "100/100 [==============================] - 32s 317ms/step - loss: 0.6548 - accuracy: 0.5985 - val_loss: 0.6460 - val_accuracy: 0.6160\n",
      "Epoch 6/10\n",
      "100/100 [==============================] - 31s 313ms/step - loss: 0.6582 - accuracy: 0.6095 - val_loss: 0.6373 - val_accuracy: 0.6370\n",
      "Epoch 7/10\n",
      "100/100 [==============================] - 32s 315ms/step - loss: 0.6579 - accuracy: 0.5965 - val_loss: 0.6664 - val_accuracy: 0.5740\n",
      "Epoch 8/10\n",
      "100/100 [==============================] - 31s 314ms/step - loss: 0.6486 - accuracy: 0.6125 - val_loss: 0.6606 - val_accuracy: 0.5910\n",
      "Epoch 9/10\n",
      "100/100 [==============================] - 31s 312ms/step - loss: 0.6592 - accuracy: 0.5980 - val_loss: 0.6450 - val_accuracy: 0.6240\n",
      "Epoch 10/10\n",
      "100/100 [==============================] - 31s 311ms/step - loss: 0.6576 - accuracy: 0.6070 - val_loss: 0.6592 - val_accuracy: 0.6030\n"
     ]
    }
   ],
   "source": [
    "history_aug = model.fit(train_ds_aug, \n",
    "                        steps_per_epoch=100, \n",
    "                        epochs=10, \n",
    "                        validation_data=val_ds_aug, \n",
    "                        validation_steps=50)"
   ]
  },
  {
   "cell_type": "code",
   "execution_count": 20,
   "metadata": {},
   "outputs": [
    {
     "data": {
      "image/png": "[encoded data removed]",
      "text/plain": [
       "<Figure size 576x432 with 1 Axes>"
      ]
     },
     "metadata": {
      "needs_background": "light"
     },
     "output_type": "display_data"
    }
   ],
   "source": [
    "plt.plot(history_aug.history['accuracy'], label='train_aug')\n",
    "plt.plot(history_aug.history['val_accuracy'], label='val_aug')\n",
    "plt.xticks(range(10))\n",
    "plt.legend()\n",
    "plt.show();"
   ]
  },
  {
   "cell_type": "code",
   "execution_count": 21,
   "metadata": {},
   "outputs": [
    {
     "data": {
      "image/png": "[encoded data removed]",
      "text/plain": [
       "<Figure size 576x432 with 1 Axes>"
      ]
     },
     "metadata": {
      "needs_background": "light"
     },
     "output_type": "display_data"
    }
   ],
   "source": [
    "plt.plot(history_aug.history['loss'], label='train_aug')\n",
    "plt.plot(history_aug.history['val_loss'], label='val_aug')\n",
    "plt.xticks(range(10))\n",
    "plt.legend()\n",
    "plt.show();"
   ]
  },
  {
   "cell_type": "code",
   "execution_count": null,
   "metadata": {},
   "outputs": [],
   "source": []
  },
  {
   "cell_type": "code",
   "execution_count": 22,
   "metadata": {},
   "outputs": [
    {
     "data": {
      "text/plain": [
       "0.657"
      ]
     },
     "execution_count": 22,
     "metadata": {},
     "output_type": "execute_result"
    }
   ],
   "source": [
    "np.mean(history_aug.history['val_loss']).round(3)"
   ]
  },
  {
   "cell_type": "markdown",
   "metadata": {},
   "source": [
    "**Answer: 0.67**"
   ]
  },
  {
   "cell_type": "markdown",
   "metadata": {},
   "source": [
    "### Question 6\n",
    "\n",
    "What's the average of validation accuracy for the last 5 epochs (from 6 to 10)\n",
    "for the model trained with augmentations?"
   ]
  },
  {
   "cell_type": "code",
   "execution_count": 26,
   "metadata": {},
   "outputs": [
    {
     "data": {
      "text/plain": [
       "0.606"
      ]
     },
     "execution_count": 26,
     "metadata": {},
     "output_type": "execute_result"
    }
   ],
   "source": [
    "np.mean(history_aug.history['val_accuracy'][-5:]).round(3)"
   ]
  },
  {
   "cell_type": "markdown",
   "metadata": {},
   "source": [
    "**Answer: 0.65**"
   ]
  },
  {
   "cell_type": "code",
   "execution_count": null,
   "metadata": {},
   "outputs": [],
   "source": []
  }
 ],
 "metadata": {
  "kernelspec": {
   "display_name": "Python (mlb_env)",
   "language": "python",
   "name": "core_env"
  },
  "language_info": {
   "codemirror_mode": {
    "name": "ipython",
    "version": 3
   },
   "file_extension": ".py",
   "mimetype": "text/x-python",
   "name": "python",
   "nbconvert_exporter": "python",
   "pygments_lexer": "ipython3",
   "version": "3.8.11"
  }
 },
 "nbformat": 4,
 "nbformat_minor": 4
}
